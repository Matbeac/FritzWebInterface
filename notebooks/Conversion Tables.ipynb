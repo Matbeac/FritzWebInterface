{
 "cells": [
  {
   "cell_type": "code",
   "execution_count": 43,
   "id": "47f58bba",
   "metadata": {},
   "outputs": [],
   "source": [
    "import pandas as pd\n",
    "\n",
    "inds =['gram', 'milliliter', 'teaspoon', 'tablespoon', 'pound','ounce','pinch', 'squid', 'lemon','loaf',\\\n",
    "        'link','clove','sprig','leaf','bunch','pod','package','wedge','slice', '<unit>']\n",
    "data = {'metric':inds ,\\\n",
    "        'to_Kg_multiplier':[1/1000, 1/1000, 5/1000, 15/1000, 1/2.2, 1/35.274, 3/1000, 63/1000, 70/1000, 400/1000,\\\n",
    "        57/1000, 6/1000, 5/1000, 3/1000, 15/1000, 5/1000, 300/1000, 10/1000, 20/1000, 10/1000],}\n",
    "\n",
    "unit_df = pd.DataFrame(data)"
   ]
  },
  {
   "cell_type": "code",
   "execution_count": 44,
   "id": "ba1a5aaa",
   "metadata": {},
   "outputs": [
    {
     "data": {
      "text/html": [
       "<div>\n",
       "<style scoped>\n",
       "    .dataframe tbody tr th:only-of-type {\n",
       "        vertical-align: middle;\n",
       "    }\n",
       "\n",
       "    .dataframe tbody tr th {\n",
       "        vertical-align: top;\n",
       "    }\n",
       "\n",
       "    .dataframe thead th {\n",
       "        text-align: right;\n",
       "    }\n",
       "</style>\n",
       "<table border=\"1\" class=\"dataframe\">\n",
       "  <thead>\n",
       "    <tr style=\"text-align: right;\">\n",
       "      <th></th>\n",
       "      <th>metric</th>\n",
       "      <th>to_Kg_multiplier</th>\n",
       "    </tr>\n",
       "  </thead>\n",
       "  <tbody>\n",
       "    <tr>\n",
       "      <th>0</th>\n",
       "      <td>gram</td>\n",
       "      <td>0.001000</td>\n",
       "    </tr>\n",
       "    <tr>\n",
       "      <th>1</th>\n",
       "      <td>milliliter</td>\n",
       "      <td>0.001000</td>\n",
       "    </tr>\n",
       "    <tr>\n",
       "      <th>2</th>\n",
       "      <td>teaspoon</td>\n",
       "      <td>0.005000</td>\n",
       "    </tr>\n",
       "    <tr>\n",
       "      <th>3</th>\n",
       "      <td>tablespoon</td>\n",
       "      <td>0.015000</td>\n",
       "    </tr>\n",
       "    <tr>\n",
       "      <th>4</th>\n",
       "      <td>pound</td>\n",
       "      <td>0.454545</td>\n",
       "    </tr>\n",
       "    <tr>\n",
       "      <th>5</th>\n",
       "      <td>ounce</td>\n",
       "      <td>0.028349</td>\n",
       "    </tr>\n",
       "    <tr>\n",
       "      <th>6</th>\n",
       "      <td>pinch</td>\n",
       "      <td>0.003000</td>\n",
       "    </tr>\n",
       "    <tr>\n",
       "      <th>7</th>\n",
       "      <td>squid</td>\n",
       "      <td>0.063000</td>\n",
       "    </tr>\n",
       "    <tr>\n",
       "      <th>8</th>\n",
       "      <td>lemon</td>\n",
       "      <td>0.070000</td>\n",
       "    </tr>\n",
       "    <tr>\n",
       "      <th>9</th>\n",
       "      <td>loaf</td>\n",
       "      <td>0.400000</td>\n",
       "    </tr>\n",
       "    <tr>\n",
       "      <th>10</th>\n",
       "      <td>link</td>\n",
       "      <td>0.057000</td>\n",
       "    </tr>\n",
       "    <tr>\n",
       "      <th>11</th>\n",
       "      <td>clove</td>\n",
       "      <td>0.006000</td>\n",
       "    </tr>\n",
       "    <tr>\n",
       "      <th>12</th>\n",
       "      <td>sprig</td>\n",
       "      <td>0.005000</td>\n",
       "    </tr>\n",
       "    <tr>\n",
       "      <th>13</th>\n",
       "      <td>leaf</td>\n",
       "      <td>0.003000</td>\n",
       "    </tr>\n",
       "    <tr>\n",
       "      <th>14</th>\n",
       "      <td>bunch</td>\n",
       "      <td>0.015000</td>\n",
       "    </tr>\n",
       "    <tr>\n",
       "      <th>15</th>\n",
       "      <td>pod</td>\n",
       "      <td>0.005000</td>\n",
       "    </tr>\n",
       "    <tr>\n",
       "      <th>16</th>\n",
       "      <td>package</td>\n",
       "      <td>0.300000</td>\n",
       "    </tr>\n",
       "    <tr>\n",
       "      <th>17</th>\n",
       "      <td>wedge</td>\n",
       "      <td>0.010000</td>\n",
       "    </tr>\n",
       "    <tr>\n",
       "      <th>18</th>\n",
       "      <td>slice</td>\n",
       "      <td>0.020000</td>\n",
       "    </tr>\n",
       "    <tr>\n",
       "      <th>19</th>\n",
       "      <td>&lt;unit&gt;</td>\n",
       "      <td>0.010000</td>\n",
       "    </tr>\n",
       "  </tbody>\n",
       "</table>\n",
       "</div>"
      ],
      "text/plain": [
       "        metric  to_Kg_multiplier\n",
       "0         gram          0.001000\n",
       "1   milliliter          0.001000\n",
       "2     teaspoon          0.005000\n",
       "3   tablespoon          0.015000\n",
       "4        pound          0.454545\n",
       "5        ounce          0.028349\n",
       "6        pinch          0.003000\n",
       "7        squid          0.063000\n",
       "8        lemon          0.070000\n",
       "9         loaf          0.400000\n",
       "10        link          0.057000\n",
       "11       clove          0.006000\n",
       "12       sprig          0.005000\n",
       "13        leaf          0.003000\n",
       "14       bunch          0.015000\n",
       "15         pod          0.005000\n",
       "16     package          0.300000\n",
       "17       wedge          0.010000\n",
       "18       slice          0.020000\n",
       "19      <unit>          0.010000"
      ]
     },
     "execution_count": 44,
     "metadata": {},
     "output_type": "execute_result"
    }
   ],
   "source": [
    "unit_df"
   ]
  },
  {
   "cell_type": "code",
   "execution_count": 32,
   "id": "2b5c6b67",
   "metadata": {},
   "outputs": [],
   "source": [
    "final_result=600"
   ]
  },
  {
   "cell_type": "code",
   "execution_count": 36,
   "id": "b2258d97",
   "metadata": {},
   "outputs": [
    {
     "name": "stdout",
     "output_type": "stream",
     "text": [
      "This releases the same amount of CO2 emissions as driving 1.53 miles in a petrol car.\n",
      "This releases the same amount of CO2 emissions as taking 0.15 8 minute showers.\n",
      "This releases the same amount of CO2 emissions as heating a house for 0.09 hours.\n",
      "This releases the same amount of CO2 emissions as watching 10.91 hours of Netflix.\n"
     ]
    }
   ],
   "source": [
    "print(f\"This releases the same amount of CO2 emissions as driving {round(final_result*0.001*(296/116),2)} miles in a petrol car.\")\n",
    "print(f\"This releases the same amount of CO2 emissions as taking {final_result*0.001*(29/116)} 8 minute showers.\")\n",
    "print(f\"This releases the same amount of CO2 emissions as heating a house for {round((final_result*0.001*(18/116)),2)} hours.\")\n",
    "print(f\"This releases the same amount of CO2 emissions as watching {round(final_result*0.001*(1/float(55/1000)),2)} hours of Netflix.\")"
   ]
  },
  {
   "cell_type": "code",
   "execution_count": 42,
   "id": "e1bb2857",
   "metadata": {},
   "outputs": [
    {
     "name": "stdout",
     "output_type": "stream",
     "text": [
      "This releases the same amount of CO2 emissions as:\n",
      "\n",
      "- Driving 1.53 miles in a petrol car.\n",
      "- Taking 0.15 long showers.\n",
      "- Heating a house for 0.09 hours.\n",
      "- Watching 10.91 hours of Netflix.\n"
     ]
    }
   ],
   "source": [
    "print(\"This releases the same amount of CO2 emissions as:\\n\")\n",
    "print(f\"- Driving {round(final_result*0.001*(296/116),2)} miles in a petrol car.\")\n",
    "print(f\"- Taking {final_result*0.001*(29/116)} long showers.\")\n",
    "print(f\"- Heating a house for {round((final_result*0.001*(18/116)),2)} hours.\")\n",
    "print(f\"- Watching {round(final_result*0.001*(1/float(55/1000)),2)} hours of Netflix.\")"
   ]
  },
  {
   "cell_type": "code",
   "execution_count": 41,
   "id": "04b6f134",
   "metadata": {},
   "outputs": [],
   "source": [
    "miles_per_Kg = round(final_result*0.001*(296/116),2)\n",
    "heating_per_Kg = round(final_result*0.001*(29/116),2)\n",
    "showers_per_Kg = round((final_result*0.001*(18/116)),2)\n",
    "stream_hrs_kg= round(final_result*0.001*(1/float(55/1000)),2)"
   ]
  },
  {
   "cell_type": "code",
   "execution_count": null,
   "id": "a0114d07",
   "metadata": {},
   "outputs": [],
   "source": []
  }
 ],
 "metadata": {
  "kernelspec": {
   "display_name": "Python 3 (ipykernel)",
   "language": "python",
   "name": "python3"
  },
  "language_info": {
   "codemirror_mode": {
    "name": "ipython",
    "version": 3
   },
   "file_extension": ".py",
   "mimetype": "text/x-python",
   "name": "python",
   "nbconvert_exporter": "python",
   "pygments_lexer": "ipython3",
   "version": "3.8.12"
  },
  "toc": {
   "base_numbering": 1,
   "nav_menu": {},
   "number_sections": true,
   "sideBar": true,
   "skip_h1_title": false,
   "title_cell": "Table of Contents",
   "title_sidebar": "Contents",
   "toc_cell": false,
   "toc_position": {},
   "toc_section_display": true,
   "toc_window_display": false
  }
 },
 "nbformat": 4,
 "nbformat_minor": 5
}
