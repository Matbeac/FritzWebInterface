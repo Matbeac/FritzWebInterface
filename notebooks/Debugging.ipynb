{
 "cells": [
  {
   "cell_type": "code",
   "execution_count": 29,
   "id": "4a8e360f",
   "metadata": {},
   "outputs": [],
   "source": [
    "import pandas as pd\n",
    "import numpy as np\n",
    "df=pd.read_csv('../Emission_computing/final_ingredients_emissions.csv')"
   ]
  },
  {
   "cell_type": "code",
   "execution_count": 30,
   "id": "35938609",
   "metadata": {},
   "outputs": [
    {
     "data": {
      "text/html": [
       "<div>\n",
       "<style scoped>\n",
       "    .dataframe tbody tr th:only-of-type {\n",
       "        vertical-align: middle;\n",
       "    }\n",
       "\n",
       "    .dataframe tbody tr th {\n",
       "        vertical-align: top;\n",
       "    }\n",
       "\n",
       "    .dataframe thead th {\n",
       "        text-align: right;\n",
       "    }\n",
       "</style>\n",
       "<table border=\"1\" class=\"dataframe\">\n",
       "  <thead>\n",
       "    <tr style=\"text-align: right;\">\n",
       "      <th></th>\n",
       "      <th>ingredient</th>\n",
       "      <th>emissions</th>\n",
       "    </tr>\n",
       "  </thead>\n",
       "  <tbody>\n",
       "    <tr>\n",
       "      <th>0</th>\n",
       "      <td>allspice</td>\n",
       "      <td>1133</td>\n",
       "    </tr>\n",
       "    <tr>\n",
       "      <th>1</th>\n",
       "      <td>almond extract</td>\n",
       "      <td>656</td>\n",
       "    </tr>\n",
       "    <tr>\n",
       "      <th>2</th>\n",
       "      <td>almonds</td>\n",
       "      <td>2856</td>\n",
       "    </tr>\n",
       "    <tr>\n",
       "      <th>3</th>\n",
       "      <td>anchovies</td>\n",
       "      <td>4220</td>\n",
       "    </tr>\n",
       "    <tr>\n",
       "      <th>4</th>\n",
       "      <td>apple juice</td>\n",
       "      <td>2440</td>\n",
       "    </tr>\n",
       "    <tr>\n",
       "      <th>...</th>\n",
       "      <td>...</td>\n",
       "      <td>...</td>\n",
       "    </tr>\n",
       "    <tr>\n",
       "      <th>405</th>\n",
       "      <td>whiskey</td>\n",
       "      <td>2320</td>\n",
       "    </tr>\n",
       "    <tr>\n",
       "      <th>406</th>\n",
       "      <td>whiting</td>\n",
       "      <td>4362</td>\n",
       "    </tr>\n",
       "    <tr>\n",
       "      <th>407</th>\n",
       "      <td>wine</td>\n",
       "      <td>1369</td>\n",
       "    </tr>\n",
       "    <tr>\n",
       "      <th>408</th>\n",
       "      <td>worcestershire sauce</td>\n",
       "      <td>222</td>\n",
       "    </tr>\n",
       "    <tr>\n",
       "      <th>409</th>\n",
       "      <td>yogurt</td>\n",
       "      <td>2200</td>\n",
       "    </tr>\n",
       "  </tbody>\n",
       "</table>\n",
       "<p>410 rows × 2 columns</p>\n",
       "</div>"
      ],
      "text/plain": [
       "               ingredient  emissions\n",
       "0                allspice       1133\n",
       "1          almond extract        656\n",
       "2                 almonds       2856\n",
       "3               anchovies       4220\n",
       "4             apple juice       2440\n",
       "..                    ...        ...\n",
       "405               whiskey       2320\n",
       "406               whiting       4362\n",
       "407                  wine       1369\n",
       "408  worcestershire sauce        222\n",
       "409                yogurt       2200\n",
       "\n",
       "[410 rows x 2 columns]"
      ]
     },
     "execution_count": 30,
     "metadata": {},
     "output_type": "execute_result"
    }
   ],
   "source": [
    "df"
   ]
  },
  {
   "cell_type": "code",
   "execution_count": 16,
   "id": "cc56a825",
   "metadata": {},
   "outputs": [],
   "source": [
    "output_dict={'ingredient': ['chili', 'fresh ginger', 'garlic', 'cilantro', 'limes', 'salt', 'chile paste', 'red onion', 'sea bass', 'chili', 'cilantro', 'chili', 'sweet potato', 'fine sea salt'], 'value': [0.0, 0.06, 0.25, 1.0, 2.0, 0.12, 0.5, 0.25, 0.33, 0.0, 0.25, 0.25, 0.25, 0.0], 'metric': [None, 'piece', 'clove', 'sprig', '<unit>', 'teaspoon', 'teaspoon', '<unit>', 'pound', None, 'sprig', '<unit>', '<unit>', None]}"
   ]
  },
  {
   "cell_type": "code",
   "execution_count": 22,
   "id": "ad90341c",
   "metadata": {},
   "outputs": [
    {
     "data": {
      "text/plain": [
       "{'ingredient': ['chili',\n",
       "  'fresh ginger',\n",
       "  'garlic',\n",
       "  'cilantro',\n",
       "  'limes',\n",
       "  'salt',\n",
       "  'chile paste',\n",
       "  'red onion',\n",
       "  'sea bass',\n",
       "  'chili',\n",
       "  'cilantro',\n",
       "  'chili',\n",
       "  'sweet potato',\n",
       "  'fine sea salt'],\n",
       " 'value': [0.0,\n",
       "  0.06,\n",
       "  0.25,\n",
       "  1.0,\n",
       "  2.0,\n",
       "  0.12,\n",
       "  0.5,\n",
       "  0.25,\n",
       "  0.33,\n",
       "  0.0,\n",
       "  0.25,\n",
       "  0.25,\n",
       "  0.25,\n",
       "  0.0],\n",
       " 'metric': [None,\n",
       "  'piece',\n",
       "  'clove',\n",
       "  'sprig',\n",
       "  '<unit>',\n",
       "  'teaspoon',\n",
       "  'teaspoon',\n",
       "  '<unit>',\n",
       "  'pound',\n",
       "  None,\n",
       "  'sprig',\n",
       "  '<unit>',\n",
       "  '<unit>',\n",
       "  None]}"
      ]
     },
     "execution_count": 22,
     "metadata": {},
     "output_type": "execute_result"
    }
   ],
   "source": [
    "output_dict"
   ]
  },
  {
   "cell_type": "code",
   "execution_count": 23,
   "id": "ee6c3959",
   "metadata": {},
   "outputs": [],
   "source": [
    "missing_values = [\"<unit>\", 'None']"
   ]
  },
  {
   "cell_type": "code",
   "execution_count": 18,
   "id": "1c39faed",
   "metadata": {},
   "outputs": [],
   "source": [
    "def fill_empties(output_dict):\n",
    "    output_df=pd.DataFrame(output_dict)\n",
    "    output_df.metric=output_df.metric.astype(str)\n",
    "    for item in missing_values:\n",
    "        output_df.metric.replace(item, \"g\", inplace=True)\n",
    "    return output_df"
   ]
  },
  {
   "cell_type": "code",
   "execution_count": 101,
   "id": "022149b5",
   "metadata": {},
   "outputs": [],
   "source": [
    "def match_ingredients(output_df):\n",
    "    final_dict={'ingredient':[], 'emission':[]}\n",
    "    missing_ingredients={'missing_ingredients':[]}\n",
    "    \n",
    "\n",
    "\n",
    "\n",
    "    \n",
    "    for ingredient in output_df['ingredient']:\n",
    "        # 1. Lemmatize \n",
    "        ingredient_words=re.split('\\s+', ingredient)\n",
    "        lemmatizer = WordNetLemmatizer()\n",
    "        lemmatized_output = ' '.join([lemmatizer.lemmatize(w) for w in ingredient_words])\n",
    "        \n",
    "        # 2. Try the whole lemmatized sentence\n",
    "        if df[df['ingredient'].str.match(r'.*'+str(lemmatized_output)+'.*')== True].ingredient.values.size>0:\n",
    "                final_dict['ingredient'].append(df[df['ingredient'].str.match(r'.*'+str(lemmatized_output)+'.*')== True].ingredient.values[0])\n",
    "                final_dict['emission'].append(df[df['ingredient'].str.match(r'.*'+str(lemmatized_output)+'.*')== True].emissions.values[0])\n",
    "        \n",
    "        # 3. If the lemmatized output does not work, try the words\n",
    "        else:\n",
    "            for word in ingredient_words:\n",
    "                try:\n",
    "                    final_dict['ingredient'].append(df[df['ingredient'].str.match(r'.*'+str(word)+'.*')== True].ingredient.values[0])\n",
    "                    final_dict['emission'].append(df[df['ingredient'].str.match(r'.*'+str(word)+'.*')== True].emissions.values[0])\n",
    "                except IndexError:\n",
    "                    missing_ingredients['missing_ingredients'].append(ingredient)\n",
    "            \n",
    "    final_df=pd.DataFrame(final_dict)\n",
    "    \n",
    "    \n",
    "    # Adding the columns \"value\" and metric from output_dict\n",
    "    final_df=final_df.merge(output_df,on=\"ingredient\")\n",
    "#     final_df['value']=output_df['value']\n",
    "#     final_df['metric']=output_df['metric']\n",
    "    return final_df,missing_ingredients"
   ]
  },
  {
   "cell_type": "code",
   "execution_count": 94,
   "id": "e9dc5e4f",
   "metadata": {},
   "outputs": [],
   "source": [
    "def convert(final_df):\n",
    "    output_df=final_df.merge(conv_df, on='metric')\n",
    "    output_df[\"calculated gCO2e\"]=output_df[\"emission\"]*output_df[\"value\"].astype('int64')*output_df[\"to_Kg_multiplier\"]    \n",
    "    return output_df"
   ]
  },
  {
   "cell_type": "code",
   "execution_count": 95,
   "id": "c0cd575b",
   "metadata": {},
   "outputs": [],
   "source": [
    "output_df=fill_empties(output_dict)"
   ]
  },
  {
   "cell_type": "code",
   "execution_count": 103,
   "id": "3e2fca1d",
   "metadata": {},
   "outputs": [],
   "source": [
    "final_df,missing_ingredients=match_ingredients(output_df)"
   ]
  },
  {
   "cell_type": "code",
   "execution_count": 104,
   "id": "8c46d8b9",
   "metadata": {},
   "outputs": [
    {
     "data": {
      "text/html": [
       "<div>\n",
       "<style scoped>\n",
       "    .dataframe tbody tr th:only-of-type {\n",
       "        vertical-align: middle;\n",
       "    }\n",
       "\n",
       "    .dataframe tbody tr th {\n",
       "        vertical-align: top;\n",
       "    }\n",
       "\n",
       "    .dataframe thead th {\n",
       "        text-align: right;\n",
       "    }\n",
       "</style>\n",
       "<table border=\"1\" class=\"dataframe\">\n",
       "  <thead>\n",
       "    <tr style=\"text-align: right;\">\n",
       "      <th></th>\n",
       "      <th>ingredient</th>\n",
       "      <th>emission</th>\n",
       "      <th>value</th>\n",
       "      <th>metric</th>\n",
       "    </tr>\n",
       "  </thead>\n",
       "  <tbody>\n",
       "    <tr>\n",
       "      <th>0</th>\n",
       "      <td>garlic</td>\n",
       "      <td>452</td>\n",
       "      <td>0.25</td>\n",
       "      <td>clove</td>\n",
       "    </tr>\n",
       "    <tr>\n",
       "      <th>1</th>\n",
       "      <td>salt</td>\n",
       "      <td>1133</td>\n",
       "      <td>0.12</td>\n",
       "      <td>teaspoon</td>\n",
       "    </tr>\n",
       "    <tr>\n",
       "      <th>2</th>\n",
       "      <td>salt</td>\n",
       "      <td>1133</td>\n",
       "      <td>0.12</td>\n",
       "      <td>teaspoon</td>\n",
       "    </tr>\n",
       "    <tr>\n",
       "      <th>3</th>\n",
       "      <td>red onion</td>\n",
       "      <td>1051</td>\n",
       "      <td>0.25</td>\n",
       "      <td>g</td>\n",
       "    </tr>\n",
       "    <tr>\n",
       "      <th>4</th>\n",
       "      <td>sea bass</td>\n",
       "      <td>4362</td>\n",
       "      <td>0.33</td>\n",
       "      <td>pound</td>\n",
       "    </tr>\n",
       "    <tr>\n",
       "      <th>5</th>\n",
       "      <td>sea bass</td>\n",
       "      <td>4362</td>\n",
       "      <td>0.33</td>\n",
       "      <td>pound</td>\n",
       "    </tr>\n",
       "    <tr>\n",
       "      <th>6</th>\n",
       "      <td>sweet potato</td>\n",
       "      <td>1273</td>\n",
       "      <td>0.25</td>\n",
       "      <td>g</td>\n",
       "    </tr>\n",
       "  </tbody>\n",
       "</table>\n",
       "</div>"
      ],
      "text/plain": [
       "     ingredient  emission  value    metric\n",
       "0        garlic       452   0.25     clove\n",
       "1          salt      1133   0.12  teaspoon\n",
       "2          salt      1133   0.12  teaspoon\n",
       "3     red onion      1051   0.25         g\n",
       "4      sea bass      4362   0.33     pound\n",
       "5      sea bass      4362   0.33     pound\n",
       "6  sweet potato      1273   0.25         g"
      ]
     },
     "execution_count": 104,
     "metadata": {},
     "output_type": "execute_result"
    }
   ],
   "source": [
    "final_df"
   ]
  },
  {
   "cell_type": "code",
   "execution_count": 42,
   "id": "2b8184d6",
   "metadata": {},
   "outputs": [
    {
     "data": {
      "text/html": [
       "<div>\n",
       "<style scoped>\n",
       "    .dataframe tbody tr th:only-of-type {\n",
       "        vertical-align: middle;\n",
       "    }\n",
       "\n",
       "    .dataframe tbody tr th {\n",
       "        vertical-align: top;\n",
       "    }\n",
       "\n",
       "    .dataframe thead th {\n",
       "        text-align: right;\n",
       "    }\n",
       "</style>\n",
       "<table border=\"1\" class=\"dataframe\">\n",
       "  <thead>\n",
       "    <tr style=\"text-align: right;\">\n",
       "      <th></th>\n",
       "      <th>ingredient</th>\n",
       "      <th>value</th>\n",
       "      <th>metric</th>\n",
       "    </tr>\n",
       "  </thead>\n",
       "  <tbody>\n",
       "    <tr>\n",
       "      <th>0</th>\n",
       "      <td>chili</td>\n",
       "      <td>0.00</td>\n",
       "      <td>g</td>\n",
       "    </tr>\n",
       "    <tr>\n",
       "      <th>1</th>\n",
       "      <td>fresh ginger</td>\n",
       "      <td>0.06</td>\n",
       "      <td>piece</td>\n",
       "    </tr>\n",
       "    <tr>\n",
       "      <th>2</th>\n",
       "      <td>garlic</td>\n",
       "      <td>0.25</td>\n",
       "      <td>clove</td>\n",
       "    </tr>\n",
       "    <tr>\n",
       "      <th>3</th>\n",
       "      <td>cilantro</td>\n",
       "      <td>1.00</td>\n",
       "      <td>sprig</td>\n",
       "    </tr>\n",
       "    <tr>\n",
       "      <th>4</th>\n",
       "      <td>limes</td>\n",
       "      <td>2.00</td>\n",
       "      <td>g</td>\n",
       "    </tr>\n",
       "    <tr>\n",
       "      <th>5</th>\n",
       "      <td>salt</td>\n",
       "      <td>0.12</td>\n",
       "      <td>teaspoon</td>\n",
       "    </tr>\n",
       "    <tr>\n",
       "      <th>6</th>\n",
       "      <td>chile paste</td>\n",
       "      <td>0.50</td>\n",
       "      <td>teaspoon</td>\n",
       "    </tr>\n",
       "    <tr>\n",
       "      <th>7</th>\n",
       "      <td>red onion</td>\n",
       "      <td>0.25</td>\n",
       "      <td>g</td>\n",
       "    </tr>\n",
       "    <tr>\n",
       "      <th>8</th>\n",
       "      <td>sea bass</td>\n",
       "      <td>0.33</td>\n",
       "      <td>pound</td>\n",
       "    </tr>\n",
       "    <tr>\n",
       "      <th>9</th>\n",
       "      <td>chili</td>\n",
       "      <td>0.00</td>\n",
       "      <td>g</td>\n",
       "    </tr>\n",
       "    <tr>\n",
       "      <th>10</th>\n",
       "      <td>cilantro</td>\n",
       "      <td>0.25</td>\n",
       "      <td>sprig</td>\n",
       "    </tr>\n",
       "    <tr>\n",
       "      <th>11</th>\n",
       "      <td>chili</td>\n",
       "      <td>0.25</td>\n",
       "      <td>g</td>\n",
       "    </tr>\n",
       "    <tr>\n",
       "      <th>12</th>\n",
       "      <td>sweet potato</td>\n",
       "      <td>0.25</td>\n",
       "      <td>g</td>\n",
       "    </tr>\n",
       "    <tr>\n",
       "      <th>13</th>\n",
       "      <td>fine sea salt</td>\n",
       "      <td>0.00</td>\n",
       "      <td>g</td>\n",
       "    </tr>\n",
       "  </tbody>\n",
       "</table>\n",
       "</div>"
      ],
      "text/plain": [
       "       ingredient  value    metric\n",
       "0           chili   0.00         g\n",
       "1    fresh ginger   0.06     piece\n",
       "2          garlic   0.25     clove\n",
       "3        cilantro   1.00     sprig\n",
       "4           limes   2.00         g\n",
       "5            salt   0.12  teaspoon\n",
       "6     chile paste   0.50  teaspoon\n",
       "7       red onion   0.25         g\n",
       "8        sea bass   0.33     pound\n",
       "9           chili   0.00         g\n",
       "10       cilantro   0.25     sprig\n",
       "11          chili   0.25         g\n",
       "12   sweet potato   0.25         g\n",
       "13  fine sea salt   0.00         g"
      ]
     },
     "execution_count": 42,
     "metadata": {},
     "output_type": "execute_result"
    }
   ],
   "source": [
    "output_df"
   ]
  },
  {
   "cell_type": "code",
   "execution_count": null,
   "id": "92309634",
   "metadata": {},
   "outputs": [],
   "source": []
  },
  {
   "cell_type": "code",
   "execution_count": 64,
   "id": "95e633f2",
   "metadata": {},
   "outputs": [
    {
     "data": {
      "text/plain": [
       "'sweet potato'"
      ]
     },
     "execution_count": 64,
     "metadata": {},
     "output_type": "execute_result"
    }
   ],
   "source": [
    "df[df['ingredient'].str.match(r'^'+str(\"sweet potato\")+'.*')== True].ingredient.values[0]"
   ]
  },
  {
   "cell_type": "code",
   "execution_count": 45,
   "id": "c479d852",
   "metadata": {},
   "outputs": [],
   "source": [
    "import re"
   ]
  },
  {
   "cell_type": "code",
   "execution_count": 46,
   "id": "647b0bdf",
   "metadata": {},
   "outputs": [
    {
     "data": {
      "text/plain": [
       "['cherry', 'tomatoes']"
      ]
     },
     "execution_count": 46,
     "metadata": {},
     "output_type": "execute_result"
    }
   ],
   "source": [
    "re.split('\\s+', \"cherry tomatoes\")"
   ]
  },
  {
   "cell_type": "code",
   "execution_count": 66,
   "id": "59210b50",
   "metadata": {},
   "outputs": [],
   "source": [
    "import nltk\n",
    "from nltk.stem import WordNetLemmatizer "
   ]
  },
  {
   "cell_type": "code",
   "execution_count": 70,
   "id": "0f91488d",
   "metadata": {},
   "outputs": [],
   "source": [
    "lemmatizer = WordNetLemmatizer()"
   ]
  },
  {
   "cell_type": "code",
   "execution_count": 75,
   "id": "b385f90e",
   "metadata": {},
   "outputs": [
    {
     "name": "stdout",
     "output_type": "stream",
     "text": [
      "sweet potatoes\n"
     ]
    }
   ],
   "source": [
    "print(lemmatizer.lemmatize(\"sweet potatoes\"))"
   ]
  },
  {
   "cell_type": "code",
   "execution_count": 72,
   "id": "43961020",
   "metadata": {},
   "outputs": [
    {
     "name": "stderr",
     "output_type": "stream",
     "text": [
      "[nltk_data] Downloading package wordnet to /home/mateo/nltk_data...\n",
      "[nltk_data]   Unzipping corpora/wordnet.zip.\n"
     ]
    },
    {
     "data": {
      "text/plain": [
       "True"
      ]
     },
     "execution_count": 72,
     "metadata": {},
     "output_type": "execute_result"
    }
   ],
   "source": [
    "nltk.download('wordnet')"
   ]
  },
  {
   "cell_type": "code",
   "execution_count": 84,
   "id": "1473424d",
   "metadata": {},
   "outputs": [
    {
     "name": "stdout",
     "output_type": "stream",
     "text": [
      "Not OK\n"
     ]
    }
   ],
   "source": [
    "if df[df['ingredient'].str.match(r'^'+str(\"word\")+'.*')== True].ingredient.values.size>0:\n",
    "    print('OK')\n",
    "else:\n",
    "    print('Not OK')"
   ]
  },
  {
   "cell_type": "markdown",
   "id": "a9e28ebe",
   "metadata": {},
   "source": [
    "# Solving the API issue"
   ]
  },
  {
   "cell_type": "code",
   "execution_count": 32,
   "id": "0daf3a83",
   "metadata": {},
   "outputs": [],
   "source": [
    "def load_image(img):\n",
    "    im = Image.open(img)\n",
    "    image = im.resize((224,224))    \n",
    "\n",
    "    return image"
   ]
  },
  {
   "cell_type": "code",
   "execution_count": 33,
   "id": "764fd64d",
   "metadata": {},
   "outputs": [],
   "source": [
    "img=load_image(\"../2014_Bruschetta_The_Larder_Chiang_Mai.jpg\")"
   ]
  },
  {
   "cell_type": "code",
   "execution_count": 37,
   "id": "d801f1b1",
   "metadata": {},
   "outputs": [],
   "source": [
    "img=np.array(img)"
   ]
  },
  {
   "cell_type": "code",
   "execution_count": 38,
   "id": "42c45b22",
   "metadata": {},
   "outputs": [
    {
     "data": {
      "text/plain": [
       "(224, 224, 3)"
      ]
     },
     "execution_count": 38,
     "metadata": {},
     "output_type": "execute_result"
    }
   ],
   "source": [
    "img.shape"
   ]
  },
  {
   "cell_type": "code",
   "execution_count": 27,
   "id": "05200457",
   "metadata": {},
   "outputs": [],
   "source": [
    "import PIL\n",
    "from PIL import Image\n",
    "import numpy as np\n",
    "import json"
   ]
  },
  {
   "cell_type": "code",
   "execution_count": 13,
   "id": "2a87b662",
   "metadata": {},
   "outputs": [],
   "source": [
    "X = img.reshape(img.shape[0]*img.shape[1]*img.shape[2])\n",
    "X=X.tolist()\n",
    "X_json=json.dumps(X)"
   ]
  },
  {
   "cell_type": "code",
   "execution_count": 22,
   "id": "9d8b4342",
   "metadata": {},
   "outputs": [],
   "source": [
    "import pickle"
   ]
  },
  {
   "cell_type": "code",
   "execution_count": 24,
   "id": "2d74fb66",
   "metadata": {},
   "outputs": [],
   "source": [
    "filehandler = open(b\"../Image.obj\",\"wb\")\n",
    "# pickle.dump(response_reshape,filehandler)"
   ]
  },
  {
   "cell_type": "code",
   "execution_count": 25,
   "id": "3c26d75a",
   "metadata": {},
   "outputs": [
    {
     "data": {
      "text/plain": [
       "<_io.BufferedWriter name=b'../Image.obj'>"
      ]
     },
     "execution_count": 25,
     "metadata": {},
     "output_type": "execute_result"
    }
   ],
   "source": [
    "filehandler"
   ]
  },
  {
   "cell_type": "code",
   "execution_count": null,
   "id": "000718be",
   "metadata": {},
   "outputs": [],
   "source": []
  }
 ],
 "metadata": {
  "kernelspec": {
   "display_name": "Python 3 (ipykernel)",
   "language": "python",
   "name": "python3"
  },
  "language_info": {
   "codemirror_mode": {
    "name": "ipython",
    "version": 3
   },
   "file_extension": ".py",
   "mimetype": "text/x-python",
   "name": "python",
   "nbconvert_exporter": "python",
   "pygments_lexer": "ipython3",
   "version": "3.8.12"
  },
  "toc": {
   "base_numbering": 1,
   "nav_menu": {},
   "number_sections": true,
   "sideBar": true,
   "skip_h1_title": false,
   "title_cell": "Table of Contents",
   "title_sidebar": "Contents",
   "toc_cell": false,
   "toc_position": {},
   "toc_section_display": true,
   "toc_window_display": false
  }
 },
 "nbformat": 4,
 "nbformat_minor": 5
}
