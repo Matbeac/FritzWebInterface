{
 "cells": [
  {
   "cell_type": "code",
   "execution_count": 37,
   "id": "4a8e360f",
   "metadata": {},
   "outputs": [
    {
     "name": "stderr",
     "output_type": "stream",
     "text": [
      "/home/mateo/.pyenv/versions/3.8.12/envs/FritzWebInterface/lib/python3.8/site-packages/IPython/core/interactiveshell.py:3444: FutureWarning: The error_bad_lines argument has been deprecated and will be removed in a future version.\n",
      "\n",
      "\n",
      "  exec(code_obj, self.user_global_ns, self.user_ns)\n",
      "b'Skipping line 280: expected 2 fields, saw 4\\n'\n",
      "[nltk_data] Downloading package wordnet to /home/mateo/nltk_data...\n",
      "[nltk_data]   Package wordnet is already up-to-date!\n"
     ]
    },
    {
     "data": {
      "text/plain": [
       "True"
      ]
     },
     "execution_count": 37,
     "metadata": {},
     "output_type": "execute_result"
    }
   ],
   "source": [
    "import pandas as pd\n",
    "import numpy as np\n",
    "import re\n",
    "df=pd.read_csv('../Emission_computing/final_ingredients_emissions.csv',error_bad_lines=False)\n",
    "from os import name\n",
    "import pandas as pd\n",
    "import numpy as np\n",
    "import nltk\n",
    "from nltk.stem import WordNetLemmatizer \n",
    "import re\n",
    "nltk.download('wordnet')"
   ]
  },
  {
   "cell_type": "code",
   "execution_count": 38,
   "id": "35938609",
   "metadata": {},
   "outputs": [
    {
     "data": {
      "text/html": [
       "<div>\n",
       "<style scoped>\n",
       "    .dataframe tbody tr th:only-of-type {\n",
       "        vertical-align: middle;\n",
       "    }\n",
       "\n",
       "    .dataframe tbody tr th {\n",
       "        vertical-align: top;\n",
       "    }\n",
       "\n",
       "    .dataframe thead th {\n",
       "        text-align: right;\n",
       "    }\n",
       "</style>\n",
       "<table border=\"1\" class=\"dataframe\">\n",
       "  <thead>\n",
       "    <tr style=\"text-align: right;\">\n",
       "      <th></th>\n",
       "      <th>ingredient</th>\n",
       "      <th>emissions</th>\n",
       "    </tr>\n",
       "  </thead>\n",
       "  <tbody>\n",
       "    <tr>\n",
       "      <th>0</th>\n",
       "      <td>allspice</td>\n",
       "      <td>1133.0</td>\n",
       "    </tr>\n",
       "    <tr>\n",
       "      <th>1</th>\n",
       "      <td>almond extract</td>\n",
       "      <td>656.0</td>\n",
       "    </tr>\n",
       "    <tr>\n",
       "      <th>2</th>\n",
       "      <td>almonds</td>\n",
       "      <td>2856.0</td>\n",
       "    </tr>\n",
       "    <tr>\n",
       "      <th>3</th>\n",
       "      <td>anchovy</td>\n",
       "      <td>4220.0</td>\n",
       "    </tr>\n",
       "    <tr>\n",
       "      <th>4</th>\n",
       "      <td>apple juice</td>\n",
       "      <td>2440.0</td>\n",
       "    </tr>\n",
       "    <tr>\n",
       "      <th>...</th>\n",
       "      <td>...</td>\n",
       "      <td>...</td>\n",
       "    </tr>\n",
       "    <tr>\n",
       "      <th>555</th>\n",
       "      <td>bok choy</td>\n",
       "      <td>622.0</td>\n",
       "    </tr>\n",
       "    <tr>\n",
       "      <th>556</th>\n",
       "      <td>figs</td>\n",
       "      <td>192.0</td>\n",
       "    </tr>\n",
       "    <tr>\n",
       "      <th>557</th>\n",
       "      <td>mung bean sprouts</td>\n",
       "      <td>428.0</td>\n",
       "    </tr>\n",
       "    <tr>\n",
       "      <th>558</th>\n",
       "      <td>soup mix</td>\n",
       "      <td>428.0</td>\n",
       "    </tr>\n",
       "    <tr>\n",
       "      <th>559</th>\n",
       "      <td>foie gras</td>\n",
       "      <td>5054.0</td>\n",
       "    </tr>\n",
       "  </tbody>\n",
       "</table>\n",
       "<p>560 rows × 2 columns</p>\n",
       "</div>"
      ],
      "text/plain": [
       "            ingredient  emissions\n",
       "0             allspice     1133.0\n",
       "1       almond extract      656.0\n",
       "2              almonds     2856.0\n",
       "3              anchovy     4220.0\n",
       "4          apple juice     2440.0\n",
       "..                 ...        ...\n",
       "555           bok choy      622.0\n",
       "556               figs      192.0\n",
       "557  mung bean sprouts      428.0\n",
       "558           soup mix      428.0\n",
       "559          foie gras     5054.0\n",
       "\n",
       "[560 rows x 2 columns]"
      ]
     },
     "execution_count": 38,
     "metadata": {},
     "output_type": "execute_result"
    }
   ],
   "source": [
    "df"
   ]
  },
  {
   "cell_type": "code",
   "execution_count": 39,
   "id": "cc56a825",
   "metadata": {},
   "outputs": [],
   "source": [
    "output_dict={'ingredient': ['ground beef', 'fresh ginger', 'garlic', 'cilantro', 'limes', 'salt', 'chile paste', 'red onion', 'sea bass', 'chili', 'cilantro', 'chili', 'sweet potato', 'fine sea salt'], 'value': [0.0, 0.06, 0.25, 1.0, 2.0, 0.12, 0.5, 0.25, 0.33, 0.0, 0.25, 0.25, 0.25, 0.0], 'metric': [None, 'piece', 'clove', 'sprig', '<unit>', 'teaspoon', 'teaspoon', '<unit>', 'pound', None, 'sprig', '<unit>', '<unit>', None]}"
   ]
  },
  {
   "cell_type": "code",
   "execution_count": 40,
   "id": "ad90341c",
   "metadata": {},
   "outputs": [
    {
     "data": {
      "text/plain": [
       "{'ingredient': ['ground beef',\n",
       "  'fresh ginger',\n",
       "  'garlic',\n",
       "  'cilantro',\n",
       "  'limes',\n",
       "  'salt',\n",
       "  'chile paste',\n",
       "  'red onion',\n",
       "  'sea bass',\n",
       "  'chili',\n",
       "  'cilantro',\n",
       "  'chili',\n",
       "  'sweet potato',\n",
       "  'fine sea salt'],\n",
       " 'value': [0.0,\n",
       "  0.06,\n",
       "  0.25,\n",
       "  1.0,\n",
       "  2.0,\n",
       "  0.12,\n",
       "  0.5,\n",
       "  0.25,\n",
       "  0.33,\n",
       "  0.0,\n",
       "  0.25,\n",
       "  0.25,\n",
       "  0.25,\n",
       "  0.0],\n",
       " 'metric': [None,\n",
       "  'piece',\n",
       "  'clove',\n",
       "  'sprig',\n",
       "  '<unit>',\n",
       "  'teaspoon',\n",
       "  'teaspoon',\n",
       "  '<unit>',\n",
       "  'pound',\n",
       "  None,\n",
       "  'sprig',\n",
       "  '<unit>',\n",
       "  '<unit>',\n",
       "  None]}"
      ]
     },
     "execution_count": 40,
     "metadata": {},
     "output_type": "execute_result"
    }
   ],
   "source": [
    "output_dict"
   ]
  },
  {
   "cell_type": "code",
   "execution_count": 41,
   "id": "ee6c3959",
   "metadata": {},
   "outputs": [],
   "source": [
    "missing_values = ['None']"
   ]
  },
  {
   "cell_type": "code",
   "execution_count": 42,
   "id": "1c39faed",
   "metadata": {},
   "outputs": [],
   "source": [
    "def fill_empties(output_dict):\n",
    "    output_df=pd.DataFrame(output_dict)\n",
    "    output_df.metric=output_df.metric.astype(str)\n",
    "    for item in missing_values:\n",
    "        output_df.metric.replace(item, \"g\", inplace=True)\n",
    "    return output_df"
   ]
  },
  {
   "cell_type": "code",
   "execution_count": 68,
   "id": "183cd769",
   "metadata": {},
   "outputs": [],
   "source": [
    "output_df=fill_empties(output_dict)"
   ]
  },
  {
   "cell_type": "code",
   "execution_count": 72,
   "id": "1f3dda96",
   "metadata": {},
   "outputs": [
    {
     "name": "stdout",
     "output_type": "stream",
     "text": [
      "['ground beef']\n",
      "['fresh ginger']\n",
      "['garlic']\n",
      "['cilantro']\n",
      "['lime']\n",
      "['salt']\n",
      "['chile paste']\n",
      "['red onion']\n",
      "['sea bass']\n",
      "['chili']\n",
      "['cilantro']\n",
      "['chili']\n",
      "['sweet potato']\n",
      "['fine sea salt']\n"
     ]
    }
   ],
   "source": [
    "for ingredient in output_df['ingredient']:\n",
    "    # 1. Lemmatize \n",
    "    ingredient_words=re.split('\\s+', ingredient)\n",
    "    lemmatizer = WordNetLemmatizer()\n",
    "    lemmatized_output = ' '.join([lemmatizer.lemmatize(w) for w in ingredient_words])\n",
    "    print([lemmatized_output])"
   ]
  },
  {
   "cell_type": "code",
   "execution_count": null,
   "id": "d022b8f0",
   "metadata": {},
   "outputs": [],
   "source": [
    "if df[df['ingredient'].str.match(r'.*'+str(lemmatized_output)+'.*')== True].ingredient.values.size>0:\n",
    "    final_dict['ingredient'].append(df[df['ingredient'].str.match(r'.*'+str(lemmatized_output)+'.*')== True].ingredient.values[0])\n",
    "    final_dict['emission'].append(df[df['ingredient'].str.match(r'.*'+str(lemmatized_output)+'.*')== True].emissions.values[0])\n",
    "        "
   ]
  },
  {
   "cell_type": "code",
   "execution_count": null,
   "id": "e64097b2",
   "metadata": {},
   "outputs": [
    {
     "name": "stdout",
     "output_type": "stream",
     "text": [
      "--Call--\n",
      "> \u001b[0;32m/home/mateo/.pyenv/versions/3.8.12/envs/FritzWebInterface/lib/python3.8/site-packages/IPython/core/displayhook.py\u001b[0m(252)\u001b[0;36m__call__\u001b[0;34m()\u001b[0m\n",
      "\u001b[0;32m    250 \u001b[0;31m        \u001b[0msys\u001b[0m\u001b[0;34m.\u001b[0m\u001b[0mstdout\u001b[0m\u001b[0;34m.\u001b[0m\u001b[0mflush\u001b[0m\u001b[0;34m(\u001b[0m\u001b[0;34m)\u001b[0m\u001b[0;34m\u001b[0m\u001b[0;34m\u001b[0m\u001b[0m\n",
      "\u001b[0m\u001b[0;32m    251 \u001b[0;31m\u001b[0;34m\u001b[0m\u001b[0m\n",
      "\u001b[0m\u001b[0;32m--> 252 \u001b[0;31m    \u001b[0;32mdef\u001b[0m \u001b[0m__call__\u001b[0m\u001b[0;34m(\u001b[0m\u001b[0mself\u001b[0m\u001b[0;34m,\u001b[0m \u001b[0mresult\u001b[0m\u001b[0;34m=\u001b[0m\u001b[0;32mNone\u001b[0m\u001b[0;34m)\u001b[0m\u001b[0;34m:\u001b[0m\u001b[0;34m\u001b[0m\u001b[0;34m\u001b[0m\u001b[0m\n",
      "\u001b[0m\u001b[0;32m    253 \u001b[0;31m        \"\"\"Printing with history cache management.\n",
      "\u001b[0m\u001b[0;32m    254 \u001b[0;31m\u001b[0;34m\u001b[0m\u001b[0m\n",
      "\u001b[0m\n",
      "ipdb> next\n",
      "> \u001b[0;32m/home/mateo/.pyenv/versions/3.8.12/envs/FritzWebInterface/lib/python3.8/site-packages/IPython/core/displayhook.py\u001b[0m(258)\u001b[0;36m__call__\u001b[0;34m()\u001b[0m\n",
      "\u001b[0;32m    256 \u001b[0;31m        \u001b[0mactivated\u001b[0m \u001b[0mby\u001b[0m \u001b[0msetting\u001b[0m \u001b[0mthe\u001b[0m \u001b[0mvariable\u001b[0m \u001b[0msys\u001b[0m\u001b[0;34m.\u001b[0m\u001b[0mdisplayhook\u001b[0m \u001b[0mto\u001b[0m \u001b[0mit\u001b[0m\u001b[0;34m.\u001b[0m\u001b[0;34m\u001b[0m\u001b[0;34m\u001b[0m\u001b[0m\n",
      "\u001b[0m\u001b[0;32m    257 \u001b[0;31m        \"\"\"\n",
      "\u001b[0m\u001b[0;32m--> 258 \u001b[0;31m        \u001b[0mself\u001b[0m\u001b[0;34m.\u001b[0m\u001b[0mcheck_for_underscore\u001b[0m\u001b[0;34m(\u001b[0m\u001b[0;34m)\u001b[0m\u001b[0;34m\u001b[0m\u001b[0;34m\u001b[0m\u001b[0m\n",
      "\u001b[0m\u001b[0;32m    259 \u001b[0;31m        \u001b[0;32mif\u001b[0m \u001b[0mresult\u001b[0m \u001b[0;32mis\u001b[0m \u001b[0;32mnot\u001b[0m \u001b[0;32mNone\u001b[0m \u001b[0;32mand\u001b[0m \u001b[0;32mnot\u001b[0m \u001b[0mself\u001b[0m\u001b[0;34m.\u001b[0m\u001b[0mquiet\u001b[0m\u001b[0;34m(\u001b[0m\u001b[0;34m)\u001b[0m\u001b[0;34m:\u001b[0m\u001b[0;34m\u001b[0m\u001b[0;34m\u001b[0m\u001b[0m\n",
      "\u001b[0m\u001b[0;32m    260 \u001b[0;31m            \u001b[0mself\u001b[0m\u001b[0;34m.\u001b[0m\u001b[0mstart_displayhook\u001b[0m\u001b[0;34m(\u001b[0m\u001b[0;34m)\u001b[0m\u001b[0;34m\u001b[0m\u001b[0;34m\u001b[0m\u001b[0m\n",
      "\u001b[0m\n",
      "ipdb> next\n",
      "> \u001b[0;32m/home/mateo/.pyenv/versions/3.8.12/envs/FritzWebInterface/lib/python3.8/site-packages/IPython/core/displayhook.py\u001b[0m(259)\u001b[0;36m__call__\u001b[0;34m()\u001b[0m\n",
      "\u001b[0;32m    257 \u001b[0;31m        \"\"\"\n",
      "\u001b[0m\u001b[0;32m    258 \u001b[0;31m        \u001b[0mself\u001b[0m\u001b[0;34m.\u001b[0m\u001b[0mcheck_for_underscore\u001b[0m\u001b[0;34m(\u001b[0m\u001b[0;34m)\u001b[0m\u001b[0;34m\u001b[0m\u001b[0;34m\u001b[0m\u001b[0m\n",
      "\u001b[0m\u001b[0;32m--> 259 \u001b[0;31m        \u001b[0;32mif\u001b[0m \u001b[0mresult\u001b[0m \u001b[0;32mis\u001b[0m \u001b[0;32mnot\u001b[0m \u001b[0;32mNone\u001b[0m \u001b[0;32mand\u001b[0m \u001b[0;32mnot\u001b[0m \u001b[0mself\u001b[0m\u001b[0;34m.\u001b[0m\u001b[0mquiet\u001b[0m\u001b[0;34m(\u001b[0m\u001b[0;34m)\u001b[0m\u001b[0;34m:\u001b[0m\u001b[0;34m\u001b[0m\u001b[0;34m\u001b[0m\u001b[0m\n",
      "\u001b[0m\u001b[0;32m    260 \u001b[0;31m            \u001b[0mself\u001b[0m\u001b[0;34m.\u001b[0m\u001b[0mstart_displayhook\u001b[0m\u001b[0;34m(\u001b[0m\u001b[0;34m)\u001b[0m\u001b[0;34m\u001b[0m\u001b[0;34m\u001b[0m\u001b[0m\n",
      "\u001b[0m\u001b[0;32m    261 \u001b[0;31m            \u001b[0mself\u001b[0m\u001b[0;34m.\u001b[0m\u001b[0mwrite_output_prompt\u001b[0m\u001b[0;34m(\u001b[0m\u001b[0;34m)\u001b[0m\u001b[0;34m\u001b[0m\u001b[0;34m\u001b[0m\u001b[0m\n",
      "\u001b[0m\n"
     ]
    }
   ],
   "source": [
    "import pdb; "
   ]
  },
  {
   "cell_type": "code",
   "execution_count": null,
   "id": "022149b5",
   "metadata": {},
   "outputs": [],
   "source": [
    "def match_ingredients(output_df):\n",
    "    final_dict={'ingredient':[], 'emission':[]}\n",
    "    missing_ingredients={'missing_ingredients':[]}\n",
    "    for ingredient in output_df['ingredient']:\n",
    "        # 1. Lemmatize \n",
    "        ingredient_words=re.split('\\s+', ingredient)\n",
    "        lemmatizer = WordNetLemmatizer()\n",
    "        lemmatized_output = ' '.join([lemmatizer.lemmatize(w) for w in ingredient_words])\n",
    "        \n",
    "        # 2. Try the whole lemmatized sentence\n",
    "        if df[df['ingredient'].str.match(r'.*'+str(lemmatized_output)+'.*')== True].ingredient.values.size>0:\n",
    "                final_dict['ingredient'].append(df[df['ingredient'].str.match(r'.*'+str(lemmatized_output)+'.*')== True].ingredient.values[0])\n",
    "                final_dict['emission'].append(df[df['ingredient'].str.match(r'.*'+str(lemmatized_output)+'.*')== True].emissions.values[0])\n",
    "        \n",
    "        # 3. If the lemmatized output does not work, try the words\n",
    "        pdb.set_trace()\n",
    "        else:\n",
    "            for word in ingredient_words:\n",
    "                try:\n",
    "                    final_dict['ingredient'].append(df[df['ingredient'].str.match(r'.*'+str(word)+'.*')== True].ingredient.values[0])\n",
    "                    final_dict['emission'].append(df[df['ingredient'].str.match(r'.*'+str(word)+'.*')== True].emissions.values[0])\n",
    "                except IndexError:\n",
    "                    missing_ingredients['missing_ingredients'].append(ingredient)\n",
    "            \n",
    "    final_df=pd.DataFrame(final_dict)\n",
    "    \n",
    "    \n",
    "    # Adding the columns \"value\" and metric from output_dict\n",
    "    final_df=final_df.merge(output_df,on=\"ingredient\")\n",
    "#     final_df['value']=output_df['value']\n",
    "#     final_df['metric']=output_df['metric']\n",
    "    return final_df,missing_ingredients"
   ]
  },
  {
   "cell_type": "code",
   "execution_count": 44,
   "id": "e9dc5e4f",
   "metadata": {},
   "outputs": [],
   "source": [
    "def convert(final_df):\n",
    "    output_df=final_df.merge(conv_df, on='metric')\n",
    "    output_df[\"calculated gCO2e\"]=output_df[\"emission\"]*output_df[\"value\"].astype('int64')*output_df[\"to_Kg_multiplier\"]    \n",
    "    return output_df"
   ]
  },
  {
   "cell_type": "code",
   "execution_count": 45,
   "id": "c0cd575b",
   "metadata": {},
   "outputs": [],
   "source": [
    "output_df=fill_empties(output_dict)"
   ]
  },
  {
   "cell_type": "code",
   "execution_count": null,
   "id": "3e2fca1d",
   "metadata": {},
   "outputs": [],
   "source": [
    "final_df,missing_ingredients=match_ingredients(output_df)"
   ]
  },
  {
   "cell_type": "code",
   "execution_count": 47,
   "id": "8c46d8b9",
   "metadata": {
    "scrolled": false
   },
   "outputs": [
    {
     "data": {
      "text/html": [
       "<div>\n",
       "<style scoped>\n",
       "    .dataframe tbody tr th:only-of-type {\n",
       "        vertical-align: middle;\n",
       "    }\n",
       "\n",
       "    .dataframe tbody tr th {\n",
       "        vertical-align: top;\n",
       "    }\n",
       "\n",
       "    .dataframe thead th {\n",
       "        text-align: right;\n",
       "    }\n",
       "</style>\n",
       "<table border=\"1\" class=\"dataframe\">\n",
       "  <thead>\n",
       "    <tr style=\"text-align: right;\">\n",
       "      <th></th>\n",
       "      <th>ingredient</th>\n",
       "      <th>emission</th>\n",
       "      <th>value</th>\n",
       "      <th>metric</th>\n",
       "    </tr>\n",
       "  </thead>\n",
       "  <tbody>\n",
       "    <tr>\n",
       "      <th>0</th>\n",
       "      <td>fresh ginger</td>\n",
       "      <td>452.0</td>\n",
       "      <td>0.06</td>\n",
       "      <td>piece</td>\n",
       "    </tr>\n",
       "    <tr>\n",
       "      <th>1</th>\n",
       "      <td>garlic</td>\n",
       "      <td>452.0</td>\n",
       "      <td>0.25</td>\n",
       "      <td>clove</td>\n",
       "    </tr>\n",
       "    <tr>\n",
       "      <th>2</th>\n",
       "      <td>cilantro</td>\n",
       "      <td>1133.0</td>\n",
       "      <td>1.00</td>\n",
       "      <td>sprig</td>\n",
       "    </tr>\n",
       "    <tr>\n",
       "      <th>3</th>\n",
       "      <td>cilantro</td>\n",
       "      <td>1133.0</td>\n",
       "      <td>0.25</td>\n",
       "      <td>sprig</td>\n",
       "    </tr>\n",
       "    <tr>\n",
       "      <th>4</th>\n",
       "      <td>cilantro</td>\n",
       "      <td>1133.0</td>\n",
       "      <td>1.00</td>\n",
       "      <td>sprig</td>\n",
       "    </tr>\n",
       "    <tr>\n",
       "      <th>5</th>\n",
       "      <td>cilantro</td>\n",
       "      <td>1133.0</td>\n",
       "      <td>0.25</td>\n",
       "      <td>sprig</td>\n",
       "    </tr>\n",
       "    <tr>\n",
       "      <th>6</th>\n",
       "      <td>salt</td>\n",
       "      <td>1133.0</td>\n",
       "      <td>0.12</td>\n",
       "      <td>teaspoon</td>\n",
       "    </tr>\n",
       "    <tr>\n",
       "      <th>7</th>\n",
       "      <td>salt</td>\n",
       "      <td>1133.0</td>\n",
       "      <td>0.12</td>\n",
       "      <td>teaspoon</td>\n",
       "    </tr>\n",
       "    <tr>\n",
       "      <th>8</th>\n",
       "      <td>chile paste</td>\n",
       "      <td>1535.0</td>\n",
       "      <td>0.50</td>\n",
       "      <td>teaspoon</td>\n",
       "    </tr>\n",
       "    <tr>\n",
       "      <th>9</th>\n",
       "      <td>red onion</td>\n",
       "      <td>1051.0</td>\n",
       "      <td>0.25</td>\n",
       "      <td>&lt;unit&gt;</td>\n",
       "    </tr>\n",
       "    <tr>\n",
       "      <th>10</th>\n",
       "      <td>sea bass</td>\n",
       "      <td>4362.0</td>\n",
       "      <td>0.33</td>\n",
       "      <td>pound</td>\n",
       "    </tr>\n",
       "    <tr>\n",
       "      <th>11</th>\n",
       "      <td>sea bass</td>\n",
       "      <td>4362.0</td>\n",
       "      <td>0.33</td>\n",
       "      <td>pound</td>\n",
       "    </tr>\n",
       "    <tr>\n",
       "      <th>12</th>\n",
       "      <td>chili</td>\n",
       "      <td>2019.0</td>\n",
       "      <td>0.00</td>\n",
       "      <td>g</td>\n",
       "    </tr>\n",
       "    <tr>\n",
       "      <th>13</th>\n",
       "      <td>chili</td>\n",
       "      <td>2019.0</td>\n",
       "      <td>0.25</td>\n",
       "      <td>&lt;unit&gt;</td>\n",
       "    </tr>\n",
       "    <tr>\n",
       "      <th>14</th>\n",
       "      <td>chili</td>\n",
       "      <td>2019.0</td>\n",
       "      <td>0.00</td>\n",
       "      <td>g</td>\n",
       "    </tr>\n",
       "    <tr>\n",
       "      <th>15</th>\n",
       "      <td>chili</td>\n",
       "      <td>2019.0</td>\n",
       "      <td>0.25</td>\n",
       "      <td>&lt;unit&gt;</td>\n",
       "    </tr>\n",
       "    <tr>\n",
       "      <th>16</th>\n",
       "      <td>sweet potato</td>\n",
       "      <td>1273.0</td>\n",
       "      <td>0.25</td>\n",
       "      <td>&lt;unit&gt;</td>\n",
       "    </tr>\n",
       "  </tbody>\n",
       "</table>\n",
       "</div>"
      ],
      "text/plain": [
       "      ingredient  emission  value    metric\n",
       "0   fresh ginger     452.0   0.06     piece\n",
       "1         garlic     452.0   0.25     clove\n",
       "2       cilantro    1133.0   1.00     sprig\n",
       "3       cilantro    1133.0   0.25     sprig\n",
       "4       cilantro    1133.0   1.00     sprig\n",
       "5       cilantro    1133.0   0.25     sprig\n",
       "6           salt    1133.0   0.12  teaspoon\n",
       "7           salt    1133.0   0.12  teaspoon\n",
       "8    chile paste    1535.0   0.50  teaspoon\n",
       "9      red onion    1051.0   0.25    <unit>\n",
       "10      sea bass    4362.0   0.33     pound\n",
       "11      sea bass    4362.0   0.33     pound\n",
       "12         chili    2019.0   0.00         g\n",
       "13         chili    2019.0   0.25    <unit>\n",
       "14         chili    2019.0   0.00         g\n",
       "15         chili    2019.0   0.25    <unit>\n",
       "16  sweet potato    1273.0   0.25    <unit>"
      ]
     },
     "execution_count": 47,
     "metadata": {},
     "output_type": "execute_result"
    }
   ],
   "source": [
    "final_df"
   ]
  },
  {
   "cell_type": "code",
   "execution_count": 50,
   "id": "2b8184d6",
   "metadata": {},
   "outputs": [],
   "source": [
    "ingredient_words=re.split('\\s+', \"ground beef\")\n",
    "lemmatizer = WordNetLemmatizer()\n",
    "lemmatized_output = ' '.join([lemmatizer.lemmatize(w) for w in ingredient_words])"
   ]
  },
  {
   "cell_type": "code",
   "execution_count": 51,
   "id": "92309634",
   "metadata": {},
   "outputs": [
    {
     "data": {
      "text/plain": [
       "'ground beef'"
      ]
     },
     "execution_count": 51,
     "metadata": {},
     "output_type": "execute_result"
    }
   ],
   "source": [
    "lemmatized_output"
   ]
  },
  {
   "cell_type": "code",
   "execution_count": 59,
   "id": "2503d3e0",
   "metadata": {},
   "outputs": [],
   "source": [
    "for word in lemmatized_output:\n"
   ]
  },
  {
   "cell_type": "code",
   "execution_count": 60,
   "id": "95e633f2",
   "metadata": {},
   "outputs": [
    {
     "data": {
      "text/plain": [
       "'groundnut oil'"
      ]
     },
     "execution_count": 60,
     "metadata": {},
     "output_type": "execute_result"
    }
   ],
   "source": [
    "df[df['ingredient'].str.match(r'.*'+str('ground')+'.*')== True].ingredient.values[0]"
   ]
  },
  {
   "cell_type": "code",
   "execution_count": 64,
   "id": "c479d852",
   "metadata": {},
   "outputs": [
    {
     "data": {
      "text/plain": [
       "43330.0"
      ]
     },
     "execution_count": 64,
     "metadata": {},
     "output_type": "execute_result"
    }
   ],
   "source": [
    "df[df['ingredient'].str.match(r'.*'+str('beef')+'.*')== True].emissions.values[0]"
   ]
  },
  {
   "cell_type": "code",
   "execution_count": null,
   "id": "647b0bdf",
   "metadata": {},
   "outputs": [],
   "source": [
    "re.split('\\s+', \"cherry tomatoes\")"
   ]
  },
  {
   "cell_type": "code",
   "execution_count": null,
   "id": "59210b50",
   "metadata": {},
   "outputs": [],
   "source": [
    "import nltk\n",
    "from nltk.stem import WordNetLemmatizer "
   ]
  },
  {
   "cell_type": "code",
   "execution_count": null,
   "id": "0f91488d",
   "metadata": {},
   "outputs": [],
   "source": [
    "lemmatizer = WordNetLemmatizer()"
   ]
  },
  {
   "cell_type": "code",
   "execution_count": null,
   "id": "b385f90e",
   "metadata": {},
   "outputs": [],
   "source": [
    "print(lemmatizer.lemmatize(\"sweet potatoes\"))"
   ]
  },
  {
   "cell_type": "code",
   "execution_count": null,
   "id": "43961020",
   "metadata": {},
   "outputs": [],
   "source": [
    "nltk.download('wordnet')"
   ]
  },
  {
   "cell_type": "code",
   "execution_count": null,
   "id": "1473424d",
   "metadata": {},
   "outputs": [],
   "source": [
    "if df[df['ingredient'].str.match(r'^'+str(\"word\")+'.*')== True].ingredient.values.size>0:\n",
    "    print('OK')\n",
    "else:\n",
    "    print('Not OK')"
   ]
  },
  {
   "cell_type": "markdown",
   "id": "a9e28ebe",
   "metadata": {},
   "source": [
    "# Solving the API issue"
   ]
  },
  {
   "cell_type": "code",
   "execution_count": null,
   "id": "0daf3a83",
   "metadata": {},
   "outputs": [],
   "source": [
    "def load_image(img):\n",
    "    im = Image.open(img)\n",
    "    image = im.resize((224,224))    \n",
    "\n",
    "    return image"
   ]
  },
  {
   "cell_type": "code",
   "execution_count": null,
   "id": "764fd64d",
   "metadata": {},
   "outputs": [],
   "source": [
    "img=load_image(\"../2014_Bruschetta_The_Larder_Chiang_Mai.jpg\")"
   ]
  },
  {
   "cell_type": "code",
   "execution_count": null,
   "id": "d801f1b1",
   "metadata": {},
   "outputs": [],
   "source": [
    "img=np.array(img)"
   ]
  },
  {
   "cell_type": "code",
   "execution_count": null,
   "id": "42c45b22",
   "metadata": {},
   "outputs": [],
   "source": [
    "img.shape"
   ]
  },
  {
   "cell_type": "code",
   "execution_count": null,
   "id": "05200457",
   "metadata": {},
   "outputs": [],
   "source": [
    "import PIL\n",
    "from PIL import Image\n",
    "import numpy as np\n",
    "import json"
   ]
  },
  {
   "cell_type": "code",
   "execution_count": null,
   "id": "2a87b662",
   "metadata": {},
   "outputs": [],
   "source": [
    "X = img.reshape(img.shape[0]*img.shape[1]*img.shape[2])\n",
    "X=X.tolist()\n",
    "X_json=json.dumps(X)"
   ]
  },
  {
   "cell_type": "code",
   "execution_count": null,
   "id": "9d8b4342",
   "metadata": {},
   "outputs": [],
   "source": [
    "import pickle"
   ]
  },
  {
   "cell_type": "code",
   "execution_count": null,
   "id": "2d74fb66",
   "metadata": {},
   "outputs": [],
   "source": [
    "filehandler = open(b\"../Image.obj\",\"wb\")\n",
    "# pickle.dump(response_reshape,filehandler)"
   ]
  },
  {
   "cell_type": "code",
   "execution_count": null,
   "id": "3c26d75a",
   "metadata": {},
   "outputs": [],
   "source": [
    "filehandler"
   ]
  },
  {
   "cell_type": "code",
   "execution_count": null,
   "id": "000718be",
   "metadata": {},
   "outputs": [],
   "source": []
  }
 ],
 "metadata": {
  "kernelspec": {
   "display_name": "Python 3 (ipykernel)",
   "language": "python",
   "name": "python3"
  },
  "language_info": {
   "codemirror_mode": {
    "name": "ipython",
    "version": 3
   },
   "file_extension": ".py",
   "mimetype": "text/x-python",
   "name": "python",
   "nbconvert_exporter": "python",
   "pygments_lexer": "ipython3",
   "version": "3.8.12"
  },
  "toc": {
   "base_numbering": 1,
   "nav_menu": {},
   "number_sections": true,
   "sideBar": true,
   "skip_h1_title": false,
   "title_cell": "Table of Contents",
   "title_sidebar": "Contents",
   "toc_cell": false,
   "toc_position": {},
   "toc_section_display": true,
   "toc_window_display": false
  }
 },
 "nbformat": 4,
 "nbformat_minor": 5
}
