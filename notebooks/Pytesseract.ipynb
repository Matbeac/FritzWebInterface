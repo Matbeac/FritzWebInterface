{
 "cells": [
  {
   "cell_type": "code",
   "execution_count": 21,
   "id": "3212ba0b",
   "metadata": {},
   "outputs": [],
   "source": [
    "from PIL import Image\n",
    "from pytesseract import pytesseract\n",
    "import re"
   ]
  },
  {
   "cell_type": "code",
   "execution_count": 13,
   "id": "52aaed71",
   "metadata": {},
   "outputs": [],
   "source": [
    "# Defining paths to tesseract.exe\n",
    "# and the image we would be using\n",
    "# path_to_tesseract = r\"/usr/local/Cellar/tesseract/4.1.3/bin/tesseract\"\n",
    "path_to_tesseract='/home/mateo/code/Matbeac/FritzWebInterface/tesseract'\n",
    "image_path = r\"../MS-Online-Menu-Mains-January.jpg\"\n",
    "## Opening the image & storing it in an image object\n",
    "img = Image.open(image_path)\n",
    "  \n",
    "# Providing the tesseract executable\n",
    "# location to pytesseract library\n",
    "# pytesseract.tesseract_cmd = path_to_tesseract\n",
    "  \n",
    "# Passing the image object to image_to_string() function\n",
    "# This function will extract the text from the image\n",
    "text = pytesseract.image_to_string(img)\n",
    "  \n",
    "# Displaying the extracted text\n",
    "text=text[:-1]"
   ]
  },
  {
   "cell_type": "code",
   "execution_count": 18,
   "id": "10b8dd0a",
   "metadata": {},
   "outputs": [
    {
     "data": {
      "text/plain": [
       "str"
      ]
     },
     "execution_count": 18,
     "metadata": {},
     "output_type": "execute_result"
    }
   ],
   "source": [
    "type(text)"
   ]
  },
  {
   "cell_type": "code",
   "execution_count": 14,
   "id": "97d3e801",
   "metadata": {},
   "outputs": [],
   "source": [
    "import pandas as pd\n",
    "import numpy as np"
   ]
  },
  {
   "cell_type": "code",
   "execution_count": 15,
   "id": "d3b0cb93",
   "metadata": {},
   "outputs": [],
   "source": [
    "string_list=[x for x in text.split(\"\\n\") if len(x)!=0]"
   ]
  },
  {
   "cell_type": "code",
   "execution_count": 16,
   "id": "ba6ad848",
   "metadata": {},
   "outputs": [
    {
     "data": {
      "text/plain": [
       "['[ILESTONE',\n",
       " 'CHEF PATRICK BOND AND TEAM HAVE RETURNED TO THE MILESTONE’S ROOTS WITH THIS SEASONAL, FROM ~ SCRATCH MENU.',\n",
       " 'A RANGE OF ROTATING SPECIALS ARE ALSO DISPLAYED ON BLACKBOARDS IN THE RESTAURANT.',\n",
       " 'STARTERS',\n",
       " 'Jerusalem Artichoke Soup**',\n",
       " 'Garlic Oil, Chives & Milestone Bread(GF,V) 5',\n",
       " 'Black Pudding & Pigs Head Fritter',\n",
       " 'Fried Hens Egg, DevilSauce(DF) 6.5',\n",
       " 'Beetroot & House Ricotta',\n",
       " 'Pickled Beetroot, Pecan Crumb, Linseed Cracker (V) 6.5',\n",
       " 'Fried Tofu**',\n",
       " 'Coconut Katsu, Pickled Carrots, Garlic Shoots (VG) 6',\n",
       " 'MAINS',\n",
       " 'Denver Steak',\n",
       " 'Stout Braised Lentils, Celeriac Fondant, Charred Chicory, Caper & Thyme Jus (GF)',\n",
       " '16',\n",
       " 'Pan Fried Bream',\n",
       " 'Dill Cream Sauce, Samphire, Confit Potato, Garlic Oil (GF)',\n",
       " '13',\n",
       " 'Roast Fennel**',\n",
       " 'Braised Harissa Chickpeas, Smoked Chickpea & Tahini \"Mayo\" & Pickle Fennel Salad (VG, GF)',\n",
       " '12',\n",
       " 'Bangers & Mash**',\n",
       " 'Pork & Leek Sausages, Butter Mash Potato, Cider Jus',\n",
       " '12',\n",
       " 'Mussels @ Clams',\n",
       " 'Lemongrass Broth, Coriander, Chili (DF, V)',\n",
       " '10',\n",
       " 'SIDES',\n",
       " 'New Potatoes Cooked in Beef Dripping (GF, DF) 3',\n",
       " 'Sautéed Tenderstem Broccoli(GF,V) 4',\n",
       " 'Roast Celeriac Purée (GF, V) 3.5',\n",
       " 'Rosemary French Fries(VG,GF,DF) 3',\n",
       " '** AVAILABLE AS PART OF OUR EARLY BIRD MENU, SERVED MONDAY ~ SATURDAY FROM 5PM - 7PM',\n",
       " 'Two courses 14.50 | THREE courSES 16.50',\n",
       " 'BOTH INCLUDING A DRINK: PINT OF LOCAL BITTER, SML HOUSE WINE, SOFT DRINK',\n",
       " 'PLEASE SPEAK TO YOUR SERVER IF YOU HAVE ANY KNOWN ALLERGIES',\n",
       " 'GF - GLUTEN-FREE | V- VEGETARIAN | VG ~ VEGAN | DF - DAIRY-FREE']"
      ]
     },
     "execution_count": 16,
     "metadata": {},
     "output_type": "execute_result"
    }
   ],
   "source": [
    "string_list"
   ]
  },
  {
   "cell_type": "code",
   "execution_count": 19,
   "id": "8a00e2f9",
   "metadata": {
    "scrolled": true
   },
   "outputs": [
    {
     "name": "stderr",
     "output_type": "stream",
     "text": [
      "/home/mateo/.pyenv/versions/3.8.12/envs/FritzWebInterface/lib/python3.8/site-packages/IPython/core/interactiveshell.py:3444: FutureWarning: The error_bad_lines argument has been deprecated and will be removed in a future version.\n",
      "\n",
      "\n",
      "  exec(code_obj, self.user_global_ns, self.user_ns)\n"
     ]
    }
   ],
   "source": [
    "ingredient_file_path='../Emission_computing/final_ingredients_emissions.csv'\n",
    "df=pd.read_csv(ingredient_file_path,error_bad_lines=False)"
   ]
  },
  {
   "cell_type": "code",
   "execution_count": 26,
   "id": "f9adc487",
   "metadata": {},
   "outputs": [
    {
     "data": {
      "text/plain": [
       "['[ILESTONE',\n",
       " 'CHEF PATRICK BOND AND TEAM HAVE RETURNED TO THE MILESTONE’S ROOTS WITH THIS SEASONAL, FROM ~ SCRATCH MENU.',\n",
       " 'A RANGE OF ROTATING SPECIALS ARE ALSO DISPLAYED ON BLACKBOARDS IN THE RESTAURANT.',\n",
       " 'STARTERS',\n",
       " 'Jerusalem Artichoke Soup**',\n",
       " 'Garlic Oil, Chives & Milestone Bread(GF,V) 5',\n",
       " 'Black Pudding & Pigs Head Fritter',\n",
       " 'Fried Hens Egg, DevilSauce(DF) 6.5',\n",
       " 'Beetroot & House Ricotta',\n",
       " 'Pickled Beetroot, Pecan Crumb, Linseed Cracker (V) 6.5',\n",
       " 'Fried Tofu**',\n",
       " 'Coconut Katsu, Pickled Carrots, Garlic Shoots (VG) 6',\n",
       " 'MAINS',\n",
       " 'Denver Steak',\n",
       " 'Stout Braised Lentils, Celeriac Fondant, Charred Chicory, Caper & Thyme Jus (GF)',\n",
       " '16',\n",
       " 'Pan Fried Bream',\n",
       " 'Dill Cream Sauce, Samphire, Confit Potato, Garlic Oil (GF)',\n",
       " '13',\n",
       " 'Roast Fennel**',\n",
       " 'Braised Harissa Chickpeas, Smoked Chickpea & Tahini \"Mayo\" & Pickle Fennel Salad (VG, GF)',\n",
       " '12',\n",
       " 'Bangers & Mash**',\n",
       " 'Pork & Leek Sausages, Butter Mash Potato, Cider Jus',\n",
       " '12',\n",
       " 'Mussels @ Clams',\n",
       " 'Lemongrass Broth, Coriander, Chili (DF, V)',\n",
       " '10',\n",
       " 'SIDES',\n",
       " 'New Potatoes Cooked in Beef Dripping (GF, DF) 3',\n",
       " 'Sautéed Tenderstem Broccoli(GF,V) 4',\n",
       " 'Roast Celeriac Purée (GF, V) 3.5',\n",
       " 'Rosemary French Fries(VG,GF,DF) 3',\n",
       " '** AVAILABLE AS PART OF OUR EARLY BIRD MENU, SERVED MONDAY ~ SATURDAY FROM 5PM - 7PM',\n",
       " 'Two courses 14.50 | THREE courSES 16.50',\n",
       " 'BOTH INCLUDING A DRINK: PINT OF LOCAL BITTER, SML HOUSE WINE, SOFT DRINK',\n",
       " 'PLEASE SPEAK TO YOUR SERVER IF YOU HAVE ANY KNOWN ALLERGIES',\n",
       " 'GF - GLUTEN-FREE | V- VEGETARIAN | VG ~ VEGAN | DF - DAIRY-FREE']"
      ]
     },
     "execution_count": 26,
     "metadata": {},
     "output_type": "execute_result"
    }
   ],
   "source": [
    "string_list"
   ]
  },
  {
   "cell_type": "code",
   "execution_count": 34,
   "id": "2989c616",
   "metadata": {},
   "outputs": [
    {
     "name": "stdout",
     "output_type": "stream",
     "text": [
      "['', 'ILESTONE']\n",
      "['CHEF', 'PATRICK', 'BOND', 'AND', 'TEAM', 'HAVE', 'RETURNED', 'TO', 'THE', 'MILESTONE', 'S', 'ROOTS', 'WITH', 'THIS', 'SEASONAL', 'FROM', 'SCRATCH', 'MENU', '']\n",
      "['A', 'RANGE', 'OF', 'ROTATING', 'SPECIALS', 'ARE', 'ALSO', 'DISPLAYED', 'ON', 'BLACKBOARDS', 'IN', 'THE', 'RESTAURANT', '']\n",
      "['STARTERS']\n",
      "['Jerusalem', 'Artichoke', 'Soup', '']\n",
      "['Garlic', 'Oil', 'Chives', 'Milestone', 'Bread', 'GF', 'V', '']\n",
      "['Black', 'Pudding', 'Pigs', 'Head', 'Fritter']\n",
      "['Fried', 'Hens', 'Egg', 'DevilSauce', 'DF', '']\n",
      "['Beetroot', 'House', 'Ricotta']\n",
      "['Pickled', 'Beetroot', 'Pecan', 'Crumb', 'Linseed', 'Cracker', 'V', '']\n",
      "['Fried', 'Tofu', '']\n",
      "['Coconut', 'Katsu', 'Pickled', 'Carrots', 'Garlic', 'Shoots', 'VG', '']\n",
      "['MAINS']\n",
      "['Denver', 'Steak']\n",
      "['Stout', 'Braised', 'Lentils', 'Celeriac', 'Fondant', 'Charred', 'Chicory', 'Caper', 'Thyme', 'Jus', 'GF', '']\n",
      "['']\n",
      "['Pan', 'Fried', 'Bream']\n",
      "['Dill', 'Cream', 'Sauce', 'Samphire', 'Confit', 'Potato', 'Garlic', 'Oil', 'GF', '']\n",
      "['']\n",
      "['Roast', 'Fennel', '']\n",
      "['Braised', 'Harissa', 'Chickpeas', 'Smoked', 'Chickpea', 'Tahini', 'Mayo', 'Pickle', 'Fennel', 'Salad', 'VG', 'GF', '']\n",
      "['']\n",
      "['Bangers', 'Mash', '']\n",
      "['Pork', 'Leek', 'Sausages', 'Butter', 'Mash', 'Potato', 'Cider', 'Jus']\n",
      "['']\n",
      "['Mussels', 'Clams']\n",
      "['Lemongrass', 'Broth', 'Coriander', 'Chili', 'DF', 'V', '']\n",
      "['']\n",
      "['SIDES']\n",
      "['New', 'Potatoes', 'Cooked', 'in', 'Beef', 'Dripping', 'GF', 'DF', '']\n",
      "['Saut', 'ed', 'Tenderstem', 'Broccoli', 'GF', 'V', '']\n",
      "['Roast', 'Celeriac', 'Pur', 'e', 'GF', 'V', '']\n",
      "['Rosemary', 'French', 'Fries', 'VG', 'GF', 'DF', '']\n",
      "['', 'AVAILABLE', 'AS', 'PART', 'OF', 'OUR', 'EARLY', 'BIRD', 'MENU', 'SERVED', 'MONDAY', 'SATURDAY', 'FROM', 'PM', 'PM']\n",
      "['Two', 'courses', 'THREE', 'courSES', '']\n",
      "['BOTH', 'INCLUDING', 'A', 'DRINK', 'PINT', 'OF', 'LOCAL', 'BITTER', 'SML', 'HOUSE', 'WINE', 'SOFT', 'DRINK']\n",
      "['PLEASE', 'SPEAK', 'TO', 'YOUR', 'SERVER', 'IF', 'YOU', 'HAVE', 'ANY', 'KNOWN', 'ALLERGIES']\n",
      "['GF', 'GLUTEN', 'FREE', 'V', 'VEGETARIAN', 'VG', 'VEGAN', 'DF', 'DAIRY', 'FREE']\n"
     ]
    }
   ],
   "source": [
    "for line in string_list:\n",
    "    line=re.sub('[^A-Za-z0-9]+', ' ', line)\n",
    "    line=re.sub(r'[0-9]+', '', line)\n",
    "    ingredient_words=re.split('\\s+', line)\n",
    "    print(ingredient_words)"
   ]
  },
  {
   "cell_type": "code",
   "execution_count": 33,
   "id": "4fe21504",
   "metadata": {},
   "outputs": [
    {
     "data": {
      "text/plain": [
       "['GF',\n",
       " 'GLUTEN',\n",
       " 'FREE',\n",
       " 'V',\n",
       " 'VEGETARIAN',\n",
       " 'VG',\n",
       " 'VEGAN',\n",
       " 'DF',\n",
       " 'DAIRY',\n",
       " 'FREE']"
      ]
     },
     "execution_count": 33,
     "metadata": {},
     "output_type": "execute_result"
    }
   ],
   "source": [
    "ingredient_words"
   ]
  },
  {
   "cell_type": "code",
   "execution_count": 43,
   "id": "d75eb6fc",
   "metadata": {},
   "outputs": [],
   "source": [
    "final_dict={'ingredient_parsed':[],\"ingredient_from_df\":[], 'emission':[]}\n",
    "\n",
    "for line in string_list:\n",
    "    line=line.lower()\n",
    "    line=re.sub('[^A-Za-z0-9]+', ' ', line)\n",
    "    line=re.sub(r'[0-9]+', '', line)\n",
    "    ingredient_words=re.split('\\s+', line)\n",
    "    for ingredient in ingredient_words:\n",
    "        if df[df['ingredient'].str.match(r''+str(ingredient)+'$')==True].ingredient.values.size>0:\n",
    "            final_dict['ingredient_from_df'].append(df[df['ingredient'].str.match(r''+str(ingredient)+'$')== True].ingredient.iloc[0])\n",
    "            final_dict['emission'].append(df[df['ingredient'].str.match(r''+str(ingredient)+'$')== True].emissions.iloc[0])\n",
    "            final_dict[\"ingredient_parsed\"].append(line)"
   ]
  },
  {
   "cell_type": "code",
   "execution_count": 44,
   "id": "6bb660d4",
   "metadata": {},
   "outputs": [],
   "source": [
    "final_df=pd.DataFrame(final_dict)"
   ]
  },
  {
   "cell_type": "code",
   "execution_count": 45,
   "id": "2ebd0d0a",
   "metadata": {
    "collapsed": true
   },
   "outputs": [
    {
     "data": {
      "text/html": [
       "<div>\n",
       "<style scoped>\n",
       "    .dataframe tbody tr th:only-of-type {\n",
       "        vertical-align: middle;\n",
       "    }\n",
       "\n",
       "    .dataframe tbody tr th {\n",
       "        vertical-align: top;\n",
       "    }\n",
       "\n",
       "    .dataframe thead th {\n",
       "        text-align: right;\n",
       "    }\n",
       "</style>\n",
       "<table border=\"1\" class=\"dataframe\">\n",
       "  <thead>\n",
       "    <tr style=\"text-align: right;\">\n",
       "      <th></th>\n",
       "      <th>ingredient_parsed</th>\n",
       "      <th>ingredient_from_df</th>\n",
       "      <th>emission</th>\n",
       "    </tr>\n",
       "  </thead>\n",
       "  <tbody>\n",
       "    <tr>\n",
       "      <th>0</th>\n",
       "      <td>jerusalem artichoke soup</td>\n",
       "      <td>artichoke</td>\n",
       "      <td>338.0</td>\n",
       "    </tr>\n",
       "    <tr>\n",
       "      <th>1</th>\n",
       "      <td>garlic oil chives milestone bread gf v</td>\n",
       "      <td>garlic</td>\n",
       "      <td>452.0</td>\n",
       "    </tr>\n",
       "    <tr>\n",
       "      <th>2</th>\n",
       "      <td>garlic oil chives milestone bread gf v</td>\n",
       "      <td>chives</td>\n",
       "      <td>1133.0</td>\n",
       "    </tr>\n",
       "    <tr>\n",
       "      <th>3</th>\n",
       "      <td>garlic oil chives milestone bread gf v</td>\n",
       "      <td>bread</td>\n",
       "      <td>1215.0</td>\n",
       "    </tr>\n",
       "    <tr>\n",
       "      <th>4</th>\n",
       "      <td>fried hens egg devilsauce df</td>\n",
       "      <td>egg</td>\n",
       "      <td>4506.0</td>\n",
       "    </tr>\n",
       "    <tr>\n",
       "      <th>5</th>\n",
       "      <td>beetroot house ricotta</td>\n",
       "      <td>beetroot</td>\n",
       "      <td>1136.0</td>\n",
       "    </tr>\n",
       "    <tr>\n",
       "      <th>6</th>\n",
       "      <td>beetroot house ricotta</td>\n",
       "      <td>ricotta</td>\n",
       "      <td>6440.0</td>\n",
       "    </tr>\n",
       "    <tr>\n",
       "      <th>7</th>\n",
       "      <td>pickled beetroot pecan crumb linseed cracker v</td>\n",
       "      <td>beetroot</td>\n",
       "      <td>1136.0</td>\n",
       "    </tr>\n",
       "    <tr>\n",
       "      <th>8</th>\n",
       "      <td>pickled beetroot pecan crumb linseed cracker v</td>\n",
       "      <td>pecan</td>\n",
       "      <td>2129.0</td>\n",
       "    </tr>\n",
       "    <tr>\n",
       "      <th>9</th>\n",
       "      <td>fried tofu</td>\n",
       "      <td>tofu</td>\n",
       "      <td>3160.0</td>\n",
       "    </tr>\n",
       "    <tr>\n",
       "      <th>10</th>\n",
       "      <td>coconut katsu pickled carrots garlic shoots vg</td>\n",
       "      <td>garlic</td>\n",
       "      <td>452.0</td>\n",
       "    </tr>\n",
       "    <tr>\n",
       "      <th>11</th>\n",
       "      <td>denver steak</td>\n",
       "      <td>steak</td>\n",
       "      <td>43330.0</td>\n",
       "    </tr>\n",
       "    <tr>\n",
       "      <th>12</th>\n",
       "      <td>stout braised lentils celeriac fondant charred...</td>\n",
       "      <td>lentils</td>\n",
       "      <td>670.0</td>\n",
       "    </tr>\n",
       "    <tr>\n",
       "      <th>13</th>\n",
       "      <td>stout braised lentils celeriac fondant charred...</td>\n",
       "      <td>thyme</td>\n",
       "      <td>1133.0</td>\n",
       "    </tr>\n",
       "    <tr>\n",
       "      <th>14</th>\n",
       "      <td>dill cream sauce samphire confit potato garlic...</td>\n",
       "      <td>dill</td>\n",
       "      <td>1133.0</td>\n",
       "    </tr>\n",
       "    <tr>\n",
       "      <th>15</th>\n",
       "      <td>dill cream sauce samphire confit potato garlic...</td>\n",
       "      <td>cream</td>\n",
       "      <td>3724.0</td>\n",
       "    </tr>\n",
       "    <tr>\n",
       "      <th>16</th>\n",
       "      <td>dill cream sauce samphire confit potato garlic...</td>\n",
       "      <td>potato</td>\n",
       "      <td>1273.0</td>\n",
       "    </tr>\n",
       "    <tr>\n",
       "      <th>17</th>\n",
       "      <td>dill cream sauce samphire confit potato garlic...</td>\n",
       "      <td>garlic</td>\n",
       "      <td>452.0</td>\n",
       "    </tr>\n",
       "    <tr>\n",
       "      <th>18</th>\n",
       "      <td>braised harissa chickpeas smoked chickpea tahi...</td>\n",
       "      <td>harissa</td>\n",
       "      <td>1535.0</td>\n",
       "    </tr>\n",
       "    <tr>\n",
       "      <th>19</th>\n",
       "      <td>braised harissa chickpeas smoked chickpea tahi...</td>\n",
       "      <td>chickpeas</td>\n",
       "      <td>852.0</td>\n",
       "    </tr>\n",
       "    <tr>\n",
       "      <th>20</th>\n",
       "      <td>braised harissa chickpeas smoked chickpea tahi...</td>\n",
       "      <td>tahini</td>\n",
       "      <td>852.0</td>\n",
       "    </tr>\n",
       "    <tr>\n",
       "      <th>21</th>\n",
       "      <td>pork leek sausages butter mash potato cider jus</td>\n",
       "      <td>pork</td>\n",
       "      <td>6628.0</td>\n",
       "    </tr>\n",
       "    <tr>\n",
       "      <th>22</th>\n",
       "      <td>pork leek sausages butter mash potato cider jus</td>\n",
       "      <td>leek</td>\n",
       "      <td>1051.0</td>\n",
       "    </tr>\n",
       "    <tr>\n",
       "      <th>23</th>\n",
       "      <td>pork leek sausages butter mash potato cider jus</td>\n",
       "      <td>butter</td>\n",
       "      <td>9758.0</td>\n",
       "    </tr>\n",
       "    <tr>\n",
       "      <th>24</th>\n",
       "      <td>pork leek sausages butter mash potato cider jus</td>\n",
       "      <td>potato</td>\n",
       "      <td>1273.0</td>\n",
       "    </tr>\n",
       "    <tr>\n",
       "      <th>25</th>\n",
       "      <td>mussels clams</td>\n",
       "      <td>mussels</td>\n",
       "      <td>3036.0</td>\n",
       "    </tr>\n",
       "    <tr>\n",
       "      <th>26</th>\n",
       "      <td>mussels clams</td>\n",
       "      <td>clams</td>\n",
       "      <td>3036.0</td>\n",
       "    </tr>\n",
       "    <tr>\n",
       "      <th>27</th>\n",
       "      <td>lemongrass broth coriander chili df v</td>\n",
       "      <td>coriander</td>\n",
       "      <td>1133.0</td>\n",
       "    </tr>\n",
       "    <tr>\n",
       "      <th>28</th>\n",
       "      <td>lemongrass broth coriander chili df v</td>\n",
       "      <td>chili</td>\n",
       "      <td>2019.0</td>\n",
       "    </tr>\n",
       "    <tr>\n",
       "      <th>29</th>\n",
       "      <td>new potatoes cooked in beef dripping gf df</td>\n",
       "      <td>potatoes</td>\n",
       "      <td>1273.0</td>\n",
       "    </tr>\n",
       "    <tr>\n",
       "      <th>30</th>\n",
       "      <td>new potatoes cooked in beef dripping gf df</td>\n",
       "      <td>beef</td>\n",
       "      <td>43330.0</td>\n",
       "    </tr>\n",
       "    <tr>\n",
       "      <th>31</th>\n",
       "      <td>saut ed tenderstem broccoli gf v</td>\n",
       "      <td>broccoli</td>\n",
       "      <td>1081.0</td>\n",
       "    </tr>\n",
       "    <tr>\n",
       "      <th>32</th>\n",
       "      <td>rosemary french fries vg gf df</td>\n",
       "      <td>rosemary</td>\n",
       "      <td>1133.0</td>\n",
       "    </tr>\n",
       "    <tr>\n",
       "      <th>33</th>\n",
       "      <td>both including a drink pint of local bitter sm...</td>\n",
       "      <td>wine</td>\n",
       "      <td>1369.0</td>\n",
       "    </tr>\n",
       "  </tbody>\n",
       "</table>\n",
       "</div>"
      ],
      "text/plain": [
       "                                    ingredient_parsed ingredient_from_df  \\\n",
       "0                           jerusalem artichoke soup           artichoke   \n",
       "1             garlic oil chives milestone bread gf v              garlic   \n",
       "2             garlic oil chives milestone bread gf v              chives   \n",
       "3             garlic oil chives milestone bread gf v               bread   \n",
       "4                      fried hens egg devilsauce df                  egg   \n",
       "5                              beetroot house ricotta           beetroot   \n",
       "6                              beetroot house ricotta            ricotta   \n",
       "7    pickled beetroot pecan crumb linseed cracker v             beetroot   \n",
       "8    pickled beetroot pecan crumb linseed cracker v                pecan   \n",
       "9                                         fried tofu                tofu   \n",
       "10    coconut katsu pickled carrots garlic shoots vg              garlic   \n",
       "11                                       denver steak              steak   \n",
       "12  stout braised lentils celeriac fondant charred...            lentils   \n",
       "13  stout braised lentils celeriac fondant charred...              thyme   \n",
       "14  dill cream sauce samphire confit potato garlic...               dill   \n",
       "15  dill cream sauce samphire confit potato garlic...              cream   \n",
       "16  dill cream sauce samphire confit potato garlic...             potato   \n",
       "17  dill cream sauce samphire confit potato garlic...             garlic   \n",
       "18  braised harissa chickpeas smoked chickpea tahi...            harissa   \n",
       "19  braised harissa chickpeas smoked chickpea tahi...          chickpeas   \n",
       "20  braised harissa chickpeas smoked chickpea tahi...             tahini   \n",
       "21    pork leek sausages butter mash potato cider jus               pork   \n",
       "22    pork leek sausages butter mash potato cider jus               leek   \n",
       "23    pork leek sausages butter mash potato cider jus             butter   \n",
       "24    pork leek sausages butter mash potato cider jus             potato   \n",
       "25                                      mussels clams            mussels   \n",
       "26                                      mussels clams              clams   \n",
       "27             lemongrass broth coriander chili df v           coriander   \n",
       "28             lemongrass broth coriander chili df v               chili   \n",
       "29        new potatoes cooked in beef dripping gf df            potatoes   \n",
       "30        new potatoes cooked in beef dripping gf df                beef   \n",
       "31                  saut ed tenderstem broccoli gf v            broccoli   \n",
       "32                    rosemary french fries vg gf df            rosemary   \n",
       "33  both including a drink pint of local bitter sm...               wine   \n",
       "\n",
       "    emission  \n",
       "0      338.0  \n",
       "1      452.0  \n",
       "2     1133.0  \n",
       "3     1215.0  \n",
       "4     4506.0  \n",
       "5     1136.0  \n",
       "6     6440.0  \n",
       "7     1136.0  \n",
       "8     2129.0  \n",
       "9     3160.0  \n",
       "10     452.0  \n",
       "11   43330.0  \n",
       "12     670.0  \n",
       "13    1133.0  \n",
       "14    1133.0  \n",
       "15    3724.0  \n",
       "16    1273.0  \n",
       "17     452.0  \n",
       "18    1535.0  \n",
       "19     852.0  \n",
       "20     852.0  \n",
       "21    6628.0  \n",
       "22    1051.0  \n",
       "23    9758.0  \n",
       "24    1273.0  \n",
       "25    3036.0  \n",
       "26    3036.0  \n",
       "27    1133.0  \n",
       "28    2019.0  \n",
       "29    1273.0  \n",
       "30   43330.0  \n",
       "31    1081.0  \n",
       "32    1133.0  \n",
       "33    1369.0  "
      ]
     },
     "execution_count": 45,
     "metadata": {},
     "output_type": "execute_result"
    }
   ],
   "source": [
    "final_df"
   ]
  },
  {
   "cell_type": "code",
   "execution_count": 46,
   "id": "d56597ae",
   "metadata": {},
   "outputs": [],
   "source": [
    "final_df['ingredient_parsed']=final_df['ingredient_parsed'].astype(str)"
   ]
  },
  {
   "cell_type": "code",
   "execution_count": 47,
   "id": "2841ee59",
   "metadata": {},
   "outputs": [],
   "source": [
    "result=final_df.groupby('ingredient_parsed').sum()"
   ]
  },
  {
   "cell_type": "code",
   "execution_count": 63,
   "id": "45a9eae7",
   "metadata": {},
   "outputs": [],
   "source": [
    "result=result.sort_values(by=\"emission\",ascending=True)"
   ]
  },
  {
   "cell_type": "code",
   "execution_count": 105,
   "id": "cdd6efb8",
   "metadata": {},
   "outputs": [],
   "source": [
    "df=result[result['emission']==result['emission'].min()].iloc[0,0]"
   ]
  },
  {
   "cell_type": "code",
   "execution_count": 106,
   "id": "a13765f0",
   "metadata": {},
   "outputs": [
    {
     "data": {
      "text/plain": [
       "338.0"
      ]
     },
     "execution_count": 106,
     "metadata": {},
     "output_type": "execute_result"
    }
   ],
   "source": [
    "df"
   ]
  },
  {
   "cell_type": "code",
   "execution_count": null,
   "id": "cc5a19a7",
   "metadata": {},
   "outputs": [],
   "source": []
  }
 ],
 "metadata": {
  "kernelspec": {
   "display_name": "Python 3 (ipykernel)",
   "language": "python",
   "name": "python3"
  },
  "language_info": {
   "codemirror_mode": {
    "name": "ipython",
    "version": 3
   },
   "file_extension": ".py",
   "mimetype": "text/x-python",
   "name": "python",
   "nbconvert_exporter": "python",
   "pygments_lexer": "ipython3",
   "version": "3.8.12"
  },
  "toc": {
   "base_numbering": 1,
   "nav_menu": {},
   "number_sections": true,
   "sideBar": true,
   "skip_h1_title": false,
   "title_cell": "Table of Contents",
   "title_sidebar": "Contents",
   "toc_cell": false,
   "toc_position": {},
   "toc_section_display": true,
   "toc_window_display": false
  }
 },
 "nbformat": 4,
 "nbformat_minor": 5
}
