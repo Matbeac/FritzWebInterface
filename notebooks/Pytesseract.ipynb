{
 "cells": [
  {
   "cell_type": "code",
   "execution_count": 27,
   "id": "3212ba0b",
   "metadata": {},
   "outputs": [],
   "source": [
    "from PIL import Image\n",
    "from pytesseract import pytesseract\n",
    "import re"
   ]
  },
  {
   "cell_type": "code",
   "execution_count": 74,
   "id": "cc5a19a7",
   "metadata": {},
   "outputs": [
    {
     "name": "stderr",
     "output_type": "stream",
     "text": [
      "/home/mateo/.pyenv/versions/3.8.12/envs/FritzWebInterface/lib/python3.8/site-packages/IPython/core/interactiveshell.py:3444: FutureWarning: The error_bad_lines argument has been deprecated and will be removed in a future version.\n",
      "\n",
      "\n",
      "  exec(code_obj, self.user_global_ns, self.user_ns)\n"
     ]
    }
   ],
   "source": [
    "from PIL import Image\n",
    "import pytesseract\n",
    "import pandas as pd\n",
    "import numpy as np\n",
    "import re\n",
    "\n",
    "def get_text(img):\n",
    "    # path_to_tesseract = r\"tesseract\"\n",
    "    img = Image.open(img)\n",
    "    # pytesseract.tesseract_cmd = path_to_tesseract\n",
    "    text = pytesseract.image_to_string(img)\n",
    "    return text[:-1]\n",
    "\n",
    "\n",
    "## Getting the whole dataframe\n",
    "ingredient_file_path='../Emission_computing/final_ingredients_emissions.csv'\n",
    "df=pd.read_csv(ingredient_file_path,error_bad_lines=False)\n",
    "\n",
    "def parse_menu(text):\n",
    "    \n",
    "## Splitting every line\n",
    "    string_list=[x for x in text.split(\"\\n\") if len(x)!=0]\n",
    "    \n",
    "    final_dict={'Dish':[],\"ingredient_from_df\":[], 'g/CO2 emitted/kg':[]}\n",
    "    \n",
    "    for line in string_list:\n",
    "        ## Removing the metacharacters and the names\n",
    "        line=line.lower()\n",
    "        line=re.sub('[^A-Za-z0-9]+', ' ', line)\n",
    "        line=re.sub(r'[0-9]+', '', line)\n",
    "        ingredient_words=re.split('\\s+', line)\n",
    "        for ingredient in ingredient_words:\n",
    "            if df[df['ingredient'].str.match(r''+str(ingredient)+'$')==True].ingredient.values.size>0:\n",
    "                final_dict['ingredient_from_df'].append(df[df['ingredient'].str.match(r''+str(ingredient)+'$')== True].ingredient.iloc[0])\n",
    "                final_dict['g/CO2 emitted/kg'].append(df[df['ingredient'].str.match(r''+str(ingredient)+'$')== True].emissions.iloc[0])\n",
    "                final_dict[\"Dish\"].append(line)\n",
    "\n",
    "    final_df=pd.DataFrame(final_dict)\n",
    "    final_df['Dish']=final_df['Dish'].astype(str)\n",
    "    \n",
    "    result=final_df.groupby('Dish', as_index=False).sum().sort_values(by=\"g/CO2 emitted/kg\",ascending=True)\n",
    "    result=result.reset_index()\n",
    "    result=result.drop(columns=['index'])\n",
    "    result[\"g/CO2 emitted/kg\"]=np.floor(result[\"g/CO2 emitted/kg\"])\n",
    "    \n",
    "    return result\n",
    "    "
   ]
  },
  {
   "cell_type": "code",
   "execution_count": 75,
   "id": "06f18114",
   "metadata": {},
   "outputs": [],
   "source": [
    "img_file=\"../MS-Online-Menu-Mains-January.jpg\"\n",
    "menu_image=Image.open(img_file)"
   ]
  },
  {
   "cell_type": "code",
   "execution_count": 76,
   "id": "67c1a3c9",
   "metadata": {},
   "outputs": [],
   "source": [
    "df_result=parse_menu(get_text(img_file))"
   ]
  },
  {
   "cell_type": "code",
   "execution_count": 87,
   "id": "be3c5da6",
   "metadata": {},
   "outputs": [
    {
     "data": {
      "text/html": [
       "<div>\n",
       "<style scoped>\n",
       "    .dataframe tbody tr th:only-of-type {\n",
       "        vertical-align: middle;\n",
       "    }\n",
       "\n",
       "    .dataframe tbody tr th {\n",
       "        vertical-align: top;\n",
       "    }\n",
       "\n",
       "    .dataframe thead th {\n",
       "        text-align: right;\n",
       "    }\n",
       "</style>\n",
       "<table border=\"1\" class=\"dataframe\">\n",
       "  <thead>\n",
       "    <tr style=\"text-align: right;\">\n",
       "      <th></th>\n",
       "      <th>Dish</th>\n",
       "      <th>g/CO2 emitted/kg</th>\n",
       "    </tr>\n",
       "  </thead>\n",
       "  <tbody>\n",
       "    <tr>\n",
       "      <th>0</th>\n",
       "      <td>jerusalem artichoke soup</td>\n",
       "      <td>338.0</td>\n",
       "    </tr>\n",
       "    <tr>\n",
       "      <th>1</th>\n",
       "      <td>coconut katsu pickled carrots garlic shoots vg</td>\n",
       "      <td>452.0</td>\n",
       "    </tr>\n",
       "    <tr>\n",
       "      <th>2</th>\n",
       "      <td>saut ed tenderstem broccoli gf v</td>\n",
       "      <td>1081.0</td>\n",
       "    </tr>\n",
       "    <tr>\n",
       "      <th>3</th>\n",
       "      <td>rosemary french fries vg gf df</td>\n",
       "      <td>1133.0</td>\n",
       "    </tr>\n",
       "    <tr>\n",
       "      <th>4</th>\n",
       "      <td>both including a drink pint of local bitter sm...</td>\n",
       "      <td>1369.0</td>\n",
       "    </tr>\n",
       "    <tr>\n",
       "      <th>5</th>\n",
       "      <td>stout braised lentils celeriac fondant charred...</td>\n",
       "      <td>1803.0</td>\n",
       "    </tr>\n",
       "    <tr>\n",
       "      <th>6</th>\n",
       "      <td>garlic oil chives milestone bread gf v</td>\n",
       "      <td>2800.0</td>\n",
       "    </tr>\n",
       "    <tr>\n",
       "      <th>7</th>\n",
       "      <td>lemongrass broth coriander chili df v</td>\n",
       "      <td>3152.0</td>\n",
       "    </tr>\n",
       "    <tr>\n",
       "      <th>8</th>\n",
       "      <td>fried tofu</td>\n",
       "      <td>3160.0</td>\n",
       "    </tr>\n",
       "    <tr>\n",
       "      <th>9</th>\n",
       "      <td>braised harissa chickpeas smoked chickpea tahi...</td>\n",
       "      <td>3239.0</td>\n",
       "    </tr>\n",
       "    <tr>\n",
       "      <th>10</th>\n",
       "      <td>pickled beetroot pecan crumb linseed cracker v</td>\n",
       "      <td>3265.0</td>\n",
       "    </tr>\n",
       "    <tr>\n",
       "      <th>11</th>\n",
       "      <td>fried hens egg devilsauce df</td>\n",
       "      <td>4506.0</td>\n",
       "    </tr>\n",
       "    <tr>\n",
       "      <th>12</th>\n",
       "      <td>mussels clams</td>\n",
       "      <td>6072.0</td>\n",
       "    </tr>\n",
       "    <tr>\n",
       "      <th>13</th>\n",
       "      <td>dill cream sauce samphire confit potato garlic...</td>\n",
       "      <td>6582.0</td>\n",
       "    </tr>\n",
       "    <tr>\n",
       "      <th>14</th>\n",
       "      <td>beetroot house ricotta</td>\n",
       "      <td>7576.0</td>\n",
       "    </tr>\n",
       "    <tr>\n",
       "      <th>15</th>\n",
       "      <td>pork leek sausages butter mash potato cider jus</td>\n",
       "      <td>18710.0</td>\n",
       "    </tr>\n",
       "    <tr>\n",
       "      <th>16</th>\n",
       "      <td>denver steak</td>\n",
       "      <td>43330.0</td>\n",
       "    </tr>\n",
       "    <tr>\n",
       "      <th>17</th>\n",
       "      <td>new potatoes cooked in beef dripping gf df</td>\n",
       "      <td>44603.0</td>\n",
       "    </tr>\n",
       "  </tbody>\n",
       "</table>\n",
       "</div>"
      ],
      "text/plain": [
       "                                                 Dish  g/CO2 emitted/kg\n",
       "0                           jerusalem artichoke soup              338.0\n",
       "1     coconut katsu pickled carrots garlic shoots vg              452.0\n",
       "2                   saut ed tenderstem broccoli gf v             1081.0\n",
       "3                     rosemary french fries vg gf df             1133.0\n",
       "4   both including a drink pint of local bitter sm...            1369.0\n",
       "5   stout braised lentils celeriac fondant charred...            1803.0\n",
       "6             garlic oil chives milestone bread gf v             2800.0\n",
       "7              lemongrass broth coriander chili df v             3152.0\n",
       "8                                         fried tofu             3160.0\n",
       "9   braised harissa chickpeas smoked chickpea tahi...            3239.0\n",
       "10   pickled beetroot pecan crumb linseed cracker v              3265.0\n",
       "11                     fried hens egg devilsauce df              4506.0\n",
       "12                                      mussels clams            6072.0\n",
       "13  dill cream sauce samphire confit potato garlic...            6582.0\n",
       "14                             beetroot house ricotta            7576.0\n",
       "15    pork leek sausages butter mash potato cider jus           18710.0\n",
       "16                                       denver steak           43330.0\n",
       "17        new potatoes cooked in beef dripping gf df            44603.0"
      ]
     },
     "execution_count": 87,
     "metadata": {},
     "output_type": "execute_result"
    }
   ],
   "source": [
    "df_result"
   ]
  },
  {
   "cell_type": "code",
   "execution_count": 84,
   "id": "03c29d7a",
   "metadata": {},
   "outputs": [],
   "source": [
    "emission=df_result[df_result['g/CO2 emitted/kg']==df_result['g/CO2 emitted/kg'].min()].iloc[0,1]\n",
    "recipe_result=df_result[df_result['g/CO2 emitted/kg']==df_result['g/CO2 emitted/kg'].min()].iloc[0,0].capitalize()"
   ]
  },
  {
   "cell_type": "code",
   "execution_count": 85,
   "id": "19761f32",
   "metadata": {},
   "outputs": [
    {
     "data": {
      "text/plain": [
       "'Jerusalem artichoke soup '"
      ]
     },
     "execution_count": 85,
     "metadata": {},
     "output_type": "execute_result"
    }
   ],
   "source": [
    "recipe_result"
   ]
  },
  {
   "cell_type": "code",
   "execution_count": 86,
   "id": "d9cd462c",
   "metadata": {},
   "outputs": [
    {
     "data": {
      "text/plain": [
       "338.0"
      ]
     },
     "execution_count": 86,
     "metadata": {},
     "output_type": "execute_result"
    }
   ],
   "source": [
    "emission"
   ]
  },
  {
   "cell_type": "code",
   "execution_count": 60,
   "id": "148f41de",
   "metadata": {},
   "outputs": [],
   "source": [
    "df_result.index.names=[\"Dish\"]"
   ]
  },
  {
   "cell_type": "code",
   "execution_count": 62,
   "id": "465ad11f",
   "metadata": {},
   "outputs": [
    {
     "ename": "AttributeError",
     "evalue": "'Index' object has no attribute 'capitalize'",
     "output_type": "error",
     "traceback": [
      "\u001b[0;31m---------------------------------------------------------------------------\u001b[0m",
      "\u001b[0;31mAttributeError\u001b[0m                            Traceback (most recent call last)",
      "\u001b[0;32m/tmp/ipykernel_23231/3781987458.py\u001b[0m in \u001b[0;36m<module>\u001b[0;34m\u001b[0m\n\u001b[0;32m----> 1\u001b[0;31m \u001b[0mdf_result\u001b[0m\u001b[0;34m.\u001b[0m\u001b[0mindex\u001b[0m\u001b[0;34m.\u001b[0m\u001b[0mcapitalize\u001b[0m\u001b[0;34m(\u001b[0m\u001b[0;34m)\u001b[0m\u001b[0;34m\u001b[0m\u001b[0;34m\u001b[0m\u001b[0m\n\u001b[0m",
      "\u001b[0;31mAttributeError\u001b[0m: 'Index' object has no attribute 'capitalize'"
     ]
    }
   ],
   "source": [
    "df_result.index.capitalize()"
   ]
  },
  {
   "cell_type": "code",
   "execution_count": 90,
   "id": "48031fe9",
   "metadata": {},
   "outputs": [
    {
     "data": {
      "text/plain": [
       "0                             Jerusalem artichoke soup \n",
       "1       Coconut katsu pickled carrots garlic shoots vg \n",
       "2                     Saut ed tenderstem broccoli gf v \n",
       "3                       Rosemary french fries vg gf df \n",
       "4     Both including a drink pint of local bitter sm...\n",
       "5     Stout braised lentils celeriac fondant charred...\n",
       "6               Garlic oil chives milestone bread gf v \n",
       "7                Lemongrass broth coriander chili df v \n",
       "8                                           Fried tofu \n",
       "9     Braised harissa chickpeas smoked chickpea tahi...\n",
       "10     Pickled beetroot pecan crumb linseed cracker v  \n",
       "11                       Fried hens egg devilsauce df  \n",
       "12                                        Mussels clams\n",
       "13    Dill cream sauce samphire confit potato garlic...\n",
       "14                               Beetroot house ricotta\n",
       "15      Pork leek sausages butter mash potato cider jus\n",
       "16                                         Denver steak\n",
       "17          New potatoes cooked in beef dripping gf df \n",
       "Name: Dish, dtype: object"
      ]
     },
     "execution_count": 90,
     "metadata": {},
     "output_type": "execute_result"
    }
   ],
   "source": [
    "df_result['Dish'].str.capitalize()"
   ]
  },
  {
   "cell_type": "code",
   "execution_count": null,
   "id": "4da0a989",
   "metadata": {},
   "outputs": [],
   "source": []
  }
 ],
 "metadata": {
  "kernelspec": {
   "display_name": "Python 3 (ipykernel)",
   "language": "python",
   "name": "python3"
  },
  "language_info": {
   "codemirror_mode": {
    "name": "ipython",
    "version": 3
   },
   "file_extension": ".py",
   "mimetype": "text/x-python",
   "name": "python",
   "nbconvert_exporter": "python",
   "pygments_lexer": "ipython3",
   "version": "3.8.12"
  },
  "toc": {
   "base_numbering": 1,
   "nav_menu": {},
   "number_sections": true,
   "sideBar": true,
   "skip_h1_title": false,
   "title_cell": "Table of Contents",
   "title_sidebar": "Contents",
   "toc_cell": false,
   "toc_position": {},
   "toc_section_display": true,
   "toc_window_display": false
  }
 },
 "nbformat": 4,
 "nbformat_minor": 5
}
