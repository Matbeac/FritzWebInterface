{
 "cells": [
  {
   "cell_type": "code",
   "execution_count": 27,
   "id": "3212ba0b",
   "metadata": {},
   "outputs": [],
   "source": [
    "from PIL import Image\n",
    "from pytesseract import pytesseract\n",
    "import re"
   ]
  },
  {
   "cell_type": "code",
   "execution_count": 74,
   "id": "cc5a19a7",
   "metadata": {},
   "outputs": [
    {
     "name": "stderr",
     "output_type": "stream",
     "text": [
      "/home/mateo/.pyenv/versions/3.8.12/envs/FritzWebInterface/lib/python3.8/site-packages/IPython/core/interactiveshell.py:3444: FutureWarning: The error_bad_lines argument has been deprecated and will be removed in a future version.\n",
      "\n",
      "\n",
      "  exec(code_obj, self.user_global_ns, self.user_ns)\n"
     ]
    }
   ],
   "source": [
    "from PIL import Image\n",
    "import pytesseract\n",
    "import pandas as pd\n",
    "import numpy as np\n",
    "import re\n",
    "\n",
    "def get_text(img):\n",
    "    # path_to_tesseract = r\"tesseract\"\n",
    "    img = Image.open(img)\n",
    "    # pytesseract.tesseract_cmd = path_to_tesseract\n",
    "    text = pytesseract.image_to_string(img)\n",
    "    return text[:-1]\n",
    "\n",
    "\n",
    "## Getting the whole dataframe\n",
    "ingredient_file_path='../Emission_computing/final_ingredients_emissions.csv'\n",
    "df=pd.read_csv(ingredient_file_path,error_bad_lines=False)\n",
    "\n",
    "def parse_menu(text):\n",
    "    \n",
    "## Splitting every line\n",
    "    string_list=[x for x in text.split(\"\\n\") if len(x)!=0]\n",
    "    \n",
    "    final_dict={'Dish':[],\"ingredient_from_df\":[], 'g/CO2 emitted/kg':[]}\n",
    "    \n",
    "    for line in string_list:\n",
    "        ## Removing the metacharacters and the names\n",
    "        line=line.lower()\n",
    "        line=re.sub('[^A-Za-z0-9]+', ' ', line)\n",
    "        line=re.sub(r'[0-9]+', '', line)\n",
    "        ingredient_words=re.split('\\s+', line)\n",
    "        for ingredient in ingredient_words:\n",
    "            if df[df['ingredient'].str.match(r''+str(ingredient)+'$')==True].ingredient.values.size>0:\n",
    "                final_dict['ingredient_from_df'].append(df[df['ingredient'].str.match(r''+str(ingredient)+'$')== True].ingredient.iloc[0])\n",
    "                final_dict['g/CO2 emitted/kg'].append(df[df['ingredient'].str.match(r''+str(ingredient)+'$')== True].emissions.iloc[0])\n",
    "                final_dict[\"Dish\"].append(line)\n",
    "\n",
    "    final_df=pd.DataFrame(final_dict)\n",
    "    final_df['Dish']=final_df['Dish'].astype(str)\n",
    "    \n",
    "    result=final_df.groupby('Dish', as_index=False).sum().sort_values(by=\"g/CO2 emitted/kg\",ascending=True)\n",
    "    result=result.reset_index()\n",
    "    result=result.drop(columns=['index'])\n",
    "    result[\"g/CO2 emitted/kg\"]=np.floor(result[\"g/CO2 emitted/kg\"])\n",
    "    \n",
    "    return result\n",
    "    "
   ]
  },
  {
   "cell_type": "code",
   "execution_count": 75,
   "id": "e8175900",
   "metadata": {},
   "outputs": [],
   "source": [
    "img_file=\"../MS-Online-Menu-Mains-January.jpg\"\n",
    "menu_image=Image.open(img_file)"
   ]
  },
  {
   "cell_type": "code",
   "execution_count": 76,
   "id": "a873e073",
   "metadata": {},
   "outputs": [],
   "source": [
    "df_result=parse_menu(get_text(img_file))"
   ]
  },
  {
   "cell_type": "code",
   "execution_count": 84,
   "id": "d47379a7",
   "metadata": {},
   "outputs": [],
   "source": [
    "emission=df_result[df_result['g/CO2 emitted/kg']==df_result['g/CO2 emitted/kg'].min()].iloc[0,1]\n",
    "recipe_result=df_result[df_result['g/CO2 emitted/kg']==df_result['g/CO2 emitted/kg'].min()].iloc[0,0].capitalize()"
   ]
  },
  {
   "cell_type": "code",
   "execution_count": 98,
   "id": "1704ee36",
   "metadata": {},
   "outputs": [
    {
     "ename": "TypeError",
     "evalue": "'Index' object is not callable",
     "output_type": "error",
     "traceback": [
      "\u001b[0;31m---------------------------------------------------------------------------\u001b[0m",
      "\u001b[0;31mTypeError\u001b[0m                                 Traceback (most recent call last)",
      "\u001b[0;32m/tmp/ipykernel_23231/2491581781.py\u001b[0m in \u001b[0;36m<module>\u001b[0;34m\u001b[0m\n\u001b[0;32m----> 1\u001b[0;31m \u001b[0mdf_result\u001b[0m\u001b[0;34m.\u001b[0m\u001b[0mtranspose\u001b[0m\u001b[0;34m(\u001b[0m\u001b[0;34m)\u001b[0m\u001b[0;34m.\u001b[0m\u001b[0mindex\u001b[0m\u001b[0;34m(\u001b[0m\u001b[0;34m)\u001b[0m\u001b[0;34m\u001b[0m\u001b[0;34m\u001b[0m\u001b[0m\n\u001b[0m",
      "\u001b[0;31mTypeError\u001b[0m: 'Index' object is not callable"
     ]
    }
   ],
   "source": [
    "df_result.transpose().index()"
   ]
  },
  {
   "cell_type": "code",
   "execution_count": 92,
   "id": "e2b311de",
   "metadata": {},
   "outputs": [],
   "source": [
    "import matplotlib.pyplot as plt"
   ]
  },
  {
   "cell_type": "code",
   "execution_count": 95,
   "id": "cd3b9f84",
   "metadata": {},
   "outputs": [
    {
     "data": {
      "text/plain": [
       "[<matplotlib.lines.Line2D at 0x7f26fe4f5b50>]"
      ]
     },
     "execution_count": 95,
     "metadata": {},
     "output_type": "execute_result"
    },
    {
     "data": {
      "image/png": "[encoded data removed]",
      "text/plain": [
       "<Figure size 432x288 with 1 Axes>"
      ]
     },
     "metadata": {
      "needs_background": "light"
     },
     "output_type": "display_data"
    }
   ],
   "source": [
    "plt.plot(df_result['g/CO2 emitted/kg'])"
   ]
  },
  {
   "cell_type": "code",
   "execution_count": null,
   "id": "04b44589",
   "metadata": {},
   "outputs": [],
   "source": []
  }
 ],
 "metadata": {
  "kernelspec": {
   "display_name": "Python 3 (ipykernel)",
   "language": "python",
   "name": "python3"
  },
  "language_info": {
   "codemirror_mode": {
    "name": "ipython",
    "version": 3
   },
   "file_extension": ".py",
   "mimetype": "text/x-python",
   "name": "python",
   "nbconvert_exporter": "python",
   "pygments_lexer": "ipython3",
   "version": "3.8.12"
  },
  "toc": {
   "base_numbering": 1,
   "nav_menu": {},
   "number_sections": true,
   "sideBar": true,
   "skip_h1_title": false,
   "title_cell": "Table of Contents",
   "title_sidebar": "Contents",
   "toc_cell": false,
   "toc_position": {},
   "toc_section_display": true,
   "toc_window_display": false
  }
 },
 "nbformat": 4,
 "nbformat_minor": 5
}
