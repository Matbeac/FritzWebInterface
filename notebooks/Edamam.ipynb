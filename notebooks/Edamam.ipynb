{
 "cells": [
  {
   "cell_type": "markdown",
   "id": "a8dd0d4e",
   "metadata": {},
   "source": [
    "# Edamam"
   ]
  },
  {
   "cell_type": "code",
   "execution_count": 1,
   "id": "016cb323",
   "metadata": {},
   "outputs": [],
   "source": [
    "import requests\n",
    "import collections\n",
    "import pandas as pd\n",
    "\n",
    "dish = \"ceviche\"\n",
    "api_key = \"6f58acb8fe27ff8884f00b8451c098f5\""
   ]
  },
  {
   "cell_type": "code",
   "execution_count": 2,
   "id": "07595726",
   "metadata": {},
   "outputs": [],
   "source": [
    "def get_recipe(dish):\n",
    "    \n",
    "    #call API\n",
    "    url = f\"https://api.edamam.com/api/recipes/v2?type=public&q={dish}&app_id=4bc274b4&app_key={api_key}\"\n",
    "\n",
    "    response = requests.request(\"GET\",url)\n",
    "    recipe = response.json()[\"hits\"][0]['recipe']#['ingredients']\n",
    "    \n",
    "    return recipe"
   ]
  },
  {
   "cell_type": "code",
   "execution_count": 3,
   "id": "9ec8000f",
   "metadata": {},
   "outputs": [],
   "source": [
    "def get_ingredients(dish):\n",
    "    \n",
    "    #get ingredients from the call\n",
    "    recipe = get_recipe(dish)\n",
    "    servings = recipe['yield']\n",
    "    ingredients = recipe['ingredients']\n",
    "        \n",
    "    new_dict = collections.defaultdict(list)\n",
    "    \n",
    "    for i in ingredients:\n",
    "        new_dict[\"ingredient\"].append(i['food'].lower())\n",
    "        new_dict[\"value\"].append(round((i['quantity'] / servings), 2))\n",
    "        new_dict[\"metric\"].append(i['measure'])\n",
    "        \n",
    "    return new_dict"
   ]
  },
  {
   "cell_type": "code",
   "execution_count": 4,
   "id": "2b035405",
   "metadata": {},
   "outputs": [
    {
     "data": {
      "text/html": [
       "<div>\n",
       "<style scoped>\n",
       "    .dataframe tbody tr th:only-of-type {\n",
       "        vertical-align: middle;\n",
       "    }\n",
       "\n",
       "    .dataframe tbody tr th {\n",
       "        vertical-align: top;\n",
       "    }\n",
       "\n",
       "    .dataframe thead th {\n",
       "        text-align: right;\n",
       "    }\n",
       "</style>\n",
       "<table border=\"1\" class=\"dataframe\">\n",
       "  <thead>\n",
       "    <tr style=\"text-align: right;\">\n",
       "      <th></th>\n",
       "      <th>ingredient</th>\n",
       "      <th>value</th>\n",
       "      <th>metric</th>\n",
       "    </tr>\n",
       "  </thead>\n",
       "  <tbody>\n",
       "    <tr>\n",
       "      <th>0</th>\n",
       "      <td>whole-grain waffles</td>\n",
       "      <td>0.67</td>\n",
       "      <td>&lt;unit&gt;</td>\n",
       "    </tr>\n",
       "    <tr>\n",
       "      <th>1</th>\n",
       "      <td>almond butter</td>\n",
       "      <td>0.67</td>\n",
       "      <td>tablespoon</td>\n",
       "    </tr>\n",
       "    <tr>\n",
       "      <th>2</th>\n",
       "      <td>bananas</td>\n",
       "      <td>0.33</td>\n",
       "      <td>&lt;unit&gt;</td>\n",
       "    </tr>\n",
       "    <tr>\n",
       "      <th>3</th>\n",
       "      <td>honey</td>\n",
       "      <td>0.17</td>\n",
       "      <td>tablespoon</td>\n",
       "    </tr>\n",
       "  </tbody>\n",
       "</table>\n",
       "</div>"
      ],
      "text/plain": [
       "            ingredient  value      metric\n",
       "0  whole-grain waffles   0.67      <unit>\n",
       "1        almond butter   0.67  tablespoon\n",
       "2              bananas   0.33      <unit>\n",
       "3                honey   0.17  tablespoon"
      ]
     },
     "execution_count": 4,
     "metadata": {},
     "output_type": "execute_result"
    }
   ],
   "source": [
    "pd.DataFrame.from_dict(get_ingredients('waffles'))"
   ]
  },
  {
   "cell_type": "code",
   "execution_count": null,
   "id": "75527c7b",
   "metadata": {},
   "outputs": [],
   "source": []
  }
 ],
 "metadata": {
  "kernelspec": {
   "display_name": "Python 3 (ipykernel)",
   "language": "python",
   "name": "python3"
  },
  "language_info": {
   "codemirror_mode": {
    "name": "ipython",
    "version": 3
   },
   "file_extension": ".py",
   "mimetype": "text/x-python",
   "name": "python",
   "nbconvert_exporter": "python",
   "pygments_lexer": "ipython3",
   "version": "3.8.12"
  },
  "toc": {
   "base_numbering": 1,
   "nav_menu": {},
   "number_sections": true,
   "sideBar": true,
   "skip_h1_title": false,
   "title_cell": "Table of Contents",
   "title_sidebar": "Contents",
   "toc_cell": false,
   "toc_position": {},
   "toc_section_display": true,
   "toc_window_display": false
  }
 },
 "nbformat": 4,
 "nbformat_minor": 5
}
