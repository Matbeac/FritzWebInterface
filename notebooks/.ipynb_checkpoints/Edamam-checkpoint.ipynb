{
 "cells": [
  {
   "cell_type": "markdown",
   "id": "a8dd0d4e",
   "metadata": {},
   "source": [
    "# Edamam"
   ]
  },
  {
   "cell_type": "code",
   "execution_count": 1,
   "id": "016cb323",
   "metadata": {},
   "outputs": [],
   "source": [
    "import requests\n",
    "import collections\n",
    "import pandas as pd\n",
    "\n",
    "api_key = \"7d29b3dffb6960d50759c3e8ab11da8d\""
   ]
  },
  {
   "cell_type": "code",
   "execution_count": 2,
   "id": "07595726",
   "metadata": {},
   "outputs": [],
   "source": [
    "def get_recipe(dish):\n",
    "    \n",
    "    #call API\n",
    "    url = f\"https://api.edamam.com/api/recipes/v2?type=public&q={dish}&app_id=72116c1e&app_key={api_key}\"\n",
    "\n",
    "    response = requests.request(\"GET\",url)\n",
    "    recipe = response.json()[\"hits\"][0]['recipe']\n",
    "    \n",
    "    return recipe"
   ]
  },
  {
   "cell_type": "code",
   "execution_count": 14,
   "id": "2de03fb0",
   "metadata": {},
   "outputs": [
    {
     "data": {
      "text/plain": [
       "'Sugar'"
      ]
     },
     "execution_count": 14,
     "metadata": {},
     "output_type": "execute_result"
    }
   ],
   "source": [
    "output[1][3]['food']"
   ]
  },
  {
   "cell_type": "code",
   "execution_count": 17,
   "id": "d4f253e5",
   "metadata": {},
   "outputs": [
    {
     "name": "stdout",
     "output_type": "stream",
     "text": [
      "[{'uri': 'http://www.edamam.com/ontologies/edamam.owl#recipe_44d9332f2b2872c5d513256561cda136', 'label': \"Don Ceviche (Sea Bass Ceviche) From 'Ceviche: Peruvian Kitchen'\", 'image': 'https://www.edamam.com/web-img/091/0911aabc7fad06f90548a57948dfe4a4.jpg', 'images': {'THUMBNAIL': {'url': 'https://www.edamam.com/web-img/091/0911aabc7fad06f90548a57948dfe4a4-s.jpg', 'width': 100, 'height': 100}, 'SMALL': {'url': 'https://www.edamam.com/web-img/091/0911aabc7fad06f90548a57948dfe4a4-m.jpg', 'width': 200, 'height': 200}, 'REGULAR': {'url': 'https://www.edamam.com/web-img/091/0911aabc7fad06f90548a57948dfe4a4.jpg', 'width': 300, 'height': 300}, 'LARGE': {'url': 'https://www.edamam.com/web-img/091/0911aabc7fad06f90548a57948dfe4a4-l.jpg', 'width': 600, 'height': 600}}, 'source': 'Serious Eats', 'url': 'http://www.seriouseats.com/recipes/2014/06/don-ceviche-sea-bass-ceviche-from-ceviche-peruvian-kitchen.html', 'shareAs': 'http://www.edamam.com/recipe/don-ceviche-sea-bass-ceviche-from-ceviche-peruvian-kitchen-44d9332f2b2872c5d513256561cda136/ceviche', 'yield': 4.0, 'dietLabels': ['High-Protein', 'High-Fiber', 'Low-Fat'], 'healthLabels': ['Pescatarian', 'Mediterranean', 'Gluten-Free', 'Wheat-Free', 'Egg-Free', 'Peanut-Free', 'Tree-Nut-Free', 'Soy-Free', 'Shellfish-Free', 'Pork-Free', 'Red-Meat-Free', 'Crustacean-Free', 'Celery-Free', 'Mustard-Free', 'Sesame-Free', 'Lupine-Free', 'Mollusk-Free', 'Alcohol-Free', 'No oil added', 'Sulfite-Free', 'Kosher'], 'cautions': ['Gluten', 'Wheat', 'Sulfites', 'FODMAP'], 'ingredientLines': [\"Amarillo Chili Tiger's Milk\", '1/4 inch (5 mm) piece fresh ginger, cut in half', '1 small clove garlic, cut in half', '4 roughly chopped cilantro sprigs', '8 limes, juiced', '1/2 teaspoon salt', '2 teaspoons Amarillo Chile Paste', 'Ceviche', '1 large red onion, very thinly sliced', '1 1/3 lb (600 g) sea bass fillet (or other white fish), skinned and trimmed', \"Amarillo Chili Tiger's Milk (above)\", 'A few cilantro sprigs, leaves finely chopped', '1 limo chili, seeded and finely chopped', '1 sweet potato, cooked and cut into small cubes', 'Fine sea salt'], 'ingredients': [{'text': \"Amarillo Chili Tiger's Milk\", 'quantity': 0.0, 'measure': None, 'food': 'Chili', 'weight': 43.716278133348865, 'foodCategory': 'vegetables', 'foodId': 'food_a6g98mqatzj7vca6ms3bnbzqxf3s', 'image': 'https://www.edamam.com/food-img/469/469213672957a242638e20c27e3e8acd.jpeg'}, {'text': '1/4 inch (5 mm) piece fresh ginger, cut in half', 'quantity': 0.25, 'measure': 'piece', 'food': 'fresh ginger', 'weight': 3.75, 'foodCategory': 'vegetables', 'foodId': 'food_bi2ki2xb5zmmvbaiwf7ztbgktzp6', 'image': 'https://www.edamam.com/food-img/b9c/b9c06ef451ef29513880af0a53ebbaa6.jpg'}, {'text': '1 small clove garlic, cut in half', 'quantity': 1.0, 'measure': 'clove', 'food': 'garlic', 'weight': 2.25, 'foodCategory': 'vegetables', 'foodId': 'food_avtcmx6bgjv1jvay6s6stan8dnyp', 'image': 'https://www.edamam.com/food-img/6ee/6ee142951f48aaf94f4312409f8d133d.jpg'}, {'text': '4 roughly chopped cilantro sprigs', 'quantity': 4.0, 'measure': 'sprig', 'food': 'cilantro', 'weight': 8.88888888888889, 'foodCategory': 'vegetables', 'foodId': 'food_alhzhuwb4lc7jnb5s6f02by60bzp', 'image': 'https://www.edamam.com/food-img/d57/d57e375b6ff99a90c7ee2b1990a1af36.jpg'}, {'text': '8 limes, juiced', 'quantity': 8.0, 'measure': '<unit>', 'food': 'limes', 'weight': 536.0, 'foodCategory': 'fruit', 'foodId': 'food_av58muyb8kg92fbk0g8g8aui5knv', 'image': 'https://www.edamam.com/food-img/48a/48a123c9576647c4ada6a41df5eeb22a.jpg'}, {'text': '1/2 teaspoon salt', 'quantity': 0.5, 'measure': 'teaspoon', 'food': 'salt', 'weight': 3.0, 'foodCategory': 'Condiments and sauces', 'foodId': 'food_btxz81db72hwbra2pncvebzzzum9', 'image': 'https://www.edamam.com/food-img/694/6943ea510918c6025795e8dc6e6eaaeb.jpg'}, {'text': '2 teaspoons Amarillo Chile Paste', 'quantity': 2.0, 'measure': 'teaspoon', 'food': 'Chile Paste', 'weight': 10.20833333385111, 'foodCategory': 'canned soup', 'foodId': 'food_ayjzfd9bhvwqorb6m5iq3bekq7cj', 'image': 'https://www.edamam.com/food-img/12f/12f4b9a8e738f35b7dd787a5360e4a45.jpg'}, {'text': '1 large red onion, very thinly sliced', 'quantity': 1.0, 'measure': '<unit>', 'food': 'red onion', 'weight': 150.0, 'foodCategory': 'vegetables', 'foodId': 'food_bmrvi4ob4binw9a5m7l07amlfcoy', 'image': 'https://www.edamam.com/food-img/205/205e6bf2399b85d34741892ef91cc603.jpg'}, {'text': '1 1/3 lb (600 g) sea bass fillet (or other white fish), skinned and trimmed', 'quantity': 1.3333333333333333, 'measure': 'pound', 'food': 'sea bass', 'weight': 604.7898266666666, 'foodCategory': 'seafood', 'foodId': 'food_al3s05wang1th2af87twla0jk24v', 'image': 'https://www.edamam.com/food-img/8b5/8b58f49cbed348dffbe1e43663a9e5e3.jpg'}, {'text': \"Amarillo Chili Tiger's Milk (above)\", 'quantity': 0.0, 'measure': None, 'food': 'Chili', 'weight': 43.716278133348865, 'foodCategory': 'vegetables', 'foodId': 'food_a6g98mqatzj7vca6ms3bnbzqxf3s', 'image': 'https://www.edamam.com/food-img/469/469213672957a242638e20c27e3e8acd.jpeg'}, {'text': 'A few cilantro sprigs, leaves finely chopped', 'quantity': 1.0, 'measure': 'sprig', 'food': 'cilantro', 'weight': 2.2222222222222223, 'foodCategory': 'vegetables', 'foodId': 'food_alhzhuwb4lc7jnb5s6f02by60bzp', 'image': 'https://www.edamam.com/food-img/d57/d57e375b6ff99a90c7ee2b1990a1af36.jpg'}, {'text': '1 limo chili, seeded and finely chopped', 'quantity': 1.0, 'measure': '<unit>', 'food': 'chili', 'weight': 6.1, 'foodCategory': 'vegetables', 'foodId': 'food_akybxs9atrgwona5nz3jgbo3vor5', 'image': 'https://www.edamam.com/food-img/e3d/e3d161d6cfe5ef287053aed5461738ba.jpg'}, {'text': '1 sweet potato, cooked and cut into small cubes', 'quantity': 1.0, 'measure': '<unit>', 'food': 'sweet potato', 'weight': 130.0, 'foodCategory': 'vegetables', 'foodId': 'food_bg68yf2b3dlfusawgs590bjloxfd', 'image': 'https://www.edamam.com/food-img/b66/b660e3d37b4ea9d58cb98e8ea73933b6.jpg'}, {'text': 'Fine sea salt', 'quantity': 0.0, 'measure': None, 'food': 'Fine sea salt', 'weight': 8.743255626669773, 'foodCategory': 'Condiments and sauces', 'foodId': 'food_btxz81db72hwbra2pncvebzzzum9', 'image': 'https://www.edamam.com/food-img/694/6943ea510918c6025795e8dc6e6eaaeb.jpg'}], 'calories': 967.22295992901, 'totalWeight': 1549.559078088089, 'totalTime': 30.0, 'cuisineType': ['south american'], 'mealType': ['lunch/dinner'], 'dishType': ['main course'], 'totalNutrients': {'ENERC_KCAL': {'label': 'Energy', 'quantity': 967.22295992901, 'unit': 'kcal'}, 'FAT': {'label': 'Total lipid (fat)', 'quantity': 13.952742558687685, 'unit': 'g'}, 'FASAT': {'label': 'Fatty acids, total saturated', 'quantity': 3.354453910121316, 'unit': 'g'}, 'FAMS': {'label': 'Fatty acids, total monounsaturated', 'quantity': 2.787869984128357, 'unit': 'g'}, 'FAPU': {'label': 'Fatty acids, total polyunsaturated', 'quantity': 5.077970332722236, 'unit': 'g'}, 'CHOCDF': {'label': 'Carbohydrate, by difference', 'quantity': 106.98803598489404, 'unit': 'g'}, 'FIBTG': {'label': 'Fiber, total dietary', 'quantity': 23.500007788448535, 'unit': 'g'}, 'SUGAR': {'label': 'Sugars, total', 'quantity': 26.163184648814852, 'unit': 'g'}, 'PROCNT': {'label': 'Protein', 'quantity': 121.18678552352523, 'unit': 'g'}, 'CHOLE': {'label': 'Cholesterol', 'quantity': 247.96382893333333, 'unit': 'mg'}, 'NA': {'label': 'Sodium, Na', 'quantity': 3585.05723673175, 'unit': 'mg'}, 'CA': {'label': 'Calcium, Ca', 'quantity': 338.70637515883845, 'unit': 'mg'}, 'MG': {'label': 'Magnesium, Mg', 'quantity': 355.44337827072246, 'unit': 'mg'}, 'K': {'label': 'Potassium, K', 'quantity': 3192.9020563940235, 'unit': 'mg'}, 'FE': {'label': 'Iron, Fe', 'quantity': 7.365491087558459, 'unit': 'mg'}, 'ZN': {'label': 'Zinc, Zn', 'quantity': 4.014579259226176, 'unit': 'mg'}, 'P': {'label': 'Phosphorus, P', 'quantity': 1426.092429594763, 'unit': 'mg'}, 'VITA_RAE': {'label': 'Vitamin A, RAE', 'quantity': 1295.250308385912, 'unit': 'µg'}, 'VITC': {'label': 'Vitamin C, total ascorbic acid', 'quantity': 305.5274833554, 'unit': 'mg'}, 'THIA': {'label': 'Thiamin', 'quantity': 1.0766170276231852, 'unit': 'mg'}, 'RIBF': {'label': 'Riboflavin', 'quantity': 1.0638182903898261, 'unit': 'mg'}, 'NIA': {'label': 'Niacin', 'quantity': 13.057058004405272, 'unit': 'mg'}, 'VITB6A': {'label': 'Vitamin B-6', 'quantity': 3.6391877635991046, 'unit': 'mg'}, 'FOLDFE': {'label': 'Folate, DFE', 'quantity': 145.9237848302863, 'unit': 'µg'}, 'FOLFD': {'label': 'Folate, food', 'quantity': 145.9237848302863, 'unit': 'µg'}, 'FOLAC': {'label': 'Folic acid', 'quantity': 0.0, 'unit': 'µg'}, 'VITB12': {'label': 'Vitamin B-12', 'quantity': 1.8143694799999999, 'unit': 'µg'}, 'VITD': {'label': 'Vitamin D (D2 + D3)', 'quantity': 33.86823029333333, 'unit': 'µg'}, 'TOCPHA': {'label': 'Vitamin E (alpha-tocopherol)', 'quantity': 7.598886960019856, 'unit': 'mg'}, 'VITK1': {'label': 'Vitamin K (phylloquinone)', 'quantity': 54.89155048181683, 'unit': 'µg'}, 'WATER': {'label': 'Water', 'quantity': 1287.1788400820762, 'unit': 'g'}}, 'totalDaily': {'ENERC_KCAL': {'label': 'Energy', 'quantity': 48.3611479964505, 'unit': '%'}, 'FAT': {'label': 'Fat', 'quantity': 21.465757782596437, 'unit': '%'}, 'FASAT': {'label': 'Saturated', 'quantity': 16.77226955060658, 'unit': '%'}, 'CHOCDF': {'label': 'Carbs', 'quantity': 35.66267866163135, 'unit': '%'}, 'FIBTG': {'label': 'Fiber', 'quantity': 94.00003115379414, 'unit': '%'}, 'PROCNT': {'label': 'Protein', 'quantity': 242.37357104705046, 'unit': '%'}, 'CHOLE': {'label': 'Cholesterol', 'quantity': 82.65460964444443, 'unit': '%'}, 'NA': {'label': 'Sodium', 'quantity': 149.3773848638229, 'unit': '%'}, 'CA': {'label': 'Calcium', 'quantity': 33.87063751588385, 'unit': '%'}, 'MG': {'label': 'Magnesium', 'quantity': 84.62937577874344, 'unit': '%'}, 'K': {'label': 'Potassium', 'quantity': 67.93408630625581, 'unit': '%'}, 'FE': {'label': 'Iron', 'quantity': 40.91939493088032, 'unit': '%'}, 'ZN': {'label': 'Zinc', 'quantity': 36.49617508387433, 'unit': '%'}, 'P': {'label': 'Phosphorus', 'quantity': 203.727489942109, 'unit': '%'}, 'VITA_RAE': {'label': 'Vitamin A', 'quantity': 143.916700931768, 'unit': '%'}, 'VITC': {'label': 'Vitamin C', 'quantity': 339.47498150600006, 'unit': '%'}, 'THIA': {'label': 'Thiamin (B1)', 'quantity': 89.71808563526544, 'unit': '%'}, 'RIBF': {'label': 'Riboflavin (B2)', 'quantity': 81.83217618383277, 'unit': '%'}, 'NIA': {'label': 'Niacin (B3)', 'quantity': 81.60661252753295, 'unit': '%'}, 'VITB6A': {'label': 'Vitamin B6', 'quantity': 279.9375202768542, 'unit': '%'}, 'FOLDFE': {'label': 'Folate equivalent (total)', 'quantity': 36.48094620757158, 'unit': '%'}, 'VITB12': {'label': 'Vitamin B12', 'quantity': 75.59872833333333, 'unit': '%'}, 'VITD': {'label': 'Vitamin D', 'quantity': 225.78820195555554, 'unit': '%'}, 'TOCPHA': {'label': 'Vitamin E', 'quantity': 50.659246400132375, 'unit': '%'}, 'VITK1': {'label': 'Vitamin K', 'quantity': 45.742958734847356, 'unit': '%'}}, 'digest': [{'label': 'Fat', 'tag': 'FAT', 'schemaOrgTag': 'fatContent', 'total': 13.952742558687685, 'hasRDI': True, 'daily': 21.465757782596437, 'unit': 'g', 'sub': [{'label': 'Saturated', 'tag': 'FASAT', 'schemaOrgTag': 'saturatedFatContent', 'total': 3.354453910121316, 'hasRDI': True, 'daily': 16.77226955060658, 'unit': 'g'}, {'label': 'Trans', 'tag': 'FATRN', 'schemaOrgTag': 'transFatContent', 'total': 0.0, 'hasRDI': False, 'daily': 0.0, 'unit': 'g'}, {'label': 'Monounsaturated', 'tag': 'FAMS', 'schemaOrgTag': None, 'total': 2.787869984128357, 'hasRDI': False, 'daily': 0.0, 'unit': 'g'}, {'label': 'Polyunsaturated', 'tag': 'FAPU', 'schemaOrgTag': None, 'total': 5.077970332722236, 'hasRDI': False, 'daily': 0.0, 'unit': 'g'}]}, {'label': 'Carbs', 'tag': 'CHOCDF', 'schemaOrgTag': 'carbohydrateContent', 'total': 106.98803598489404, 'hasRDI': True, 'daily': 35.66267866163135, 'unit': 'g', 'sub': [{'label': 'Carbs (net)', 'tag': 'CHOCDF.net', 'schemaOrgTag': None, 'total': 0.0, 'hasRDI': False, 'daily': 0.0, 'unit': 'g'}, {'label': 'Fiber', 'tag': 'FIBTG', 'schemaOrgTag': 'fiberContent', 'total': 23.500007788448535, 'hasRDI': True, 'daily': 94.00003115379414, 'unit': 'g'}, {'label': 'Sugars', 'tag': 'SUGAR', 'schemaOrgTag': 'sugarContent', 'total': 26.163184648814852, 'hasRDI': False, 'daily': 0.0, 'unit': 'g'}, {'label': 'Sugars, added', 'tag': 'SUGAR.added', 'schemaOrgTag': None, 'total': 0.0, 'hasRDI': False, 'daily': 0.0, 'unit': 'g'}]}, {'label': 'Protein', 'tag': 'PROCNT', 'schemaOrgTag': 'proteinContent', 'total': 121.18678552352523, 'hasRDI': True, 'daily': 242.37357104705046, 'unit': 'g'}, {'label': 'Cholesterol', 'tag': 'CHOLE', 'schemaOrgTag': 'cholesterolContent', 'total': 247.96382893333333, 'hasRDI': True, 'daily': 82.65460964444443, 'unit': 'mg'}, {'label': 'Sodium', 'tag': 'NA', 'schemaOrgTag': 'sodiumContent', 'total': 3585.05723673175, 'hasRDI': True, 'daily': 149.3773848638229, 'unit': 'mg'}, {'label': 'Calcium', 'tag': 'CA', 'schemaOrgTag': None, 'total': 338.70637515883845, 'hasRDI': True, 'daily': 33.87063751588385, 'unit': 'mg'}, {'label': 'Magnesium', 'tag': 'MG', 'schemaOrgTag': None, 'total': 355.44337827072246, 'hasRDI': True, 'daily': 84.62937577874344, 'unit': 'mg'}, {'label': 'Potassium', 'tag': 'K', 'schemaOrgTag': None, 'total': 3192.9020563940235, 'hasRDI': True, 'daily': 67.93408630625581, 'unit': 'mg'}, {'label': 'Iron', 'tag': 'FE', 'schemaOrgTag': None, 'total': 7.365491087558459, 'hasRDI': True, 'daily': 40.91939493088032, 'unit': 'mg'}, {'label': 'Zinc', 'tag': 'ZN', 'schemaOrgTag': None, 'total': 4.014579259226176, 'hasRDI': True, 'daily': 36.49617508387433, 'unit': 'mg'}, {'label': 'Phosphorus', 'tag': 'P', 'schemaOrgTag': None, 'total': 1426.092429594763, 'hasRDI': True, 'daily': 203.727489942109, 'unit': 'mg'}, {'label': 'Vitamin A', 'tag': 'VITA_RAE', 'schemaOrgTag': None, 'total': 1295.250308385912, 'hasRDI': True, 'daily': 143.916700931768, 'unit': 'µg'}, {'label': 'Vitamin C', 'tag': 'VITC', 'schemaOrgTag': None, 'total': 305.5274833554, 'hasRDI': True, 'daily': 339.47498150600006, 'unit': 'mg'}, {'label': 'Thiamin (B1)', 'tag': 'THIA', 'schemaOrgTag': None, 'total': 1.0766170276231852, 'hasRDI': True, 'daily': 89.71808563526544, 'unit': 'mg'}, {'label': 'Riboflavin (B2)', 'tag': 'RIBF', 'schemaOrgTag': None, 'total': 1.0638182903898261, 'hasRDI': True, 'daily': 81.83217618383277, 'unit': 'mg'}, {'label': 'Niacin (B3)', 'tag': 'NIA', 'schemaOrgTag': None, 'total': 13.057058004405272, 'hasRDI': True, 'daily': 81.60661252753295, 'unit': 'mg'}, {'label': 'Vitamin B6', 'tag': 'VITB6A', 'schemaOrgTag': None, 'total': 3.6391877635991046, 'hasRDI': True, 'daily': 279.9375202768542, 'unit': 'mg'}, {'label': 'Folate equivalent (total)', 'tag': 'FOLDFE', 'schemaOrgTag': None, 'total': 145.9237848302863, 'hasRDI': True, 'daily': 36.48094620757158, 'unit': 'µg'}, {'label': 'Folate (food)', 'tag': 'FOLFD', 'schemaOrgTag': None, 'total': 145.9237848302863, 'hasRDI': False, 'daily': 0.0, 'unit': 'µg'}, {'label': 'Folic acid', 'tag': 'FOLAC', 'schemaOrgTag': None, 'total': 0.0, 'hasRDI': False, 'daily': 0.0, 'unit': 'µg'}, {'label': 'Vitamin B12', 'tag': 'VITB12', 'schemaOrgTag': None, 'total': 1.8143694799999999, 'hasRDI': True, 'daily': 75.59872833333333, 'unit': 'µg'}, {'label': 'Vitamin D', 'tag': 'VITD', 'schemaOrgTag': None, 'total': 33.86823029333333, 'hasRDI': True, 'daily': 225.78820195555554, 'unit': 'µg'}, {'label': 'Vitamin E', 'tag': 'TOCPHA', 'schemaOrgTag': None, 'total': 7.598886960019856, 'hasRDI': True, 'daily': 50.659246400132375, 'unit': 'mg'}, {'label': 'Vitamin K', 'tag': 'VITK1', 'schemaOrgTag': None, 'total': 54.89155048181683, 'hasRDI': True, 'daily': 45.742958734847356, 'unit': 'µg'}, {'label': 'Sugar alcohols', 'tag': 'Sugar.alcohol', 'schemaOrgTag': None, 'total': 0.0, 'hasRDI': False, 'daily': 0.0, 'unit': 'g'}, {'label': 'Water', 'tag': 'WATER', 'schemaOrgTag': None, 'total': 1287.1788400820762, 'hasRDI': False, 'daily': 0.0, 'unit': 'g'}]}]\n"
     ]
    },
    {
     "name": "stdout",
     "output_type": "stream",
     "text": [
      "[{'uri': 'http://www.edamam.com/ontologies/edamam.owl#recipe_44d9332f2b2872c5d513256561cda136', 'label': \"Don Ceviche (Sea Bass Ceviche) From 'Ceviche: Peruvian Kitchen'\", 'image': 'https://www.edamam.com/web-img/091/0911aabc7fad06f90548a57948dfe4a4.jpg', 'images': {'THUMBNAIL': {'url': 'https://www.edamam.com/web-img/091/0911aabc7fad06f90548a57948dfe4a4-s.jpg', 'width': 100, 'height': 100}, 'SMALL': {'url': 'https://www.edamam.com/web-img/091/0911aabc7fad06f90548a57948dfe4a4-m.jpg', 'width': 200, 'height': 200}, 'REGULAR': {'url': 'https://www.edamam.com/web-img/091/0911aabc7fad06f90548a57948dfe4a4.jpg', 'width': 300, 'height': 300}, 'LARGE': {'url': 'https://www.edamam.com/web-img/091/0911aabc7fad06f90548a57948dfe4a4-l.jpg', 'width': 600, 'height': 600}}, 'source': 'Serious Eats', 'url': 'http://www.seriouseats.com/recipes/2014/06/don-ceviche-sea-bass-ceviche-from-ceviche-peruvian-kitchen.html', 'shareAs': 'http://www.edamam.com/recipe/don-ceviche-sea-bass-ceviche-from-ceviche-peruvian-kitchen-44d9332f2b2872c5d513256561cda136/ceviche', 'yield': 4.0, 'dietLabels': ['High-Protein', 'High-Fiber', 'Low-Fat'], 'healthLabels': ['Pescatarian', 'Mediterranean', 'Gluten-Free', 'Wheat-Free', 'Egg-Free', 'Peanut-Free', 'Tree-Nut-Free', 'Soy-Free', 'Shellfish-Free', 'Pork-Free', 'Red-Meat-Free', 'Crustacean-Free', 'Celery-Free', 'Mustard-Free', 'Sesame-Free', 'Lupine-Free', 'Mollusk-Free', 'Alcohol-Free', 'No oil added', 'Sulfite-Free', 'Kosher'], 'cautions': ['Gluten', 'Wheat', 'Sulfites', 'FODMAP'], 'ingredientLines': [\"Amarillo Chili Tiger's Milk\", '1/4 inch (5 mm) piece fresh ginger, cut in half', '1 small clove garlic, cut in half', '4 roughly chopped cilantro sprigs', '8 limes, juiced', '1/2 teaspoon salt', '2 teaspoons Amarillo Chile Paste', 'Ceviche', '1 large red onion, very thinly sliced', '1 1/3 lb (600 g) sea bass fillet (or other white fish), skinned and trimmed', \"Amarillo Chili Tiger's Milk (above)\", 'A few cilantro sprigs, leaves finely chopped', '1 limo chili, seeded and finely chopped', '1 sweet potato, cooked and cut into small cubes', 'Fine sea salt'], 'ingredients': [{'text': \"Amarillo Chili Tiger's Milk\", 'quantity': 0.0, 'measure': None, 'food': 'Chili', 'weight': 43.716278133348865, 'foodCategory': 'vegetables', 'foodId': 'food_a6g98mqatzj7vca6ms3bnbzqxf3s', 'image': 'https://www.edamam.com/food-img/469/469213672957a242638e20c27e3e8acd.jpeg'}, {'text': '1/4 inch (5 mm) piece fresh ginger, cut in half', 'quantity': 0.25, 'measure': 'piece', 'food': 'fresh ginger', 'weight': 3.75, 'foodCategory': 'vegetables', 'foodId': 'food_bi2ki2xb5zmmvbaiwf7ztbgktzp6', 'image': 'https://www.edamam.com/food-img/b9c/b9c06ef451ef29513880af0a53ebbaa6.jpg'}, {'text': '1 small clove garlic, cut in half', 'quantity': 1.0, 'measure': 'clove', 'food': 'garlic', 'weight': 2.25, 'foodCategory': 'vegetables', 'foodId': 'food_avtcmx6bgjv1jvay6s6stan8dnyp', 'image': 'https://www.edamam.com/food-img/6ee/6ee142951f48aaf94f4312409f8d133d.jpg'}, {'text': '4 roughly chopped cilantro sprigs', 'quantity': 4.0, 'measure': 'sprig', 'food': 'cilantro', 'weight': 8.88888888888889, 'foodCategory': 'vegetables', 'foodId': 'food_alhzhuwb4lc7jnb5s6f02by60bzp', 'image': 'https://www.edamam.com/food-img/d57/d57e375b6ff99a90c7ee2b1990a1af36.jpg'}, {'text': '8 limes, juiced', 'quantity': 8.0, 'measure': '<unit>', 'food': 'limes', 'weight': 536.0, 'foodCategory': 'fruit', 'foodId': 'food_av58muyb8kg92fbk0g8g8aui5knv', 'image': 'https://www.edamam.com/food-img/48a/48a123c9576647c4ada6a41df5eeb22a.jpg'}, {'text': '1/2 teaspoon salt', 'quantity': 0.5, 'measure': 'teaspoon', 'food': 'salt', 'weight': 3.0, 'foodCategory': 'Condiments and sauces', 'foodId': 'food_btxz81db72hwbra2pncvebzzzum9', 'image': 'https://www.edamam.com/food-img/694/6943ea510918c6025795e8dc6e6eaaeb.jpg'}, {'text': '2 teaspoons Amarillo Chile Paste', 'quantity': 2.0, 'measure': 'teaspoon', 'food': 'Chile Paste', 'weight': 10.20833333385111, 'foodCategory': 'canned soup', 'foodId': 'food_ayjzfd9bhvwqorb6m5iq3bekq7cj', 'image': 'https://www.edamam.com/food-img/12f/12f4b9a8e738f35b7dd787a5360e4a45.jpg'}, {'text': '1 large red onion, very thinly sliced', 'quantity': 1.0, 'measure': '<unit>', 'food': 'red onion', 'weight': 150.0, 'foodCategory': 'vegetables', 'foodId': 'food_bmrvi4ob4binw9a5m7l07amlfcoy', 'image': 'https://www.edamam.com/food-img/205/205e6bf2399b85d34741892ef91cc603.jpg'}, {'text': '1 1/3 lb (600 g) sea bass fillet (or other white fish), skinned and trimmed', 'quantity': 1.3333333333333333, 'measure': 'pound', 'food': 'sea bass', 'weight': 604.7898266666666, 'foodCategory': 'seafood', 'foodId': 'food_al3s05wang1th2af87twla0jk24v', 'image': 'https://www.edamam.com/food-img/8b5/8b58f49cbed348dffbe1e43663a9e5e3.jpg'}, {'text': \"Amarillo Chili Tiger's Milk (above)\", 'quantity': 0.0, 'measure': None, 'food': 'Chili', 'weight': 43.716278133348865, 'foodCategory': 'vegetables', 'foodId': 'food_a6g98mqatzj7vca6ms3bnbzqxf3s', 'image': 'https://www.edamam.com/food-img/469/469213672957a242638e20c27e3e8acd.jpeg'}, {'text': 'A few cilantro sprigs, leaves finely chopped', 'quantity': 1.0, 'measure': 'sprig', 'food': 'cilantro', 'weight': 2.2222222222222223, 'foodCategory': 'vegetables', 'foodId': 'food_alhzhuwb4lc7jnb5s6f02by60bzp', 'image': 'https://www.edamam.com/food-img/d57/d57e375b6ff99a90c7ee2b1990a1af36.jpg'}, {'text': '1 limo chili, seeded and finely chopped', 'quantity': 1.0, 'measure': '<unit>', 'food': 'chili', 'weight': 6.1, 'foodCategory': 'vegetables', 'foodId': 'food_akybxs9atrgwona5nz3jgbo3vor5', 'image': 'https://www.edamam.com/food-img/e3d/e3d161d6cfe5ef287053aed5461738ba.jpg'}, {'text': '1 sweet potato, cooked and cut into small cubes', 'quantity': 1.0, 'measure': '<unit>', 'food': 'sweet potato', 'weight': 130.0, 'foodCategory': 'vegetables', 'foodId': 'food_bg68yf2b3dlfusawgs590bjloxfd', 'image': 'https://www.edamam.com/food-img/b66/b660e3d37b4ea9d58cb98e8ea73933b6.jpg'}, {'text': 'Fine sea salt', 'quantity': 0.0, 'measure': None, 'food': 'Fine sea salt', 'weight': 8.743255626669773, 'foodCategory': 'Condiments and sauces', 'foodId': 'food_btxz81db72hwbra2pncvebzzzum9', 'image': 'https://www.edamam.com/food-img/694/6943ea510918c6025795e8dc6e6eaaeb.jpg'}], 'calories': 967.22295992901, 'totalWeight': 1549.559078088089, 'totalTime': 30.0, 'cuisineType': ['south american'], 'mealType': ['lunch/dinner'], 'dishType': ['main course'], 'totalNutrients': {'ENERC_KCAL': {'label': 'Energy', 'quantity': 967.22295992901, 'unit': 'kcal'}, 'FAT': {'label': 'Total lipid (fat)', 'quantity': 13.952742558687685, 'unit': 'g'}, 'FASAT': {'label': 'Fatty acids, total saturated', 'quantity': 3.354453910121316, 'unit': 'g'}, 'FAMS': {'label': 'Fatty acids, total monounsaturated', 'quantity': 2.787869984128357, 'unit': 'g'}, 'FAPU': {'label': 'Fatty acids, total polyunsaturated', 'quantity': 5.077970332722236, 'unit': 'g'}, 'CHOCDF': {'label': 'Carbohydrate, by difference', 'quantity': 106.98803598489404, 'unit': 'g'}, 'FIBTG': {'label': 'Fiber, total dietary', 'quantity': 23.500007788448535, 'unit': 'g'}, 'SUGAR': {'label': 'Sugars, total', 'quantity': 26.163184648814852, 'unit': 'g'}, 'PROCNT': {'label': 'Protein', 'quantity': 121.18678552352523, 'unit': 'g'}, 'CHOLE': {'label': 'Cholesterol', 'quantity': 247.96382893333333, 'unit': 'mg'}, 'NA': {'label': 'Sodium, Na', 'quantity': 3585.05723673175, 'unit': 'mg'}, 'CA': {'label': 'Calcium, Ca', 'quantity': 338.70637515883845, 'unit': 'mg'}, 'MG': {'label': 'Magnesium, Mg', 'quantity': 355.44337827072246, 'unit': 'mg'}, 'K': {'label': 'Potassium, K', 'quantity': 3192.9020563940235, 'unit': 'mg'}, 'FE': {'label': 'Iron, Fe', 'quantity': 7.365491087558459, 'unit': 'mg'}, 'ZN': {'label': 'Zinc, Zn', 'quantity': 4.014579259226176, 'unit': 'mg'}, 'P': {'label': 'Phosphorus, P', 'quantity': 1426.092429594763, 'unit': 'mg'}, 'VITA_RAE': {'label': 'Vitamin A, RAE', 'quantity': 1295.250308385912, 'unit': 'µg'}, 'VITC': {'label': 'Vitamin C, total ascorbic acid', 'quantity': 305.5274833554, 'unit': 'mg'}, 'THIA': {'label': 'Thiamin', 'quantity': 1.0766170276231852, 'unit': 'mg'}, 'RIBF': {'label': 'Riboflavin', 'quantity': 1.0638182903898261, 'unit': 'mg'}, 'NIA': {'label': 'Niacin', 'quantity': 13.057058004405272, 'unit': 'mg'}, 'VITB6A': {'label': 'Vitamin B-6', 'quantity': 3.6391877635991046, 'unit': 'mg'}, 'FOLDFE': {'label': 'Folate, DFE', 'quantity': 145.9237848302863, 'unit': 'µg'}, 'FOLFD': {'label': 'Folate, food', 'quantity': 145.9237848302863, 'unit': 'µg'}, 'FOLAC': {'label': 'Folic acid', 'quantity': 0.0, 'unit': 'µg'}, 'VITB12': {'label': 'Vitamin B-12', 'quantity': 1.8143694799999999, 'unit': 'µg'}, 'VITD': {'label': 'Vitamin D (D2 + D3)', 'quantity': 33.86823029333333, 'unit': 'µg'}, 'TOCPHA': {'label': 'Vitamin E (alpha-tocopherol)', 'quantity': 7.598886960019856, 'unit': 'mg'}, 'VITK1': {'label': 'Vitamin K (phylloquinone)', 'quantity': 54.89155048181683, 'unit': 'µg'}, 'WATER': {'label': 'Water', 'quantity': 1287.1788400820762, 'unit': 'g'}}, 'totalDaily': {'ENERC_KCAL': {'label': 'Energy', 'quantity': 48.3611479964505, 'unit': '%'}, 'FAT': {'label': 'Fat', 'quantity': 21.465757782596437, 'unit': '%'}, 'FASAT': {'label': 'Saturated', 'quantity': 16.77226955060658, 'unit': '%'}, 'CHOCDF': {'label': 'Carbs', 'quantity': 35.66267866163135, 'unit': '%'}, 'FIBTG': {'label': 'Fiber', 'quantity': 94.00003115379414, 'unit': '%'}, 'PROCNT': {'label': 'Protein', 'quantity': 242.37357104705046, 'unit': '%'}, 'CHOLE': {'label': 'Cholesterol', 'quantity': 82.65460964444443, 'unit': '%'}, 'NA': {'label': 'Sodium', 'quantity': 149.3773848638229, 'unit': '%'}, 'CA': {'label': 'Calcium', 'quantity': 33.87063751588385, 'unit': '%'}, 'MG': {'label': 'Magnesium', 'quantity': 84.62937577874344, 'unit': '%'}, 'K': {'label': 'Potassium', 'quantity': 67.93408630625581, 'unit': '%'}, 'FE': {'label': 'Iron', 'quantity': 40.91939493088032, 'unit': '%'}, 'ZN': {'label': 'Zinc', 'quantity': 36.49617508387433, 'unit': '%'}, 'P': {'label': 'Phosphorus', 'quantity': 203.727489942109, 'unit': '%'}, 'VITA_RAE': {'label': 'Vitamin A', 'quantity': 143.916700931768, 'unit': '%'}, 'VITC': {'label': 'Vitamin C', 'quantity': 339.47498150600006, 'unit': '%'}, 'THIA': {'label': 'Thiamin (B1)', 'quantity': 89.71808563526544, 'unit': '%'}, 'RIBF': {'label': 'Riboflavin (B2)', 'quantity': 81.83217618383277, 'unit': '%'}, 'NIA': {'label': 'Niacin (B3)', 'quantity': 81.60661252753295, 'unit': '%'}, 'VITB6A': {'label': 'Vitamin B6', 'quantity': 279.9375202768542, 'unit': '%'}, 'FOLDFE': {'label': 'Folate equivalent (total)', 'quantity': 36.48094620757158, 'unit': '%'}, 'VITB12': {'label': 'Vitamin B12', 'quantity': 75.59872833333333, 'unit': '%'}, 'VITD': {'label': 'Vitamin D', 'quantity': 225.78820195555554, 'unit': '%'}, 'TOCPHA': {'label': 'Vitamin E', 'quantity': 50.659246400132375, 'unit': '%'}, 'VITK1': {'label': 'Vitamin K', 'quantity': 45.742958734847356, 'unit': '%'}}, 'digest': [{'label': 'Fat', 'tag': 'FAT', 'schemaOrgTag': 'fatContent', 'total': 13.952742558687685, 'hasRDI': True, 'daily': 21.465757782596437, 'unit': 'g', 'sub': [{'label': 'Saturated', 'tag': 'FASAT', 'schemaOrgTag': 'saturatedFatContent', 'total': 3.354453910121316, 'hasRDI': True, 'daily': 16.77226955060658, 'unit': 'g'}, {'label': 'Trans', 'tag': 'FATRN', 'schemaOrgTag': 'transFatContent', 'total': 0.0, 'hasRDI': False, 'daily': 0.0, 'unit': 'g'}, {'label': 'Monounsaturated', 'tag': 'FAMS', 'schemaOrgTag': None, 'total': 2.787869984128357, 'hasRDI': False, 'daily': 0.0, 'unit': 'g'}, {'label': 'Polyunsaturated', 'tag': 'FAPU', 'schemaOrgTag': None, 'total': 5.077970332722236, 'hasRDI': False, 'daily': 0.0, 'unit': 'g'}]}, {'label': 'Carbs', 'tag': 'CHOCDF', 'schemaOrgTag': 'carbohydrateContent', 'total': 106.98803598489404, 'hasRDI': True, 'daily': 35.66267866163135, 'unit': 'g', 'sub': [{'label': 'Carbs (net)', 'tag': 'CHOCDF.net', 'schemaOrgTag': None, 'total': 0.0, 'hasRDI': False, 'daily': 0.0, 'unit': 'g'}, {'label': 'Fiber', 'tag': 'FIBTG', 'schemaOrgTag': 'fiberContent', 'total': 23.500007788448535, 'hasRDI': True, 'daily': 94.00003115379414, 'unit': 'g'}, {'label': 'Sugars', 'tag': 'SUGAR', 'schemaOrgTag': 'sugarContent', 'total': 26.163184648814852, 'hasRDI': False, 'daily': 0.0, 'unit': 'g'}, {'label': 'Sugars, added', 'tag': 'SUGAR.added', 'schemaOrgTag': None, 'total': 0.0, 'hasRDI': False, 'daily': 0.0, 'unit': 'g'}]}, {'label': 'Protein', 'tag': 'PROCNT', 'schemaOrgTag': 'proteinContent', 'total': 121.18678552352523, 'hasRDI': True, 'daily': 242.37357104705046, 'unit': 'g'}, {'label': 'Cholesterol', 'tag': 'CHOLE', 'schemaOrgTag': 'cholesterolContent', 'total': 247.96382893333333, 'hasRDI': True, 'daily': 82.65460964444443, 'unit': 'mg'}, {'label': 'Sodium', 'tag': 'NA', 'schemaOrgTag': 'sodiumContent', 'total': 3585.05723673175, 'hasRDI': True, 'daily': 149.3773848638229, 'unit': 'mg'}, {'label': 'Calcium', 'tag': 'CA', 'schemaOrgTag': None, 'total': 338.70637515883845, 'hasRDI': True, 'daily': 33.87063751588385, 'unit': 'mg'}, {'label': 'Magnesium', 'tag': 'MG', 'schemaOrgTag': None, 'total': 355.44337827072246, 'hasRDI': True, 'daily': 84.62937577874344, 'unit': 'mg'}, {'label': 'Potassium', 'tag': 'K', 'schemaOrgTag': None, 'total': 3192.9020563940235, 'hasRDI': True, 'daily': 67.93408630625581, 'unit': 'mg'}, {'label': 'Iron', 'tag': 'FE', 'schemaOrgTag': None, 'total': 7.365491087558459, 'hasRDI': True, 'daily': 40.91939493088032, 'unit': 'mg'}, {'label': 'Zinc', 'tag': 'ZN', 'schemaOrgTag': None, 'total': 4.014579259226176, 'hasRDI': True, 'daily': 36.49617508387433, 'unit': 'mg'}, {'label': 'Phosphorus', 'tag': 'P', 'schemaOrgTag': None, 'total': 1426.092429594763, 'hasRDI': True, 'daily': 203.727489942109, 'unit': 'mg'}, {'label': 'Vitamin A', 'tag': 'VITA_RAE', 'schemaOrgTag': None, 'total': 1295.250308385912, 'hasRDI': True, 'daily': 143.916700931768, 'unit': 'µg'}, {'label': 'Vitamin C', 'tag': 'VITC', 'schemaOrgTag': None, 'total': 305.5274833554, 'hasRDI': True, 'daily': 339.47498150600006, 'unit': 'mg'}, {'label': 'Thiamin (B1)', 'tag': 'THIA', 'schemaOrgTag': None, 'total': 1.0766170276231852, 'hasRDI': True, 'daily': 89.71808563526544, 'unit': 'mg'}, {'label': 'Riboflavin (B2)', 'tag': 'RIBF', 'schemaOrgTag': None, 'total': 1.0638182903898261, 'hasRDI': True, 'daily': 81.83217618383277, 'unit': 'mg'}, {'label': 'Niacin (B3)', 'tag': 'NIA', 'schemaOrgTag': None, 'total': 13.057058004405272, 'hasRDI': True, 'daily': 81.60661252753295, 'unit': 'mg'}, {'label': 'Vitamin B6', 'tag': 'VITB6A', 'schemaOrgTag': None, 'total': 3.6391877635991046, 'hasRDI': True, 'daily': 279.9375202768542, 'unit': 'mg'}, {'label': 'Folate equivalent (total)', 'tag': 'FOLDFE', 'schemaOrgTag': None, 'total': 145.9237848302863, 'hasRDI': True, 'daily': 36.48094620757158, 'unit': 'µg'}, {'label': 'Folate (food)', 'tag': 'FOLFD', 'schemaOrgTag': None, 'total': 145.9237848302863, 'hasRDI': False, 'daily': 0.0, 'unit': 'µg'}, {'label': 'Folic acid', 'tag': 'FOLAC', 'schemaOrgTag': None, 'total': 0.0, 'hasRDI': False, 'daily': 0.0, 'unit': 'µg'}, {'label': 'Vitamin B12', 'tag': 'VITB12', 'schemaOrgTag': None, 'total': 1.8143694799999999, 'hasRDI': True, 'daily': 75.59872833333333, 'unit': 'µg'}, {'label': 'Vitamin D', 'tag': 'VITD', 'schemaOrgTag': None, 'total': 33.86823029333333, 'hasRDI': True, 'daily': 225.78820195555554, 'unit': 'µg'}, {'label': 'Vitamin E', 'tag': 'TOCPHA', 'schemaOrgTag': None, 'total': 7.598886960019856, 'hasRDI': True, 'daily': 50.659246400132375, 'unit': 'mg'}, {'label': 'Vitamin K', 'tag': 'VITK1', 'schemaOrgTag': None, 'total': 54.89155048181683, 'hasRDI': True, 'daily': 45.742958734847356, 'unit': 'µg'}, {'label': 'Sugar alcohols', 'tag': 'Sugar.alcohol', 'schemaOrgTag': None, 'total': 0.0, 'hasRDI': False, 'daily': 0.0, 'unit': 'g'}, {'label': 'Water', 'tag': 'WATER', 'schemaOrgTag': None, 'total': 1287.1788400820762, 'hasRDI': False, 'daily': 0.0, 'unit': 'g'}]}, {'uri': 'http://www.edamam.com/ontologies/edamam.owl#recipe_1b6dfeaf0988f96b187c7c9bb69a14fa', 'label': 'Pizza Dough', 'image': 'https://www.edamam.com/web-img/284/2849b3eb3b46aa0e682572d48f86d487.jpg', 'images': {'THUMBNAIL': {'url': 'https://www.edamam.com/web-img/284/2849b3eb3b46aa0e682572d48f86d487-s.jpg', 'width': 100, 'height': 100}, 'SMALL': {'url': 'https://www.edamam.com/web-img/284/2849b3eb3b46aa0e682572d48f86d487-m.jpg', 'width': 200, 'height': 200}, 'REGULAR': {'url': 'https://www.edamam.com/web-img/284/2849b3eb3b46aa0e682572d48f86d487.jpg', 'width': 300, 'height': 300}, 'LARGE': {'url': 'https://www.edamam.com/web-img/284/2849b3eb3b46aa0e682572d48f86d487-l.jpg', 'width': 600, 'height': 600}}, 'source': 'Lottie + Doof', 'url': 'http://www.lottieanddoof.com/2010/01/pizza-pulp-fiction-jim-lahey/', 'shareAs': 'http://www.edamam.com/recipe/pizza-dough-1b6dfeaf0988f96b187c7c9bb69a14fa/pizza', 'yield': 4.0, 'dietLabels': ['High-Fiber'], 'healthLabels': ['Vegetarian', 'Pescatarian', 'Egg-Free', 'Peanut-Free', 'Tree-Nut-Free', 'Soy-Free', 'Fish-Free', 'Shellfish-Free', 'Pork-Free', 'Red-Meat-Free', 'Crustacean-Free', 'Celery-Free', 'Mustard-Free', 'Sesame-Free', 'Lupine-Free', 'Mollusk-Free', 'Alcohol-Free', 'Kosher'], 'cautions': ['FODMAP'], 'ingredientLines': ['500 g bread flour(3 3/4 cups)', '2 1/2 tsp Dry Yeast instant or active (10 grams)', '3/4 tsp Table Salt(5 grams)', '3/4 tsp Sugar, plus a pinch (about 3 grams)', '1 1/2 cup water at room temperature', 'extra-virgin olive oil for pans', '2 x yellow onions(medium), finely chopped (pizza cipolla)', '1/3 cup Heavy Cream(pizza cipolla)', '1 tsp Kosher Salt(pizza cipolla)', '2 tsp fresh thyme, coarsely chopped(pizza cipolla)', '7 oz diced tomatoes, drained(pizza pomodoro)', '3/4 cup Canned Tomatoes (reserved juice) (pizza pomodoro)', '2 tsp Extra Virgin Olive Oil(pizza pomodoro)', '1/2 tsp Kosher Salt(pizza pomodoro)', '1 pinch Red Pepper Flakes(pizza pomodoro)', '8 x fresh basil (large leaves), chopped(pizza pomodoro)'], 'ingredients': [{'text': '500 g bread flour(3 3/4 cups)', 'quantity': 3.75, 'measure': 'cup', 'food': 'bread flour', 'weight': 513.75, 'foodCategory': 'grains', 'foodId': 'food_b5xk0gwa3clakbaap10sta82dgdk', 'image': 'https://www.edamam.com/food-img/132/1328fd505cdd3b75fbb8d7b58de5427c.jpg'}, {'text': '2 1/2 tsp Dry Yeast instant or active (10 grams)', 'quantity': 10.0, 'measure': 'gram', 'food': 'Yeast', 'weight': 10.0, 'foodCategory': 'condiments and sauces', 'foodId': 'food_a2xisx4br72i19btvvxgzayoelqj', 'image': 'https://www.edamam.com/food-img/433/433749733fd8a22560cdb451b1317be1.jpg'}, {'text': '3/4 tsp Table Salt(5 grams)', 'quantity': 5.0, 'measure': 'gram', 'food': 'Table Salt', 'weight': 5.0, 'foodCategory': 'Condiments and sauces', 'foodId': 'food_btxz81db72hwbra2pncvebzzzum9', 'image': 'https://www.edamam.com/food-img/694/6943ea510918c6025795e8dc6e6eaaeb.jpg'}, {'text': '3/4 tsp Sugar, plus a pinch (about 3 grams)', 'quantity': 0.75, 'measure': 'teaspoon', 'food': 'Sugar', 'weight': 3.1500000000000004, 'foodCategory': 'sugars', 'foodId': 'food_axi2ijobrk819yb0adceobnhm1c2', 'image': 'https://www.edamam.com/food-img/ecb/ecb3f5aaed96d0188c21b8369be07765.jpg'}, {'text': '3/4 tsp Sugar, plus a pinch (about 3 grams)', 'quantity': 3.0, 'measure': 'gram', 'food': 'Sugar', 'weight': 3.0, 'foodCategory': 'sugars', 'foodId': 'food_axi2ijobrk819yb0adceobnhm1c2', 'image': 'https://www.edamam.com/food-img/ecb/ecb3f5aaed96d0188c21b8369be07765.jpg'}, {'text': '1 1/2 cup water at room temperature', 'quantity': 1.5, 'measure': 'cup', 'food': 'water', 'weight': 355.5, 'foodCategory': 'water', 'foodId': 'food_a99vzubbk1ayrsad318rvbzr3dh0', 'image': 'https://www.edamam.com/food-img/5dd/5dd9d1361847b2ca53c4b19a8f92627e.jpg'}, {'text': 'extra-virgin olive oil for pans', 'quantity': 0.0, 'measure': None, 'food': 'extra-virgin olive oil', 'weight': 21.98758814317252, 'foodCategory': 'Oils', 'foodId': 'food_b1d1icuad3iktrbqby0hiagafaz7', 'image': 'https://www.edamam.com/food-img/4d6/4d651eaa8a353647746290c7a9b29d84.jpg'}, {'text': '2 x yellow onions(medium), finely chopped (pizza cipolla)', 'quantity': 2.0, 'measure': '<unit>', 'food': 'yellow onions', 'weight': 250.0, 'foodCategory': 'vegetables', 'foodId': 'food_bmrvi4ob4binw9a5m7l07amlfcoy', 'image': 'https://www.edamam.com/food-img/205/205e6bf2399b85d34741892ef91cc603.jpg'}, {'text': '1/3 cup Heavy Cream(pizza cipolla)', 'quantity': 0.3333333333333333, 'measure': 'cup', 'food': 'Heavy Cream', 'weight': 79.33333333333333, 'foodCategory': 'Dairy', 'foodId': 'food_bgtkr21b5v16mca246x9ebnaswyo', 'image': 'https://www.edamam.com/food-img/484/4848d71f6a14dd5076083f5e17925420.jpg'}, {'text': '1 tsp Kosher Salt(pizza cipolla)', 'quantity': 1.0, 'measure': 'teaspoon', 'food': 'Kosher Salt', 'weight': 4.854166666912875, 'foodCategory': 'Condiments and sauces', 'foodId': 'food_a1vgrj1bs8rd1majvmd9ubz8ttkg', 'image': 'https://www.edamam.com/food-img/694/6943ea510918c6025795e8dc6e6eaaeb.jpg'}, {'text': '2 tsp fresh thyme, coarsely chopped(pizza cipolla)', 'quantity': 2.0, 'measure': 'teaspoon', 'food': 'fresh thyme', 'weight': 1.6, 'foodCategory': 'Condiments and sauces', 'foodId': 'food_b3o3cj7a5gskecb0ufphtadnbfqb', 'image': 'https://www.edamam.com/food-img/3e7/3e7cf3c8d767a90b906447f5e74059f7.jpg'}, {'text': '7 oz diced tomatoes, drained(pizza pomodoro)', 'quantity': 7.0, 'measure': 'ounce', 'food': 'diced tomatoes', 'weight': 198.44666187500002, 'foodCategory': 'canned vegetables', 'foodId': 'food_bnmkkwqa9h2p87bz171eoby0bsey', 'image': 'https://www.edamam.com/food-img/d4e/d4e8110d51db4311bc894167a8f77816.jpg'}, {'text': '3/4 cup Canned Tomatoes (reserved juice) (pizza pomodoro)', 'quantity': 0.75, 'measure': 'cup', 'food': 'Canned Tomatoes', 'weight': 180.0, 'foodCategory': 'canned vegetables', 'foodId': 'food_bnmkkwqa9h2p87bz171eoby0bsey', 'image': 'https://www.edamam.com/food-img/d4e/d4e8110d51db4311bc894167a8f77816.jpg'}, {'text': '2 tsp Extra Virgin Olive Oil(pizza pomodoro)', 'quantity': 2.0, 'measure': 'teaspoon', 'food': 'Extra Virgin Olive Oil', 'weight': 9.0, 'foodCategory': 'Oils', 'foodId': 'food_b1d1icuad3iktrbqby0hiagafaz7', 'image': 'https://www.edamam.com/food-img/4d6/4d651eaa8a353647746290c7a9b29d84.jpg'}, {'text': '1/2 tsp Kosher Salt(pizza pomodoro)', 'quantity': 0.5, 'measure': 'teaspoon', 'food': 'Kosher Salt', 'weight': 2.4270833334564377, 'foodCategory': 'Condiments and sauces', 'foodId': 'food_a1vgrj1bs8rd1majvmd9ubz8ttkg', 'image': 'https://www.edamam.com/food-img/694/6943ea510918c6025795e8dc6e6eaaeb.jpg'}, {'text': '1 pinch Red Pepper Flakes(pizza pomodoro)', 'quantity': 1.0, 'measure': 'pinch', 'food': 'Red Pepper Flakes', 'weight': 0.04817708339442312, 'foodCategory': 'vegetables', 'foodId': 'food_bispmxiaijcuxcagex14mbhk2o48', 'image': 'https://www.edamam.com/food-img/6cb/6cb8e4510251a322178f6e191b3a7b1b.jpeg'}, {'text': '8 x fresh basil (large leaves), chopped(pizza pomodoro)', 'quantity': 1.0, 'measure': 'leaf', 'food': 'fresh basil', 'weight': 0.625, 'foodCategory': 'Condiments and sauces', 'foodId': 'food_bfeht3obd58c3gak5ehpibxgbbs6', 'image': 'https://www.edamam.com/food-img/5f1/5f1b05685ac2b404236a5d1c1f3c8c10.jpg'}], 'calories': 2620.983838835843, 'totalWeight': 1634.8942798085639, 'totalTime': 0.0, 'cuisineType': ['italian'], 'mealType': ['lunch/dinner'], 'dishType': ['main course'], 'totalNutrients': {'ENERC_KCAL': {'label': 'Energy', 'quantity': 2620.983838835843, 'unit': 'kcal'}, 'FAT': {'label': 'Total lipid (fat)', 'quantity': 70.85852721973856, 'unit': 'g'}, 'FASAT': {'label': 'Fatty acids, total saturated', 'quantity': 24.146169048868092, 'unit': 'g'}, 'FAMS': {'label': 'Fatty acids, total monounsaturated', 'quantity': 32.422316318640384, 'unit': 'g'}, 'FAPU': {'label': 'Fatty acids, total polyunsaturated', 'quantity': 8.52380890119751, 'unit': 'g'}, 'CHOCDF': {'label': 'Carbohydrate, by difference', 'quantity': 422.0246006775219, 'unit': 'g'}, 'FIBTG': {'label': 'Fiber, total dietary', 'quantity': 26.7047133985592, 'unit': 'g'}, 'SUGAR': {'label': 'Sugars, total', 'quantity': 30.215096388254253, 'unit': 'g'}, 'SUGAR.added': {'label': 'Sugars, added', 'quantity': 6.137700000000001, 'unit': 'g'}, 'PROCNT': {'label': 'Protein', 'quantity': 73.06396909756897, 'unit': 'g'}, 'CHOLE': {'label': 'Cholesterol', 'quantity': 108.68666666666667, 'unit': 'mg'}, 'NA': {'label': 'Sodium, Na', 'quantity': 3782.255459576151, 'unit': 'mg'}, 'CA': {'label': 'Calcium, Ca', 'quantity': 334.29146530405507, 'unit': 'mg'}, 'MG': {'label': 'Magnesium, Mg', 'quantity': 208.73343054795708, 'unit': 'mg'}, 'K': {'label': 'Potassium, K', 'quantity': 1769.5171930720503, 'unit': 'mg'}, 'FE': {'label': 'Iron, Fe', 'quantity': 26.07861297605938, 'unit': 'mg'}, 'ZN': {'label': 'Zinc, Zn', 'quantity': 6.299787586540953, 'unit': 'mg'}, 'P': {'label': 'Phosphorus, P', 'quantity': 750.0567007480139, 'unit': 'mg'}, 'VITA_RAE': {'label': 'Vitamin A, RAE', 'quantity': 407.25119695914213, 'unit': 'µg'}, 'VITC': {'label': 'Vitamin C, total ascorbic acid', 'quantity': 69.33900700043584, 'unit': 'mg'}, 'THIA': {'label': 'Thiamin', 'quantity': 7.580114662552134, 'unit': 'mg'}, 'RIBF': {'label': 'Riboflavin', 'quantity': 3.40290136455282, 'unit': 'mg'}, 'NIA': {'label': 'Niacin', 'quantity': 45.881123703909466, 'unit': 'mg'}, 'VITB6A': {'label': 'Vitamin B-6', 'quantity': 1.0873681957234116, 'unit': 'mg'}, 'FOLDFE': {'label': 'Folate, DFE', 'quantity': 1795.5656365958646, 'unit': 'µg'}, 'FOLFD': {'label': 'Folate, food', 'quantity': 485.50313659586453, 'unit': 'µg'}, 'FOLAC': {'label': 'Folic acid', 'quantity': 770.625, 'unit': 'µg'}, 'VITB12': {'label': 'Vitamin B-12', 'quantity': 0.1498, 'unit': 'µg'}, 'VITD': {'label': 'Vitamin D (D2 + D3)', 'quantity': 0.5553333333333333, 'unit': 'µg'}, 'TOCPHA': {'label': 'Vitamin E (alpha-tocopherol)', 'quantity': 9.630200297359673, 'unit': 'mg'}, 'VITK1': {'label': 'Vitamin K (phylloquinone)', 'quantity': 35.32538554183929, 'unit': 'µg'}, 'WATER': {'label': 'Water', 'quantity': 1052.8575604934392, 'unit': 'g'}}, 'totalDaily': {'ENERC_KCAL': {'label': 'Energy', 'quantity': 131.04919194179215, 'unit': '%'}, 'FAT': {'label': 'Fat', 'quantity': 109.01311879959779, 'unit': '%'}, 'FASAT': {'label': 'Saturated', 'quantity': 120.73084524434046, 'unit': '%'}, 'CHOCDF': {'label': 'Carbs', 'quantity': 140.67486689250728, 'unit': '%'}, 'FIBTG': {'label': 'Fiber', 'quantity': 106.81885359423681, 'unit': '%'}, 'PROCNT': {'label': 'Protein', 'quantity': 146.12793819513794, 'unit': '%'}, 'CHOLE': {'label': 'Cholesterol', 'quantity': 36.22888888888889, 'unit': '%'}, 'NA': {'label': 'Sodium', 'quantity': 157.59397748233962, 'unit': '%'}, 'CA': {'label': 'Calcium', 'quantity': 33.42914653040551, 'unit': '%'}, 'MG': {'label': 'Magnesium', 'quantity': 49.698435844751685, 'unit': '%'}, 'K': {'label': 'Potassium', 'quantity': 37.64930198025639, 'unit': '%'}, 'FE': {'label': 'Iron', 'quantity': 144.8811832003299, 'unit': '%'}, 'ZN': {'label': 'Zinc', 'quantity': 57.27079624128139, 'unit': '%'}, 'P': {'label': 'Phosphorus', 'quantity': 107.15095724971626, 'unit': '%'}, 'VITA_RAE': {'label': 'Vitamin A', 'quantity': 45.250132995460234, 'unit': '%'}, 'VITC': {'label': 'Vitamin C', 'quantity': 77.04334111159538, 'unit': '%'}, 'THIA': {'label': 'Thiamin (B1)', 'quantity': 631.6762218793446, 'unit': '%'}, 'RIBF': {'label': 'Riboflavin (B2)', 'quantity': 261.76164342714, 'unit': '%'}, 'NIA': {'label': 'Niacin (B3)', 'quantity': 286.7570231494342, 'unit': '%'}, 'VITB6A': {'label': 'Vitamin B6', 'quantity': 83.64370736333935, 'unit': '%'}, 'FOLDFE': {'label': 'Folate equivalent (total)', 'quantity': 448.89140914896615, 'unit': '%'}, 'VITB12': {'label': 'Vitamin B12', 'quantity': 6.241666666666666, 'unit': '%'}, 'VITD': {'label': 'Vitamin D', 'quantity': 3.7022222222222223, 'unit': '%'}, 'TOCPHA': {'label': 'Vitamin E', 'quantity': 64.20133531573116, 'unit': '%'}, 'VITK1': {'label': 'Vitamin K', 'quantity': 29.43782128486607, 'unit': '%'}}, 'digest': [{'label': 'Fat', 'tag': 'FAT', 'schemaOrgTag': 'fatContent', 'total': 70.85852721973856, 'hasRDI': True, 'daily': 109.01311879959779, 'unit': 'g', 'sub': [{'label': 'Saturated', 'tag': 'FASAT', 'schemaOrgTag': 'saturatedFatContent', 'total': 24.146169048868092, 'hasRDI': True, 'daily': 120.73084524434046, 'unit': 'g'}, {'label': 'Trans', 'tag': 'FATRN', 'schemaOrgTag': 'transFatContent', 'total': 0.0, 'hasRDI': False, 'daily': 0.0, 'unit': 'g'}, {'label': 'Monounsaturated', 'tag': 'FAMS', 'schemaOrgTag': None, 'total': 32.422316318640384, 'hasRDI': False, 'daily': 0.0, 'unit': 'g'}, {'label': 'Polyunsaturated', 'tag': 'FAPU', 'schemaOrgTag': None, 'total': 8.52380890119751, 'hasRDI': False, 'daily': 0.0, 'unit': 'g'}]}, {'label': 'Carbs', 'tag': 'CHOCDF', 'schemaOrgTag': 'carbohydrateContent', 'total': 422.0246006775219, 'hasRDI': True, 'daily': 140.67486689250728, 'unit': 'g', 'sub': [{'label': 'Carbs (net)', 'tag': 'CHOCDF.net', 'schemaOrgTag': None, 'total': 0.0, 'hasRDI': False, 'daily': 0.0, 'unit': 'g'}, {'label': 'Fiber', 'tag': 'FIBTG', 'schemaOrgTag': 'fiberContent', 'total': 26.7047133985592, 'hasRDI': True, 'daily': 106.81885359423681, 'unit': 'g'}, {'label': 'Sugars', 'tag': 'SUGAR', 'schemaOrgTag': 'sugarContent', 'total': 30.215096388254253, 'hasRDI': False, 'daily': 0.0, 'unit': 'g'}, {'label': 'Sugars, added', 'tag': 'SUGAR.added', 'schemaOrgTag': None, 'total': 6.137700000000001, 'hasRDI': False, 'daily': 0.0, 'unit': 'g'}]}, {'label': 'Protein', 'tag': 'PROCNT', 'schemaOrgTag': 'proteinContent', 'total': 73.06396909756897, 'hasRDI': True, 'daily': 146.12793819513794, 'unit': 'g'}, {'label': 'Cholesterol', 'tag': 'CHOLE', 'schemaOrgTag': 'cholesterolContent', 'total': 108.68666666666667, 'hasRDI': True, 'daily': 36.22888888888889, 'unit': 'mg'}, {'label': 'Sodium', 'tag': 'NA', 'schemaOrgTag': 'sodiumContent', 'total': 3782.255459576151, 'hasRDI': True, 'daily': 157.59397748233962, 'unit': 'mg'}, {'label': 'Calcium', 'tag': 'CA', 'schemaOrgTag': None, 'total': 334.29146530405507, 'hasRDI': True, 'daily': 33.42914653040551, 'unit': 'mg'}, {'label': 'Magnesium', 'tag': 'MG', 'schemaOrgTag': None, 'total': 208.73343054795708, 'hasRDI': True, 'daily': 49.698435844751685, 'unit': 'mg'}, {'label': 'Potassium', 'tag': 'K', 'schemaOrgTag': None, 'total': 1769.5171930720503, 'hasRDI': True, 'daily': 37.64930198025639, 'unit': 'mg'}, {'label': 'Iron', 'tag': 'FE', 'schemaOrgTag': None, 'total': 26.07861297605938, 'hasRDI': True, 'daily': 144.8811832003299, 'unit': 'mg'}, {'label': 'Zinc', 'tag': 'ZN', 'schemaOrgTag': None, 'total': 6.299787586540953, 'hasRDI': True, 'daily': 57.27079624128139, 'unit': 'mg'}, {'label': 'Phosphorus', 'tag': 'P', 'schemaOrgTag': None, 'total': 750.0567007480139, 'hasRDI': True, 'daily': 107.15095724971626, 'unit': 'mg'}, {'label': 'Vitamin A', 'tag': 'VITA_RAE', 'schemaOrgTag': None, 'total': 407.25119695914213, 'hasRDI': True, 'daily': 45.250132995460234, 'unit': 'µg'}, {'label': 'Vitamin C', 'tag': 'VITC', 'schemaOrgTag': None, 'total': 69.33900700043584, 'hasRDI': True, 'daily': 77.04334111159538, 'unit': 'mg'}, {'label': 'Thiamin (B1)', 'tag': 'THIA', 'schemaOrgTag': None, 'total': 7.580114662552134, 'hasRDI': True, 'daily': 631.6762218793446, 'unit': 'mg'}, {'label': 'Riboflavin (B2)', 'tag': 'RIBF', 'schemaOrgTag': None, 'total': 3.40290136455282, 'hasRDI': True, 'daily': 261.76164342714, 'unit': 'mg'}, {'label': 'Niacin (B3)', 'tag': 'NIA', 'schemaOrgTag': None, 'total': 45.881123703909466, 'hasRDI': True, 'daily': 286.7570231494342, 'unit': 'mg'}, {'label': 'Vitamin B6', 'tag': 'VITB6A', 'schemaOrgTag': None, 'total': 1.0873681957234116, 'hasRDI': True, 'daily': 83.64370736333935, 'unit': 'mg'}, {'label': 'Folate equivalent (total)', 'tag': 'FOLDFE', 'schemaOrgTag': None, 'total': 1795.5656365958646, 'hasRDI': True, 'daily': 448.89140914896615, 'unit': 'µg'}, {'label': 'Folate (food)', 'tag': 'FOLFD', 'schemaOrgTag': None, 'total': 485.50313659586453, 'hasRDI': False, 'daily': 0.0, 'unit': 'µg'}, {'label': 'Folic acid', 'tag': 'FOLAC', 'schemaOrgTag': None, 'total': 770.625, 'hasRDI': False, 'daily': 0.0, 'unit': 'µg'}, {'label': 'Vitamin B12', 'tag': 'VITB12', 'schemaOrgTag': None, 'total': 0.1498, 'hasRDI': True, 'daily': 6.241666666666666, 'unit': 'µg'}, {'label': 'Vitamin D', 'tag': 'VITD', 'schemaOrgTag': None, 'total': 0.5553333333333333, 'hasRDI': True, 'daily': 3.7022222222222223, 'unit': 'µg'}, {'label': 'Vitamin E', 'tag': 'TOCPHA', 'schemaOrgTag': None, 'total': 9.630200297359673, 'hasRDI': True, 'daily': 64.20133531573116, 'unit': 'mg'}, {'label': 'Vitamin K', 'tag': 'VITK1', 'schemaOrgTag': None, 'total': 35.32538554183929, 'hasRDI': True, 'daily': 29.43782128486607, 'unit': 'µg'}, {'label': 'Sugar alcohols', 'tag': 'Sugar.alcohol', 'schemaOrgTag': None, 'total': 0.0, 'hasRDI': False, 'daily': 0.0, 'unit': 'g'}, {'label': 'Water', 'tag': 'WATER', 'schemaOrgTag': None, 'total': 1052.8575604934392, 'hasRDI': False, 'daily': 0.0, 'unit': 'g'}]}]\n"
     ]
    }
   ],
   "source": [
    "testing = ['ceviche', 'pizza']\n",
    "output = []\n",
    "for i in testing:\n",
    "    output.append(get_recipe(i))\n",
    "    print(output)"
   ]
  },
  {
   "cell_type": "code",
   "execution_count": 25,
   "id": "4ee6ce89",
   "metadata": {
    "collapsed": true
   },
   "outputs": [
    {
     "data": {
      "text/plain": [
       "[{'text': \"Amarillo Chili Tiger's Milk\",\n",
       "  'quantity': 0.0,\n",
       "  'measure': None,\n",
       "  'food': 'Chili',\n",
       "  'weight': 43.716278133348865,\n",
       "  'foodCategory': 'vegetables',\n",
       "  'foodId': 'food_a6g98mqatzj7vca6ms3bnbzqxf3s',\n",
       "  'image': 'https://www.edamam.com/food-img/469/469213672957a242638e20c27e3e8acd.jpeg'},\n",
       " {'text': '1/4 inch (5 mm) piece fresh ginger, cut in half',\n",
       "  'quantity': 0.25,\n",
       "  'measure': 'piece',\n",
       "  'food': 'fresh ginger',\n",
       "  'weight': 3.75,\n",
       "  'foodCategory': 'vegetables',\n",
       "  'foodId': 'food_bi2ki2xb5zmmvbaiwf7ztbgktzp6',\n",
       "  'image': 'https://www.edamam.com/food-img/b9c/b9c06ef451ef29513880af0a53ebbaa6.jpg'},\n",
       " {'text': '1 small clove garlic, cut in half',\n",
       "  'quantity': 1.0,\n",
       "  'measure': 'clove',\n",
       "  'food': 'garlic',\n",
       "  'weight': 2.25,\n",
       "  'foodCategory': 'vegetables',\n",
       "  'foodId': 'food_avtcmx6bgjv1jvay6s6stan8dnyp',\n",
       "  'image': 'https://www.edamam.com/food-img/6ee/6ee142951f48aaf94f4312409f8d133d.jpg'},\n",
       " {'text': '4 roughly chopped cilantro sprigs',\n",
       "  'quantity': 4.0,\n",
       "  'measure': 'sprig',\n",
       "  'food': 'cilantro',\n",
       "  'weight': 8.88888888888889,\n",
       "  'foodCategory': 'vegetables',\n",
       "  'foodId': 'food_alhzhuwb4lc7jnb5s6f02by60bzp',\n",
       "  'image': 'https://www.edamam.com/food-img/d57/d57e375b6ff99a90c7ee2b1990a1af36.jpg'},\n",
       " {'text': '8 limes, juiced',\n",
       "  'quantity': 8.0,\n",
       "  'measure': '<unit>',\n",
       "  'food': 'limes',\n",
       "  'weight': 536.0,\n",
       "  'foodCategory': 'fruit',\n",
       "  'foodId': 'food_av58muyb8kg92fbk0g8g8aui5knv',\n",
       "  'image': 'https://www.edamam.com/food-img/48a/48a123c9576647c4ada6a41df5eeb22a.jpg'},\n",
       " {'text': '1/2 teaspoon salt',\n",
       "  'quantity': 0.5,\n",
       "  'measure': 'teaspoon',\n",
       "  'food': 'salt',\n",
       "  'weight': 3.0,\n",
       "  'foodCategory': 'Condiments and sauces',\n",
       "  'foodId': 'food_btxz81db72hwbra2pncvebzzzum9',\n",
       "  'image': 'https://www.edamam.com/food-img/694/6943ea510918c6025795e8dc6e6eaaeb.jpg'},\n",
       " {'text': '2 teaspoons Amarillo Chile Paste',\n",
       "  'quantity': 2.0,\n",
       "  'measure': 'teaspoon',\n",
       "  'food': 'Chile Paste',\n",
       "  'weight': 10.20833333385111,\n",
       "  'foodCategory': 'canned soup',\n",
       "  'foodId': 'food_ayjzfd9bhvwqorb6m5iq3bekq7cj',\n",
       "  'image': 'https://www.edamam.com/food-img/12f/12f4b9a8e738f35b7dd787a5360e4a45.jpg'},\n",
       " {'text': '1 large red onion, very thinly sliced',\n",
       "  'quantity': 1.0,\n",
       "  'measure': '<unit>',\n",
       "  'food': 'red onion',\n",
       "  'weight': 150.0,\n",
       "  'foodCategory': 'vegetables',\n",
       "  'foodId': 'food_bmrvi4ob4binw9a5m7l07amlfcoy',\n",
       "  'image': 'https://www.edamam.com/food-img/205/205e6bf2399b85d34741892ef91cc603.jpg'},\n",
       " {'text': '1 1/3 lb (600 g) sea bass fillet (or other white fish), skinned and trimmed',\n",
       "  'quantity': 1.3333333333333333,\n",
       "  'measure': 'pound',\n",
       "  'food': 'sea bass',\n",
       "  'weight': 604.7898266666666,\n",
       "  'foodCategory': 'seafood',\n",
       "  'foodId': 'food_al3s05wang1th2af87twla0jk24v',\n",
       "  'image': 'https://www.edamam.com/food-img/8b5/8b58f49cbed348dffbe1e43663a9e5e3.jpg'},\n",
       " {'text': \"Amarillo Chili Tiger's Milk (above)\",\n",
       "  'quantity': 0.0,\n",
       "  'measure': None,\n",
       "  'food': 'Chili',\n",
       "  'weight': 43.716278133348865,\n",
       "  'foodCategory': 'vegetables',\n",
       "  'foodId': 'food_a6g98mqatzj7vca6ms3bnbzqxf3s',\n",
       "  'image': 'https://www.edamam.com/food-img/469/469213672957a242638e20c27e3e8acd.jpeg'},\n",
       " {'text': 'A few cilantro sprigs, leaves finely chopped',\n",
       "  'quantity': 1.0,\n",
       "  'measure': 'sprig',\n",
       "  'food': 'cilantro',\n",
       "  'weight': 2.2222222222222223,\n",
       "  'foodCategory': 'vegetables',\n",
       "  'foodId': 'food_alhzhuwb4lc7jnb5s6f02by60bzp',\n",
       "  'image': 'https://www.edamam.com/food-img/d57/d57e375b6ff99a90c7ee2b1990a1af36.jpg'},\n",
       " {'text': '1 limo chili, seeded and finely chopped',\n",
       "  'quantity': 1.0,\n",
       "  'measure': '<unit>',\n",
       "  'food': 'chili',\n",
       "  'weight': 6.1,\n",
       "  'foodCategory': 'vegetables',\n",
       "  'foodId': 'food_akybxs9atrgwona5nz3jgbo3vor5',\n",
       "  'image': 'https://www.edamam.com/food-img/e3d/e3d161d6cfe5ef287053aed5461738ba.jpg'},\n",
       " {'text': '1 sweet potato, cooked and cut into small cubes',\n",
       "  'quantity': 1.0,\n",
       "  'measure': '<unit>',\n",
       "  'food': 'sweet potato',\n",
       "  'weight': 130.0,\n",
       "  'foodCategory': 'vegetables',\n",
       "  'foodId': 'food_bg68yf2b3dlfusawgs590bjloxfd',\n",
       "  'image': 'https://www.edamam.com/food-img/b66/b660e3d37b4ea9d58cb98e8ea73933b6.jpg'},\n",
       " {'text': 'Fine sea salt',\n",
       "  'quantity': 0.0,\n",
       "  'measure': None,\n",
       "  'food': 'Fine sea salt',\n",
       "  'weight': 8.743255626669773,\n",
       "  'foodCategory': 'Condiments and sauces',\n",
       "  'foodId': 'food_btxz81db72hwbra2pncvebzzzum9',\n",
       "  'image': 'https://www.edamam.com/food-img/694/6943ea510918c6025795e8dc6e6eaaeb.jpg'}]"
      ]
     },
     "execution_count": 25,
     "metadata": {},
     "output_type": "execute_result"
    }
   ],
   "source": [
    "ingredients = output[0]['ingredients']\n",
    "ingredients"
   ]
  },
  {
   "cell_type": "code",
   "execution_count": null,
   "id": "886f035c",
   "metadata": {},
   "outputs": [],
   "source": [
    "ingredients = []\n",
    "for _ in range(len(output)):\n",
    "    ingredients.append(output[_]['ingredients'])\n",
    "    import ipdb; ipdb.set_trace()\n",
    "    new_dict = collections.defaultdict(list)\n",
    "    for i in ingredients:\n",
    "        new_dict[i][\"ingredient\"].append(i['food'].lower())\n",
    "        new_dict[i][\"metric\"].append(i['measure'])"
   ]
  },
  {
   "cell_type": "code",
   "execution_count": 6,
   "id": "9ec8000f",
   "metadata": {},
   "outputs": [],
   "source": [
    "def get_ingredients(dish):\n",
    "    \n",
    "    #get ingredients from the call\n",
    "    recipe = get_recipe(dish)\n",
    "    servings = recipe['yield']\n",
    "    ingredients = recipe['ingredients']\n",
    "        \n",
    "    new_dict = collections.defaultdict(list)\n",
    "    \n",
    "    for i in ingredients:\n",
    "        new_dict[\"ingredient\"].append(i['food'].lower())\n",
    "        new_dict[\"value\"].append(round((i['quantity'] / servings), 2))\n",
    "        new_dict[\"metric\"].append(i['measure'])\n",
    "        \n",
    "    return new_dict"
   ]
  },
  {
   "cell_type": "code",
   "execution_count": 7,
   "id": "2b035405",
   "metadata": {
    "collapsed": true
   },
   "outputs": [
    {
     "ename": "KeyError",
     "evalue": "'hits'",
     "output_type": "error",
     "traceback": [
      "\u001b[0;31m---------------------------------------------------------------------------\u001b[0m",
      "\u001b[0;31mKeyError\u001b[0m                                  Traceback (most recent call last)",
      "\u001b[0;32m/var/folders/hh/p4vk315n37v9cbvvz605_lpr0000gq/T/ipykernel_20310/2790075324.py\u001b[0m in \u001b[0;36m<module>\u001b[0;34m\u001b[0m\n\u001b[0;32m----> 1\u001b[0;31m \u001b[0moutput\u001b[0m \u001b[0;34m=\u001b[0m \u001b[0mget_ingredients\u001b[0m\u001b[0;34m(\u001b[0m\u001b[0;34m'edamame'\u001b[0m\u001b[0;34m)\u001b[0m\u001b[0;34m\u001b[0m\u001b[0;34m\u001b[0m\u001b[0m\n\u001b[0m",
      "\u001b[0;32m/var/folders/hh/p4vk315n37v9cbvvz605_lpr0000gq/T/ipykernel_20310/492495086.py\u001b[0m in \u001b[0;36mget_ingredients\u001b[0;34m(dish)\u001b[0m\n\u001b[1;32m      2\u001b[0m \u001b[0;34m\u001b[0m\u001b[0m\n\u001b[1;32m      3\u001b[0m     \u001b[0;31m#get ingredients from the call\u001b[0m\u001b[0;34m\u001b[0m\u001b[0;34m\u001b[0m\u001b[0;34m\u001b[0m\u001b[0m\n\u001b[0;32m----> 4\u001b[0;31m     \u001b[0mrecipe\u001b[0m \u001b[0;34m=\u001b[0m \u001b[0mget_recipe\u001b[0m\u001b[0;34m(\u001b[0m\u001b[0mdish\u001b[0m\u001b[0;34m)\u001b[0m\u001b[0;34m\u001b[0m\u001b[0;34m\u001b[0m\u001b[0m\n\u001b[0m\u001b[1;32m      5\u001b[0m     \u001b[0mservings\u001b[0m \u001b[0;34m=\u001b[0m \u001b[0mrecipe\u001b[0m\u001b[0;34m[\u001b[0m\u001b[0;34m'yield'\u001b[0m\u001b[0;34m]\u001b[0m\u001b[0;34m\u001b[0m\u001b[0;34m\u001b[0m\u001b[0m\n\u001b[1;32m      6\u001b[0m     \u001b[0mingredients\u001b[0m \u001b[0;34m=\u001b[0m \u001b[0mrecipe\u001b[0m\u001b[0;34m[\u001b[0m\u001b[0;34m'ingredients'\u001b[0m\u001b[0;34m]\u001b[0m\u001b[0;34m\u001b[0m\u001b[0;34m\u001b[0m\u001b[0m\n",
      "\u001b[0;32m/var/folders/hh/p4vk315n37v9cbvvz605_lpr0000gq/T/ipykernel_20310/2466026342.py\u001b[0m in \u001b[0;36mget_recipe\u001b[0;34m(dish)\u001b[0m\n\u001b[1;32m      5\u001b[0m \u001b[0;34m\u001b[0m\u001b[0m\n\u001b[1;32m      6\u001b[0m     \u001b[0mresponse\u001b[0m \u001b[0;34m=\u001b[0m \u001b[0mrequests\u001b[0m\u001b[0;34m.\u001b[0m\u001b[0mrequest\u001b[0m\u001b[0;34m(\u001b[0m\u001b[0;34m\"GET\"\u001b[0m\u001b[0;34m,\u001b[0m\u001b[0murl\u001b[0m\u001b[0;34m)\u001b[0m\u001b[0;34m\u001b[0m\u001b[0;34m\u001b[0m\u001b[0m\n\u001b[0;32m----> 7\u001b[0;31m     \u001b[0mrecipe\u001b[0m \u001b[0;34m=\u001b[0m \u001b[0mresponse\u001b[0m\u001b[0;34m.\u001b[0m\u001b[0mjson\u001b[0m\u001b[0;34m(\u001b[0m\u001b[0;34m)\u001b[0m\u001b[0;34m[\u001b[0m\u001b[0;34m\"hits\"\u001b[0m\u001b[0;34m]\u001b[0m\u001b[0;34m[\u001b[0m\u001b[0;36m0\u001b[0m\u001b[0;34m]\u001b[0m\u001b[0;34m[\u001b[0m\u001b[0;34m'recipe'\u001b[0m\u001b[0;34m]\u001b[0m\u001b[0;34m[\u001b[0m\u001b[0;34m'ingredients'\u001b[0m\u001b[0;34m]\u001b[0m\u001b[0;34m\u001b[0m\u001b[0;34m\u001b[0m\u001b[0m\n\u001b[0m\u001b[1;32m      8\u001b[0m \u001b[0;34m\u001b[0m\u001b[0m\n\u001b[1;32m      9\u001b[0m     \u001b[0;32mreturn\u001b[0m \u001b[0mrecipe\u001b[0m\u001b[0;34m\u001b[0m\u001b[0;34m\u001b[0m\u001b[0m\n",
      "\u001b[0;31mKeyError\u001b[0m: 'hits'"
     ]
    }
   ],
   "source": [
    "output = get_ingredients('edamame')"
   ]
  },
  {
   "cell_type": "code",
   "execution_count": 5,
   "id": "d8c28888",
   "metadata": {
    "collapsed": true
   },
   "outputs": [
    {
     "ename": "NameError",
     "evalue": "name 'output' is not defined",
     "output_type": "error",
     "traceback": [
      "\u001b[0;31m---------------------------------------------------------------------------\u001b[0m",
      "\u001b[0;31mNameError\u001b[0m                                 Traceback (most recent call last)",
      "\u001b[0;32m/var/folders/hh/p4vk315n37v9cbvvz605_lpr0000gq/T/ipykernel_20286/2603850255.py\u001b[0m in \u001b[0;36m<module>\u001b[0;34m\u001b[0m\n\u001b[0;32m----> 1\u001b[0;31m \u001b[0;32mfor\u001b[0m \u001b[0mi\u001b[0m \u001b[0;32min\u001b[0m \u001b[0moutput\u001b[0m\u001b[0;34m[\u001b[0m\u001b[0;34m'ingredient'\u001b[0m\u001b[0;34m]\u001b[0m\u001b[0;34m:\u001b[0m\u001b[0;34m\u001b[0m\u001b[0;34m\u001b[0m\u001b[0m\n\u001b[0m\u001b[1;32m      2\u001b[0m     \u001b[0mi\u001b[0m\u001b[0;34m.\u001b[0m\u001b[0mto_csv\u001b[0m\u001b[0;34m(\u001b[0m\u001b[0;34m)\u001b[0m\u001b[0;34m\u001b[0m\u001b[0;34m\u001b[0m\u001b[0m\n",
      "\u001b[0;31mNameError\u001b[0m: name 'output' is not defined"
     ]
    }
   ],
   "source": [
    "for i in output['ingredient']:\n",
    "    i.to_csv()"
   ]
  },
  {
   "cell_type": "code",
   "execution_count": 168,
   "id": "1c0a14c4",
   "metadata": {},
   "outputs": [
    {
     "name": "stdout",
     "output_type": "stream",
     "text": [
      "None\n",
      "pound\n",
      "teaspoon\n"
     ]
    }
   ],
   "source": [
    "for i in output['metric']:\n",
    "    print(i)"
   ]
  },
  {
   "cell_type": "code",
   "execution_count": 8,
   "id": "75527c7b",
   "metadata": {
    "collapsed": true
   },
   "outputs": [
    {
     "data": {
      "text/html": [
       "<div>\n",
       "<style scoped>\n",
       "    .dataframe tbody tr th:only-of-type {\n",
       "        vertical-align: middle;\n",
       "    }\n",
       "\n",
       "    .dataframe tbody tr th {\n",
       "        vertical-align: top;\n",
       "    }\n",
       "\n",
       "    .dataframe thead th {\n",
       "        text-align: right;\n",
       "    }\n",
       "</style>\n",
       "<table border=\"1\" class=\"dataframe\">\n",
       "  <thead>\n",
       "    <tr style=\"text-align: right;\">\n",
       "      <th></th>\n",
       "      <th>ingredient</th>\n",
       "      <th>value</th>\n",
       "      <th>metric</th>\n",
       "    </tr>\n",
       "  </thead>\n",
       "  <tbody>\n",
       "    <tr>\n",
       "      <th>0</th>\n",
       "      <td>chili</td>\n",
       "      <td>0.00</td>\n",
       "      <td>None</td>\n",
       "    </tr>\n",
       "    <tr>\n",
       "      <th>1</th>\n",
       "      <td>fresh ginger</td>\n",
       "      <td>0.06</td>\n",
       "      <td>piece</td>\n",
       "    </tr>\n",
       "    <tr>\n",
       "      <th>2</th>\n",
       "      <td>garlic</td>\n",
       "      <td>0.25</td>\n",
       "      <td>clove</td>\n",
       "    </tr>\n",
       "    <tr>\n",
       "      <th>3</th>\n",
       "      <td>cilantro</td>\n",
       "      <td>1.00</td>\n",
       "      <td>sprig</td>\n",
       "    </tr>\n",
       "    <tr>\n",
       "      <th>4</th>\n",
       "      <td>limes</td>\n",
       "      <td>2.00</td>\n",
       "      <td>&lt;unit&gt;</td>\n",
       "    </tr>\n",
       "    <tr>\n",
       "      <th>5</th>\n",
       "      <td>salt</td>\n",
       "      <td>0.12</td>\n",
       "      <td>teaspoon</td>\n",
       "    </tr>\n",
       "    <tr>\n",
       "      <th>6</th>\n",
       "      <td>chile paste</td>\n",
       "      <td>0.50</td>\n",
       "      <td>teaspoon</td>\n",
       "    </tr>\n",
       "    <tr>\n",
       "      <th>7</th>\n",
       "      <td>red onion</td>\n",
       "      <td>0.25</td>\n",
       "      <td>&lt;unit&gt;</td>\n",
       "    </tr>\n",
       "    <tr>\n",
       "      <th>8</th>\n",
       "      <td>sea bass</td>\n",
       "      <td>0.33</td>\n",
       "      <td>pound</td>\n",
       "    </tr>\n",
       "    <tr>\n",
       "      <th>9</th>\n",
       "      <td>chili</td>\n",
       "      <td>0.00</td>\n",
       "      <td>None</td>\n",
       "    </tr>\n",
       "    <tr>\n",
       "      <th>10</th>\n",
       "      <td>cilantro</td>\n",
       "      <td>0.25</td>\n",
       "      <td>sprig</td>\n",
       "    </tr>\n",
       "    <tr>\n",
       "      <th>11</th>\n",
       "      <td>chili</td>\n",
       "      <td>0.25</td>\n",
       "      <td>&lt;unit&gt;</td>\n",
       "    </tr>\n",
       "    <tr>\n",
       "      <th>12</th>\n",
       "      <td>sweet potato</td>\n",
       "      <td>0.25</td>\n",
       "      <td>&lt;unit&gt;</td>\n",
       "    </tr>\n",
       "    <tr>\n",
       "      <th>13</th>\n",
       "      <td>fine sea salt</td>\n",
       "      <td>0.00</td>\n",
       "      <td>None</td>\n",
       "    </tr>\n",
       "  </tbody>\n",
       "</table>\n",
       "</div>"
      ],
      "text/plain": [
       "       ingredient  value    metric\n",
       "0           chili   0.00      None\n",
       "1    fresh ginger   0.06     piece\n",
       "2          garlic   0.25     clove\n",
       "3        cilantro   1.00     sprig\n",
       "4           limes   2.00    <unit>\n",
       "5            salt   0.12  teaspoon\n",
       "6     chile paste   0.50  teaspoon\n",
       "7       red onion   0.25    <unit>\n",
       "8        sea bass   0.33     pound\n",
       "9           chili   0.00      None\n",
       "10       cilantro   0.25     sprig\n",
       "11          chili   0.25    <unit>\n",
       "12   sweet potato   0.25    <unit>\n",
       "13  fine sea salt   0.00      None"
      ]
     },
     "execution_count": 8,
     "metadata": {},
     "output_type": "execute_result"
    }
   ],
   "source": [
    "pd.DataFrame.from_dict(output)"
   ]
  },
  {
   "cell_type": "markdown",
   "id": "6e34041c",
   "metadata": {},
   "source": [
    "## Metrics"
   ]
  },
  {
   "cell_type": "code",
   "execution_count": 186,
   "id": "f6a76c36",
   "metadata": {},
   "outputs": [],
   "source": [
    "df_metrics = pd.read_csv(\"Emission_computing/raw_metrics.csv\")"
   ]
  },
  {
   "cell_type": "code",
   "execution_count": 187,
   "id": "90da84a5",
   "metadata": {},
   "outputs": [
    {
     "data": {
      "text/plain": [
       "(241, 1)"
      ]
     },
     "execution_count": 187,
     "metadata": {},
     "output_type": "execute_result"
    }
   ],
   "source": [
    "df_metrics.shape"
   ]
  },
  {
   "cell_type": "code",
   "execution_count": 188,
   "id": "15644cf8",
   "metadata": {},
   "outputs": [
    {
     "data": {
      "text/plain": [
       "213"
      ]
     },
     "execution_count": 188,
     "metadata": {},
     "output_type": "execute_result"
    }
   ],
   "source": [
    "df_metrics.duplicated().sum()"
   ]
  },
  {
   "cell_type": "code",
   "execution_count": 189,
   "id": "82d4ee1d",
   "metadata": {},
   "outputs": [],
   "source": [
    "df_metrics.drop_duplicates(inplace=True, ignore_index=True)"
   ]
  },
  {
   "cell_type": "code",
   "execution_count": 190,
   "id": "ef79d348",
   "metadata": {},
   "outputs": [
    {
     "data": {
      "text/plain": [
       "(28, 1)"
      ]
     },
     "execution_count": 190,
     "metadata": {},
     "output_type": "execute_result"
    }
   ],
   "source": [
    "df_metrics.shape"
   ]
  },
  {
   "cell_type": "code",
   "execution_count": 191,
   "id": "03eeb4f5",
   "metadata": {},
   "outputs": [
    {
     "data": {
      "text/html": [
       "<div>\n",
       "<style scoped>\n",
       "    .dataframe tbody tr th:only-of-type {\n",
       "        vertical-align: middle;\n",
       "    }\n",
       "\n",
       "    .dataframe tbody tr th {\n",
       "        vertical-align: top;\n",
       "    }\n",
       "\n",
       "    .dataframe thead th {\n",
       "        text-align: right;\n",
       "    }\n",
       "</style>\n",
       "<table border=\"1\" class=\"dataframe\">\n",
       "  <thead>\n",
       "    <tr style=\"text-align: right;\">\n",
       "      <th></th>\n",
       "      <th>metric</th>\n",
       "    </tr>\n",
       "  </thead>\n",
       "  <tbody>\n",
       "    <tr>\n",
       "      <th>0</th>\n",
       "      <td>&lt;unit&gt;</td>\n",
       "    </tr>\n",
       "    <tr>\n",
       "      <th>1</th>\n",
       "      <td>tablespoon</td>\n",
       "    </tr>\n",
       "    <tr>\n",
       "      <th>2</th>\n",
       "      <td>ounce</td>\n",
       "    </tr>\n",
       "    <tr>\n",
       "      <th>3</th>\n",
       "      <td>teaspoon</td>\n",
       "    </tr>\n",
       "    <tr>\n",
       "      <th>4</th>\n",
       "      <td>None</td>\n",
       "    </tr>\n",
       "    <tr>\n",
       "      <th>5</th>\n",
       "      <td>piece</td>\n",
       "    </tr>\n",
       "    <tr>\n",
       "      <th>6</th>\n",
       "      <td>clove</td>\n",
       "    </tr>\n",
       "    <tr>\n",
       "      <th>7</th>\n",
       "      <td>sprig</td>\n",
       "    </tr>\n",
       "    <tr>\n",
       "      <th>8</th>\n",
       "      <td>pound</td>\n",
       "    </tr>\n",
       "    <tr>\n",
       "      <th>9</th>\n",
       "      <td>slice</td>\n",
       "    </tr>\n",
       "    <tr>\n",
       "      <th>10</th>\n",
       "      <td>leaf</td>\n",
       "    </tr>\n",
       "    <tr>\n",
       "      <th>11</th>\n",
       "      <td>cup</td>\n",
       "    </tr>\n",
       "    <tr>\n",
       "      <th>12</th>\n",
       "      <td>gram</td>\n",
       "    </tr>\n",
       "    <tr>\n",
       "      <th>13</th>\n",
       "      <td>squid</td>\n",
       "    </tr>\n",
       "    <tr>\n",
       "      <th>14</th>\n",
       "      <td>handful</td>\n",
       "    </tr>\n",
       "    <tr>\n",
       "      <th>15</th>\n",
       "      <td>lemon</td>\n",
       "    </tr>\n",
       "    <tr>\n",
       "      <th>16</th>\n",
       "      <td>wedge</td>\n",
       "    </tr>\n",
       "    <tr>\n",
       "      <th>17</th>\n",
       "      <td>serving</td>\n",
       "    </tr>\n",
       "    <tr>\n",
       "      <th>18</th>\n",
       "      <td>pinch</td>\n",
       "    </tr>\n",
       "    <tr>\n",
       "      <th>19</th>\n",
       "      <td>quart</td>\n",
       "    </tr>\n",
       "    <tr>\n",
       "      <th>20</th>\n",
       "      <td>package</td>\n",
       "    </tr>\n",
       "    <tr>\n",
       "      <th>21</th>\n",
       "      <td>bunch</td>\n",
       "    </tr>\n",
       "    <tr>\n",
       "      <th>22</th>\n",
       "      <td>milliliter</td>\n",
       "    </tr>\n",
       "    <tr>\n",
       "      <th>23</th>\n",
       "      <td>pod</td>\n",
       "    </tr>\n",
       "    <tr>\n",
       "      <th>24</th>\n",
       "      <td>strip</td>\n",
       "    </tr>\n",
       "    <tr>\n",
       "      <th>25</th>\n",
       "      <td>pack</td>\n",
       "    </tr>\n",
       "    <tr>\n",
       "      <th>26</th>\n",
       "      <td>link</td>\n",
       "    </tr>\n",
       "    <tr>\n",
       "      <th>27</th>\n",
       "      <td>loaf</td>\n",
       "    </tr>\n",
       "  </tbody>\n",
       "</table>\n",
       "</div>"
      ],
      "text/plain": [
       "        metric\n",
       "0       <unit>\n",
       "1   tablespoon\n",
       "2        ounce\n",
       "3     teaspoon\n",
       "4         None\n",
       "5        piece\n",
       "6        clove\n",
       "7        sprig\n",
       "8        pound\n",
       "9        slice\n",
       "10        leaf\n",
       "11         cup\n",
       "12        gram\n",
       "13       squid\n",
       "14     handful\n",
       "15       lemon\n",
       "16       wedge\n",
       "17     serving\n",
       "18       pinch\n",
       "19       quart\n",
       "20     package\n",
       "21       bunch\n",
       "22  milliliter\n",
       "23         pod\n",
       "24       strip\n",
       "25        pack\n",
       "26        link\n",
       "27        loaf"
      ]
     },
     "execution_count": 191,
     "metadata": {},
     "output_type": "execute_result"
    }
   ],
   "source": [
    "df_metrics"
   ]
  },
  {
   "cell_type": "code",
   "execution_count": 205,
   "id": "3e10148c",
   "metadata": {},
   "outputs": [],
   "source": [
    "df_metrics.to_csv(\"Emission_computing/clean_metrics.csv\", index = False)"
   ]
  },
  {
   "cell_type": "markdown",
   "id": "f4472137",
   "metadata": {},
   "source": [
    "## Ingredients"
   ]
  },
  {
   "cell_type": "code",
   "execution_count": 192,
   "id": "1d316924",
   "metadata": {},
   "outputs": [],
   "source": [
    "df_ingredients = pd.read_csv(\"Emission_computing/raw_ingredients.csv\")"
   ]
  },
  {
   "cell_type": "code",
   "execution_count": 193,
   "id": "8f3acbf5",
   "metadata": {},
   "outputs": [
    {
     "data": {
      "text/plain": [
       "(410, 1)"
      ]
     },
     "execution_count": 193,
     "metadata": {},
     "output_type": "execute_result"
    }
   ],
   "source": [
    "df_ingredients.shape"
   ]
  },
  {
   "cell_type": "code",
   "execution_count": 194,
   "id": "a426b33c",
   "metadata": {},
   "outputs": [
    {
     "data": {
      "text/plain": [
       "164"
      ]
     },
     "execution_count": 194,
     "metadata": {},
     "output_type": "execute_result"
    }
   ],
   "source": [
    "df_ingredients.duplicated().sum()"
   ]
  },
  {
   "cell_type": "code",
   "execution_count": 196,
   "id": "aa43fdb3",
   "metadata": {},
   "outputs": [],
   "source": [
    "df_ingredients.drop_duplicates(inplace=True, ignore_index=True)"
   ]
  },
  {
   "cell_type": "code",
   "execution_count": 197,
   "id": "9fb6bc5f",
   "metadata": {},
   "outputs": [
    {
     "data": {
      "text/plain": [
       "(246, 1)"
      ]
     },
     "execution_count": 197,
     "metadata": {},
     "output_type": "execute_result"
    }
   ],
   "source": [
    "df_ingredients.shape"
   ]
  },
  {
   "cell_type": "code",
   "execution_count": 200,
   "id": "207edd7f",
   "metadata": {},
   "outputs": [
    {
     "data": {
      "text/html": [
       "<div>\n",
       "<style scoped>\n",
       "    .dataframe tbody tr th:only-of-type {\n",
       "        vertical-align: middle;\n",
       "    }\n",
       "\n",
       "    .dataframe tbody tr th {\n",
       "        vertical-align: top;\n",
       "    }\n",
       "\n",
       "    .dataframe thead th {\n",
       "        text-align: right;\n",
       "    }\n",
       "</style>\n",
       "<table border=\"1\" class=\"dataframe\">\n",
       "  <thead>\n",
       "    <tr style=\"text-align: right;\">\n",
       "      <th></th>\n",
       "      <th>ingredients</th>\n",
       "    </tr>\n",
       "  </thead>\n",
       "  <tbody>\n",
       "    <tr>\n",
       "      <th>0</th>\n",
       "      <td>donuts</td>\n",
       "    </tr>\n",
       "    <tr>\n",
       "      <th>1</th>\n",
       "      <td>milk chocolate</td>\n",
       "    </tr>\n",
       "    <tr>\n",
       "      <th>2</th>\n",
       "      <td>milk</td>\n",
       "    </tr>\n",
       "    <tr>\n",
       "      <th>3</th>\n",
       "      <td>espresso</td>\n",
       "    </tr>\n",
       "    <tr>\n",
       "      <th>4</th>\n",
       "      <td>vanilla</td>\n",
       "    </tr>\n",
       "    <tr>\n",
       "      <th>...</th>\n",
       "      <td>...</td>\n",
       "    </tr>\n",
       "    <tr>\n",
       "      <th>241</th>\n",
       "      <td>capers</td>\n",
       "    </tr>\n",
       "    <tr>\n",
       "      <th>242</th>\n",
       "      <td>anchovy fillets</td>\n",
       "    </tr>\n",
       "    <tr>\n",
       "      <th>243</th>\n",
       "      <td>tabasco sauce</td>\n",
       "    </tr>\n",
       "    <tr>\n",
       "      <th>244</th>\n",
       "      <td>worcestershire sauce</td>\n",
       "    </tr>\n",
       "    <tr>\n",
       "      <th>245</th>\n",
       "      <td>edamame</td>\n",
       "    </tr>\n",
       "  </tbody>\n",
       "</table>\n",
       "<p>246 rows × 1 columns</p>\n",
       "</div>"
      ],
      "text/plain": [
       "              ingredients\n",
       "0                  donuts\n",
       "1          milk chocolate\n",
       "2                    milk\n",
       "3                espresso\n",
       "4                 vanilla\n",
       "..                    ...\n",
       "241                capers\n",
       "242       anchovy fillets\n",
       "243         tabasco sauce\n",
       "244  worcestershire sauce\n",
       "245               edamame\n",
       "\n",
       "[246 rows x 1 columns]"
      ]
     },
     "execution_count": 200,
     "metadata": {},
     "output_type": "execute_result"
    }
   ],
   "source": [
    "df_ingredients()"
   ]
  },
  {
   "cell_type": "code",
   "execution_count": 204,
   "id": "0b49fb90",
   "metadata": {},
   "outputs": [],
   "source": [
    "df_ingredients.to_csv(\"Emission_computing/clean_ingredients.csv\", index = False)"
   ]
  },
  {
   "cell_type": "code",
   "execution_count": null,
   "id": "edf12ae3",
   "metadata": {},
   "outputs": [],
   "source": [
    "raw_dishes = ['macarons',\n",
    " 'french_toast',\n",
    " 'lobster_bisque',\n",
    " 'prime_rib',\n",
    " 'pork_chop',\n",
    " 'guacamole',\n",
    " 'baby_back_ribs',\n",
    " 'mussels',\n",
    " 'beef_carpaccio',\n",
    " 'poutine',\n",
    " 'hot_and_sour_soup',\n",
    " 'seaweed_salad',\n",
    " 'foie_gras',\n",
    " 'dumplings',\n",
    " 'peking_duck',\n",
    " 'takoyaki',\n",
    " 'bibimbap',\n",
    " 'falafel',\n",
    " 'pulled_pork_sandwich',\n",
    " 'lobster_roll_sandwich',\n",
    " 'carrot_cake',\n",
    " 'beet_salad',\n",
    " 'panna_cotta',\n",
    " 'donuts',\n",
    " 'red_velvet_cake',\n",
    " 'grilled_cheese_sandwich',\n",
    " 'cannoli',\n",
    " 'spring_rolls',\n",
    " 'shrimp_and_grits',\n",
    " 'clam_chowder',\n",
    " 'omelette',\n",
    " 'fried_calamari',\n",
    " 'caprese_salad',\n",
    " 'oysters',\n",
    " 'scallops',\n",
    " 'ramen',\n",
    " 'grilled_salmon',\n",
    " 'croque_madame',\n",
    " 'filet_mignon',\n",
    " 'hamburger',\n",
    " 'spaghetti_carbonara',\n",
    " 'miso_soup',\n",
    " 'bread_pudding',\n",
    " 'lasagna',\n",
    " 'crab_cakes',\n",
    " 'cheesecake',\n",
    " 'spaghetti_bolognese',\n",
    " 'cup_cakes',\n",
    " 'creme_brulee',\n",
    " 'waffles',\n",
    " 'fish_and_chips',\n",
    " 'paella',\n",
    " 'macaroni_and_cheese',\n",
    " 'chocolate_mousse',\n",
    " 'ravioli',\n",
    " 'chicken_curry',\n",
    " 'caesar_salad',\n",
    " 'nachos',\n",
    " 'tiramisu',\n",
    " 'frozen_yogurt',\n",
    " 'ice_cream',\n",
    " 'risotto',\n",
    " 'club_sandwich',\n",
    " 'strawberry_shortcake',\n",
    " 'steak',\n",
    " 'churros',\n",
    " 'garlic_bread',\n",
    " 'baklava',\n",
    " 'bruschetta',\n",
    " 'hummus',\n",
    " 'chicken_wings',\n",
    " 'greek_salad',\n",
    " 'tuna_tartare',\n",
    " 'chocolate_cake',\n",
    " 'gyoza',\n",
    " 'eggs_benedict',\n",
    " 'deviled_eggs',\n",
    " 'samosa',\n",
    " 'sushi',\n",
    " 'breakfast_burrito',\n",
    " 'ceviche',\n",
    " 'beef_tartare',\n",
    " 'apple_pie',\n",
    " 'huevos_rancheros',\n",
    " 'beignets',\n",
    " 'pizza',\n",
    " 'edamame',\n",
    " 'french_onion_soup',\n",
    " 'hot_dog',\n",
    " 'tacos',\n",
    " 'chicken_quesadilla',\n",
    " 'pho',\n",
    " 'gnocchi',\n",
    " 'pancakes',\n",
    " 'fried_rice',\n",
    " 'cheese_plate',\n",
    " 'onion_rings',\n",
    " 'escargots',\n",
    " 'sashimi',\n",
    " 'pad_thai',\n",
    " 'french_fries']"
   ]
  },
  {
   "cell_type": "code",
   "execution_count": 3,
   "id": "c58ac7b7",
   "metadata": {},
   "outputs": [],
   "source": [
    "dishes = []\n",
    "for i in raw_dishes:\n",
    "    dishes.append(i.replace(\"_\", \" \"))\n",
    "    "
   ]
  },
  {
   "cell_type": "code",
   "execution_count": 10,
   "id": "7d79b6ac",
   "metadata": {},
   "outputs": [],
   "source": [
    "testing = ['macarons', 'french toast', 'lobster bisque', 'prime rib']"
   ]
  },
  {
   "cell_type": "code",
   "execution_count": null,
   "id": "ef2fc5ac",
   "metadata": {},
   "outputs": [],
   "source": []
  }
 ],
 "metadata": {
  "kernelspec": {
   "display_name": "Python 3 (ipykernel)",
   "language": "python",
   "name": "python3"
  },
  "language_info": {
   "codemirror_mode": {
    "name": "ipython",
    "version": 3
   },
   "file_extension": ".py",
   "mimetype": "text/x-python",
   "name": "python",
   "nbconvert_exporter": "python",
   "pygments_lexer": "ipython3",
   "version": "3.8.12"
  },
  "toc": {
   "base_numbering": 1,
   "nav_menu": {},
   "number_sections": true,
   "sideBar": true,
   "skip_h1_title": false,
   "title_cell": "Table of Contents",
   "title_sidebar": "Contents",
   "toc_cell": false,
   "toc_position": {},
   "toc_section_display": true,
   "toc_window_display": false
  }
 },
 "nbformat": 4,
 "nbformat_minor": 5
}
