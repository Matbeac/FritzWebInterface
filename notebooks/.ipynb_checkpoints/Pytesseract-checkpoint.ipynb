{
 "cells": [
  {
   "cell_type": "code",
   "execution_count": 1,
   "id": "3212ba0b",
   "metadata": {},
   "outputs": [],
   "source": [
    "from PIL import Image\n",
    "from pytesseract import pytesseract"
   ]
  },
  {
   "cell_type": "code",
   "execution_count": 3,
   "id": "52aaed71",
   "metadata": {},
   "outputs": [
    {
     "name": "stdout",
     "output_type": "stream",
     "text": [
      "Dish othe day\n",
      "\n",
      "  \n",
      "\n",
      "Salads\n",
      "\n",
      " \n",
      "\n",
      "(7 Gried goat cheese saad served on ami of salad eaves\n",
      "\n",
      "Grited chicken salad ona mixot eruncty salad eaves\n",
      "\n",
      "Pierogi (traditional Polish dumplings)\n",
      "\n",
      "Pierogi with meat\n",
      "x\n",
      "Galician-stye pierogi with cheese and potatoes\n",
      "\n",
      "x\n",
      "{\\) Pierogiwith mushroom and sauerkraut\n",
      "x\n",
      "* Also available in small portions- £6.90\n",
      "(Small portion of dumplings is NOT served with asoup)\n",
      "\n",
      "soe\n",
      "\n",
      "‘Soup for hot days - Cold soup\n",
      "\n",
      "EEE\n",
      "Junch hours:\n",
      "\n",
      "Monday 12pm- 6pm\n",
      "Tuesday - Friday 12pm - 3pm.\n",
      "\n"
     ]
    }
   ],
   "source": [
    "# Defining paths to tesseract.exe\n",
    "# and the image we would be using\n",
    "path_to_tesseract = r\"/usr/local/Cellar/tesseract/4.1.3/bin/tesseract\"\n",
    "image_path = r\"/Users/Nuria/Downloads/menu2.jpeg\"\n",
    "\n",
    "## Opening the image & storing it in an image object\n",
    "img = Image.open(image_path)\n",
    "  \n",
    "# Providing the tesseract executable\n",
    "# location to pytesseract library\n",
    "pytesseract.tesseract_cmd = path_to_tesseract\n",
    "  \n",
    "# Passing the image object to image_to_string() function\n",
    "# This function will extract the text from the image\n",
    "text = pytesseract.image_to_string(img)\n",
    "  \n",
    "# Displaying the extracted text\n",
    "print(text[:-1])"
   ]
  },
  {
   "cell_type": "code",
   "execution_count": null,
   "id": "e823fcf5",
   "metadata": {},
   "outputs": [],
   "source": []
  }
 ],
 "metadata": {
  "kernelspec": {
   "display_name": "Python 3 (ipykernel)",
   "language": "python",
   "name": "python3"
  },
  "language_info": {
   "codemirror_mode": {
    "name": "ipython",
    "version": 3
   },
   "file_extension": ".py",
   "mimetype": "text/x-python",
   "name": "python",
   "nbconvert_exporter": "python",
   "pygments_lexer": "ipython3",
   "version": "3.8.12"
  },
  "toc": {
   "base_numbering": 1,
   "nav_menu": {},
   "number_sections": true,
   "sideBar": true,
   "skip_h1_title": false,
   "title_cell": "Table of Contents",
   "title_sidebar": "Contents",
   "toc_cell": false,
   "toc_position": {},
   "toc_section_display": true,
   "toc_window_display": false
  }
 },
 "nbformat": 4,
 "nbformat_minor": 5
}
