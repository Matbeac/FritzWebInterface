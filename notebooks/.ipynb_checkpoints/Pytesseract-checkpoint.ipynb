{
 "cells": [
  {
   "cell_type": "code",
   "execution_count": 2,
   "id": "3212ba0b",
   "metadata": {},
   "outputs": [],
   "source": [
    "from PIL import Image\n",
    "from pytesseract import pytesseract"
   ]
  },
  {
   "cell_type": "code",
   "execution_count": 2,
   "id": "52aaed71",
   "metadata": {},
   "outputs": [
    {
     "name": "stdout",
     "output_type": "stream",
     "text": [
      "LONDON\n",
      "HOUSE\n",
      "\n",
      "A LA CARTE MENU\n",
      "\n",
      "Marinated Nocellara olives 5\n",
      "Harissa spiced nuts 3.5\n",
      "\n",
      "Bread basket, olive oil & aged balsamic 4.5\n",
      "\n",
      "STARTERS\n",
      "\n",
      "Burrata, heirloom tomato, basil & toasted sourdough 11.5\n",
      "Chicken Caesar salad, anchovies, croutons 12/17.5\n",
      "Hiramasa kingfish crudo, avocado, chili & ginger dressing 13.5\n",
      "\n",
      "Chicken & duck liver parfait, brioche & grape chutney L6\n",
      "\n",
      "MAINS\n",
      "Harissa roasted cauliflower, warm chickpea salad, chimichurri 20.5\n",
      "Grilled hake, romesco sauce, fennel & piquillo pepper 24\n",
      "Parsley & basil chicken Kiev, creamed potatoes, salsa verde 18\n",
      "Steak frites, roasted beef tomato, watercress 27\n",
      "BBQ lamb, labneh, fennel and chili slaw 26.5\n",
      "\n",
      "Fish & chips, tartare sauce, curry sauce, mushy peas 19.5\n",
      "\n",
      "SIDES\n",
      "\n",
      "Koffmann’s fries 5.5\n",
      "\n",
      "Heirloom tomato & basil salad 5.5\n",
      "\n",
      "Seasonal greens & sage dressing 5.5\n",
      "\n",
      "SWEETS\n",
      "Chocolate brownic, dulce de leche, caramel sundae 9\n",
      "Cinnamon doughnuts, passion [ruit curd 7\n",
      "Sticky toffee pudding & vanilla ice cream 9\n",
      "\n",
      "Mango sorbet, marinated berries 7.5\n",
      "\n",
      " \n",
      "\n",
      "If you have a food allergy, intolerance or sensitivity, please speak lo your sereer\n",
      "\n",
      "about ingredients in our dishes before you order your meal.\n",
      "\n",
      "   \n",
      "\n",
      "An optional 15% harge will be added to your All prices are inclusive of VAT.\n",
      "\n",
      " \n",
      "\n",
      "ere\n",
      "\n",
      "   \n",
      "\n",
      "rdsLondonTTouseGordonRamsay Eiiondonhousegordonramsay\n",
      "\n"
     ]
    }
   ],
   "source": [
    "# Defining paths to tesseract.exe\n",
    "# and the image we would be using\n",
    "path_to_tesseract = r\"/usr/local/Cellar/tesseract/4.1.3/bin/tesseract\"\n",
    "image_path = r\"../MS-Online-Menu-Mains-January.jpg\"\n",
    "\n",
    "## Opening the image & storing it in an image object\n",
    "img = Image.open(image_path)\n",
    "  \n",
    "# Providing the tesseract executable\n",
    "# location to pytesseract library\n",
    "pytesseract.tesseract_cmd = path_to_tesseract\n",
    "  \n",
    "# Passing the image object to image_to_string() function\n",
    "# This function will extract the text from the image\n",
    "text = pytesseract.image_to_string(img)\n",
    "  \n",
    "# Displaying the extracted text\n",
    "print(text[:-1])"
   ]
  },
  {
   "cell_type": "code",
   "execution_count": null,
   "id": "e823fcf5",
   "metadata": {},
   "outputs": [],
   "source": []
  }
 ],
 "metadata": {
  "kernelspec": {
   "display_name": "Python 3 (ipykernel)",
   "language": "python",
   "name": "python3"
  },
  "language_info": {
   "codemirror_mode": {
    "name": "ipython",
    "version": 3
   },
   "file_extension": ".py",
   "mimetype": "text/x-python",
   "name": "python",
   "nbconvert_exporter": "python",
   "pygments_lexer": "ipython3",
   "version": "3.8.12"
  },
  "toc": {
   "base_numbering": 1,
   "nav_menu": {},
   "number_sections": true,
   "sideBar": true,
   "skip_h1_title": false,
   "title_cell": "Table of Contents",
   "title_sidebar": "Contents",
   "toc_cell": false,
   "toc_position": {},
   "toc_section_display": true,
   "toc_window_display": false
  }
 },
 "nbformat": 4,
 "nbformat_minor": 5
}
