{
 "cells": [
  {
   "cell_type": "code",
   "execution_count": 1,
   "id": "eb6d7bdd",
   "metadata": {},
   "outputs": [],
   "source": [
    "import pandas as pd\n",
    "import numpy as np\n",
    "df=pd.read_csv('../Emission_computing/final_ingredients_emissions.csv')"
   ]
  },
  {
   "cell_type": "code",
   "execution_count": 3,
   "id": "0e72ee28",
   "metadata": {},
   "outputs": [],
   "source": [
    "def fill_empties(output_dict):\n",
    "    output_df=pd.DataFrame(output_dict)\n",
    "    output_df.metric=output_df.metric.astype(str)\n",
    "    for item in missing_values:\n",
    "        output_df.metric.replace(item, \"g\", inplace=True)\n",
    "    return output_df"
   ]
  },
  {
   "cell_type": "code",
   "execution_count": 2,
   "id": "5a0cb49e",
   "metadata": {},
   "outputs": [],
   "source": [
    "def match_ingredients(output_df):\n",
    "    final_dict={'ingredient':[], 'emission':[]}\n",
    "    missing_ingredients={'missing_ingredients':[]}\n",
    "    for ingredient in output_df['ingredient']:\n",
    "        # 1. Lemmatize \n",
    "        ingredient_words=re.split('\\s+', ingredient)\n",
    "        lemmatizer = WordNetLemmatizer()\n",
    "        lemmatized_output = ' '.join([lemmatizer.lemmatize(w) for w in ingredient_words])\n",
    "        \n",
    "        # 2. Try the whole lemmatized sentence\n",
    "        if df[df['ingredient'].str.match(r'.*'+str(lemmatized_output)+'.*')== True].ingredient.values.size>0:\n",
    "                final_dict['ingredient'].append(df[df['ingredient'].str.match(r'.*'+str(lemmatized_output)+'.*')== True].ingredient.values[0])\n",
    "                final_dict['emission'].append(df[df['ingredient'].str.match(r'.*'+str(lemmatized_output)+'.*')== True].emissions.values[0])\n",
    "        \n",
    "        # 3. If the lemmatized output does not work, try the words\n",
    "        else:\n",
    "            for word in ingredient_words:\n",
    "                try:\n",
    "                    final_dict['ingredient'].append(df[df['ingredient'].str.match(r'.*'+str(word)+'.*')== True].ingredient.values[0])\n",
    "                    final_dict['emission'].append(df[df['ingredient'].str.match(r'.*'+str(word)+'.*')== True].emissions.values[0])\n",
    "                except IndexError:\n",
    "                    missing_ingredients['missing_ingredients'].append(ingredient)\n",
    "            \n",
    "    final_df=pd.DataFrame(final_dict)\n",
    "    \n",
    "    \n",
    "    # Adding the columns \"value\" and metric from output_dict\n",
    "#     final_df=final_df.merge(output_df,on=\"ingredient\")\n",
    "#     final_df['value']=output_df['value']\n",
    "#     final_df['metric']=output_df['metric']\n",
    "    return final_df,missing_ingredients"
   ]
  },
  {
   "cell_type": "code",
   "execution_count": 5,
   "id": "da48ac51",
   "metadata": {},
   "outputs": [],
   "source": [
    "ingredients_df=pd.read_csv('../Emission_computing/clean_ingredients.csv')"
   ]
  },
  {
   "cell_type": "code",
   "execution_count": 6,
   "id": "9961dc76",
   "metadata": {},
   "outputs": [
    {
     "data": {
      "text/html": [
       "<div>\n",
       "<style scoped>\n",
       "    .dataframe tbody tr th:only-of-type {\n",
       "        vertical-align: middle;\n",
       "    }\n",
       "\n",
       "    .dataframe tbody tr th {\n",
       "        vertical-align: top;\n",
       "    }\n",
       "\n",
       "    .dataframe thead th {\n",
       "        text-align: right;\n",
       "    }\n",
       "</style>\n",
       "<table border=\"1\" class=\"dataframe\">\n",
       "  <thead>\n",
       "    <tr style=\"text-align: right;\">\n",
       "      <th></th>\n",
       "      <th>ingredients</th>\n",
       "    </tr>\n",
       "  </thead>\n",
       "  <tbody>\n",
       "    <tr>\n",
       "      <th>0</th>\n",
       "      <td>donuts</td>\n",
       "    </tr>\n",
       "    <tr>\n",
       "      <th>1</th>\n",
       "      <td>milk chocolate</td>\n",
       "    </tr>\n",
       "    <tr>\n",
       "      <th>2</th>\n",
       "      <td>milk</td>\n",
       "    </tr>\n",
       "    <tr>\n",
       "      <th>3</th>\n",
       "      <td>espresso</td>\n",
       "    </tr>\n",
       "    <tr>\n",
       "      <th>4</th>\n",
       "      <td>vanilla</td>\n",
       "    </tr>\n",
       "    <tr>\n",
       "      <th>...</th>\n",
       "      <td>...</td>\n",
       "    </tr>\n",
       "    <tr>\n",
       "      <th>241</th>\n",
       "      <td>capers</td>\n",
       "    </tr>\n",
       "    <tr>\n",
       "      <th>242</th>\n",
       "      <td>anchovy fillets</td>\n",
       "    </tr>\n",
       "    <tr>\n",
       "      <th>243</th>\n",
       "      <td>tabasco sauce</td>\n",
       "    </tr>\n",
       "    <tr>\n",
       "      <th>244</th>\n",
       "      <td>worcestershire sauce</td>\n",
       "    </tr>\n",
       "    <tr>\n",
       "      <th>245</th>\n",
       "      <td>edamame</td>\n",
       "    </tr>\n",
       "  </tbody>\n",
       "</table>\n",
       "<p>246 rows × 1 columns</p>\n",
       "</div>"
      ],
      "text/plain": [
       "              ingredients\n",
       "0                  donuts\n",
       "1          milk chocolate\n",
       "2                    milk\n",
       "3                espresso\n",
       "4                 vanilla\n",
       "..                    ...\n",
       "241                capers\n",
       "242       anchovy fillets\n",
       "243         tabasco sauce\n",
       "244  worcestershire sauce\n",
       "245               edamame\n",
       "\n",
       "[246 rows x 1 columns]"
      ]
     },
     "execution_count": 6,
     "metadata": {},
     "output_type": "execute_result"
    }
   ],
   "source": [
    "ingredients_df"
   ]
  },
  {
   "cell_type": "code",
   "execution_count": null,
   "id": "55063317",
   "metadata": {},
   "outputs": [],
   "source": []
  }
 ],
 "metadata": {
  "kernelspec": {
   "display_name": "Python 3 (ipykernel)",
   "language": "python",
   "name": "python3"
  },
  "language_info": {
   "codemirror_mode": {
    "name": "ipython",
    "version": 3
   },
   "file_extension": ".py",
   "mimetype": "text/x-python",
   "name": "python",
   "nbconvert_exporter": "python",
   "pygments_lexer": "ipython3",
   "version": "3.8.12"
  },
  "toc": {
   "base_numbering": 1,
   "nav_menu": {},
   "number_sections": true,
   "sideBar": true,
   "skip_h1_title": false,
   "title_cell": "Table of Contents",
   "title_sidebar": "Contents",
   "toc_cell": false,
   "toc_position": {},
   "toc_section_display": true,
   "toc_window_display": false
  }
 },
 "nbformat": 4,
 "nbformat_minor": 5
}
