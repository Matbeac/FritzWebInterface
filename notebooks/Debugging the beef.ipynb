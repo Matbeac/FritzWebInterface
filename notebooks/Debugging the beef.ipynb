{
 "cells": [
  {
   "cell_type": "code",
   "execution_count": 15,
   "id": "0f89d8c1",
   "metadata": {},
   "outputs": [
    {
     "name": "stderr",
     "output_type": "stream",
     "text": [
      "[nltk_data] Downloading package wordnet to /home/mateo/nltk_data...\n",
      "[nltk_data]   Package wordnet is already up-to-date!\n"
     ]
    },
    {
     "data": {
      "text/plain": [
       "True"
      ]
     },
     "execution_count": 15,
     "metadata": {},
     "output_type": "execute_result"
    }
   ],
   "source": [
    "from os import name\n",
    "import pandas as pd\n",
    "import numpy as np\n",
    "import nltk\n",
    "from nltk.stem import WordNetLemmatizer \n",
    "import re\n",
    "nltk.download('wordnet')"
   ]
  },
  {
   "cell_type": "code",
   "execution_count": 4,
   "id": "2e0fb523",
   "metadata": {
    "scrolled": true
   },
   "outputs": [
    {
     "name": "stderr",
     "output_type": "stream",
     "text": [
      "/home/mateo/.pyenv/versions/3.8.12/envs/FritzWebInterface/lib/python3.8/site-packages/IPython/core/interactiveshell.py:3444: FutureWarning: The error_bad_lines argument has been deprecated and will be removed in a future version.\n",
      "\n",
      "\n",
      "  exec(code_obj, self.user_global_ns, self.user_ns)\n",
      "b'Skipping line 280: expected 2 fields, saw 4\\n'\n"
     ]
    }
   ],
   "source": [
    "ingredient_file_path='../Emission_computing/final_ingredients_emissions.csv'\n",
    "df=pd.read_csv(ingredient_file_path,error_bad_lines=False)"
   ]
  },
  {
   "cell_type": "code",
   "execution_count": 6,
   "id": "a2d90804",
   "metadata": {},
   "outputs": [],
   "source": [
    "import requests\n",
    "import collections\n",
    "\n",
    "api_key = \"6f58acb8fe27ff8884f00b8451c098f5\"\n",
    "\n",
    "def get_recipe(dish):\n",
    "\n",
    "    #call API\n",
    "    url = f\"https://api.edamam.com/api/recipes/v2?type=public&q={dish}&app_id=4bc274b4&app_key={api_key}\"\n",
    "\n",
    "    response = requests.request(\"GET\",url)\n",
    "    recipe = response.json()[\"hits\"][0]['recipe']\n",
    "\n",
    "    return recipe\n",
    "\n",
    "def getingredients(dish):\n",
    "\n",
    "    #get ingredients from the call\n",
    "    recipe = get_recipe(dish)\n",
    "    servings = recipe['yield']\n",
    "    ingredients = recipe['ingredients']\n",
    "\n",
    "    new_dict = collections.defaultdict(list)\n",
    "\n",
    "    for i in ingredients:\n",
    "        new_dict[\"ingredient\"].append(i['food'].lower())\n",
    "        new_dict[\"weight\"].append(round((i['weight'] / servings), 2))\n",
    "        new_dict[\"foodCategory\"].append(i['foodCategory'])\n",
    "    return new_dict"
   ]
  },
  {
   "cell_type": "code",
   "execution_count": 24,
   "id": "938434ea",
   "metadata": {},
   "outputs": [],
   "source": [
    "def match_ingredients(output_df):\n",
    "    final_dict={'ingredient':[], 'emission':[],'weight':[]}\n",
    "    missing_ingredients={'missing_ingredients':[]}\n",
    "    \n",
    "    for ingredient in output_df['ingredient']:\n",
    "        \n",
    "        # 1. Lemmatize \n",
    "        ingredient_words=re.split('\\s+', ingredient)\n",
    "        lemmatizer = WordNetLemmatizer()\n",
    "        lemmatized_output = ' '.join([lemmatizer.lemmatize(w) for w in ingredient_words])\n",
    "        ingredient_words=re.split('\\s+', lemmatized_output)\n",
    "        \n",
    "        # 2. Try the whole lemmatized sentence\n",
    "        if df[df['ingredient'].str.match(r'.*'+str(lemmatized_output)+'.*')== True].ingredient.values.size>0:\n",
    "                final_dict['ingredient'].append(df[df['ingredient'].str.match(r'.*'+str(lemmatized_output)+'.*')== True].ingredient.values[0])\n",
    "                final_dict['emission'].append(df[df['ingredient'].str.match(r'.*'+str(lemmatized_output)+'.*')== True].emissions.values[0])\n",
    "                final_dict['weight'].append(output_df[output_df[\"ingredient\"]==ingredient].weight.iloc[0])\n",
    "                \n",
    "#                 final_dict['value'].append(output_df[output_df[\"ingredient\"]==ingredient].value.iloc[0])\n",
    "#                 final_dict['metric'].append(output_df[output_df[\"ingredient\"]==ingredient].metric.iloc[0])\n",
    "        # False\n",
    "        \n",
    "        # 3. If the lemmatized output does not work, try the words\n",
    "        else:\n",
    "            for word in ingredient_words:\n",
    "                # \"ground\" \n",
    "                # \"beef\"\n",
    "                try:\n",
    "                    final_dict['ingredient'].append(df[df['ingredient'].str.match(r'.*'+str(word)+'.*')== True].ingredient.iloc[0])\n",
    "                    final_dict['emission'].append(df[df['ingredient'].str.match(r'.*'+str(word)+'.*')== True].emissions.iloc[0])\n",
    "                    final_dict['weight'].append(output_df[output_df[\"ingredient\"]==ingredient].weight.iloc[0])\n",
    "\n",
    "#                     final_dict['value'].append(output_df[output_df[\"ingredient\"]==ingredient].value.iloc[0])\n",
    "#                     final_dict['metric'].append(output_df[output_df[\"ingredient\"]==ingredient].metric.iloc[0])                    \n",
    "                except IndexError:\n",
    "                    missing_ingredients['missing_ingredients'].append(ingredient)\n",
    "            \n",
    "#     final_df=pd.DataFrame.from_dict(final_dict)\n",
    "#     # Adding the columns \"value\" and metric from output_dict\n",
    "#     final_df=final_df.merge(output_df,on=\"ingredient\")\n",
    "    final_df=pd.DataFrame(final_dict)\n",
    "\n",
    "    return final_df,missing_ingredients"
   ]
  },
  {
   "cell_type": "code",
   "execution_count": null,
   "id": "12569b68",
   "metadata": {},
   "outputs": [],
   "source": []
  },
  {
   "cell_type": "code",
   "execution_count": 25,
   "id": "35f16bdc",
   "metadata": {},
   "outputs": [],
   "source": [
    "output_dict=getingredients('hamburger')"
   ]
  },
  {
   "cell_type": "code",
   "execution_count": 26,
   "id": "ae228a29",
   "metadata": {},
   "outputs": [],
   "source": [
    "output_df=pd.DataFrame(output_dict)"
   ]
  },
  {
   "cell_type": "code",
   "execution_count": 27,
   "id": "befc9b19",
   "metadata": {},
   "outputs": [
    {
     "data": {
      "text/html": [
       "<div>\n",
       "<style scoped>\n",
       "    .dataframe tbody tr th:only-of-type {\n",
       "        vertical-align: middle;\n",
       "    }\n",
       "\n",
       "    .dataframe tbody tr th {\n",
       "        vertical-align: top;\n",
       "    }\n",
       "\n",
       "    .dataframe thead th {\n",
       "        text-align: right;\n",
       "    }\n",
       "</style>\n",
       "<table border=\"1\" class=\"dataframe\">\n",
       "  <thead>\n",
       "    <tr style=\"text-align: right;\">\n",
       "      <th></th>\n",
       "      <th>ingredient</th>\n",
       "      <th>weight</th>\n",
       "      <th>foodCategory</th>\n",
       "    </tr>\n",
       "  </thead>\n",
       "  <tbody>\n",
       "    <tr>\n",
       "      <th>0</th>\n",
       "      <td>ground beef</td>\n",
       "      <td>56.70</td>\n",
       "      <td>meats</td>\n",
       "    </tr>\n",
       "    <tr>\n",
       "      <th>1</th>\n",
       "      <td>salt</td>\n",
       "      <td>0.64</td>\n",
       "      <td>Condiments and sauces</td>\n",
       "    </tr>\n",
       "    <tr>\n",
       "      <th>2</th>\n",
       "      <td>black pepper</td>\n",
       "      <td>0.32</td>\n",
       "      <td>Condiments and sauces</td>\n",
       "    </tr>\n",
       "    <tr>\n",
       "      <th>3</th>\n",
       "      <td>hamburger bun</td>\n",
       "      <td>21.00</td>\n",
       "      <td>bread, rolls and tortillas</td>\n",
       "    </tr>\n",
       "    <tr>\n",
       "      <th>4</th>\n",
       "      <td>tomato</td>\n",
       "      <td>16.88</td>\n",
       "      <td>vegetables</td>\n",
       "    </tr>\n",
       "    <tr>\n",
       "      <th>5</th>\n",
       "      <td>iceberg</td>\n",
       "      <td>2.50</td>\n",
       "      <td>vegetables</td>\n",
       "    </tr>\n",
       "    <tr>\n",
       "      <th>6</th>\n",
       "      <td>onion</td>\n",
       "      <td>10.40</td>\n",
       "      <td>vegetables</td>\n",
       "    </tr>\n",
       "  </tbody>\n",
       "</table>\n",
       "</div>"
      ],
      "text/plain": [
       "      ingredient  weight                foodCategory\n",
       "0    ground beef   56.70                       meats\n",
       "1           salt    0.64       Condiments and sauces\n",
       "2   black pepper    0.32       Condiments and sauces\n",
       "3  hamburger bun   21.00  bread, rolls and tortillas\n",
       "4         tomato   16.88                  vegetables\n",
       "5        iceberg    2.50                  vegetables\n",
       "6          onion   10.40                  vegetables"
      ]
     },
     "execution_count": 27,
     "metadata": {},
     "output_type": "execute_result"
    }
   ],
   "source": [
    "output_df"
   ]
  },
  {
   "cell_type": "code",
   "execution_count": 28,
   "id": "6a2e9e3e",
   "metadata": {},
   "outputs": [],
   "source": [
    "final_df,missing_ing=match_ingredients(output_df)"
   ]
  },
  {
   "cell_type": "code",
   "execution_count": 29,
   "id": "7c4d20ae",
   "metadata": {},
   "outputs": [
    {
     "data": {
      "text/html": [
       "<div>\n",
       "<style scoped>\n",
       "    .dataframe tbody tr th:only-of-type {\n",
       "        vertical-align: middle;\n",
       "    }\n",
       "\n",
       "    .dataframe tbody tr th {\n",
       "        vertical-align: top;\n",
       "    }\n",
       "\n",
       "    .dataframe thead th {\n",
       "        text-align: right;\n",
       "    }\n",
       "</style>\n",
       "<table border=\"1\" class=\"dataframe\">\n",
       "  <thead>\n",
       "    <tr style=\"text-align: right;\">\n",
       "      <th></th>\n",
       "      <th>ingredient</th>\n",
       "      <th>emission</th>\n",
       "      <th>weight</th>\n",
       "    </tr>\n",
       "  </thead>\n",
       "  <tbody>\n",
       "    <tr>\n",
       "      <th>0</th>\n",
       "      <td>groundnut oil</td>\n",
       "      <td>NaN</td>\n",
       "      <td>56.70</td>\n",
       "    </tr>\n",
       "    <tr>\n",
       "      <th>1</th>\n",
       "      <td>beef</td>\n",
       "      <td>43330.0</td>\n",
       "      <td>56.70</td>\n",
       "    </tr>\n",
       "    <tr>\n",
       "      <th>2</th>\n",
       "      <td>salt</td>\n",
       "      <td>1133.0</td>\n",
       "      <td>0.64</td>\n",
       "    </tr>\n",
       "    <tr>\n",
       "      <th>3</th>\n",
       "      <td>black pepper</td>\n",
       "      <td>1133.0</td>\n",
       "      <td>0.32</td>\n",
       "    </tr>\n",
       "    <tr>\n",
       "      <th>4</th>\n",
       "      <td>hamburger bun</td>\n",
       "      <td>1215.0</td>\n",
       "      <td>21.00</td>\n",
       "    </tr>\n",
       "    <tr>\n",
       "      <th>5</th>\n",
       "      <td>tomatoe</td>\n",
       "      <td>2905.0</td>\n",
       "      <td>16.88</td>\n",
       "    </tr>\n",
       "    <tr>\n",
       "      <th>6</th>\n",
       "      <td>iceberg</td>\n",
       "      <td>2063.0</td>\n",
       "      <td>2.50</td>\n",
       "    </tr>\n",
       "    <tr>\n",
       "      <th>7</th>\n",
       "      <td>onion</td>\n",
       "      <td>1051.0</td>\n",
       "      <td>10.40</td>\n",
       "    </tr>\n",
       "  </tbody>\n",
       "</table>\n",
       "</div>"
      ],
      "text/plain": [
       "      ingredient  emission  weight\n",
       "0  groundnut oil       NaN   56.70\n",
       "1           beef   43330.0   56.70\n",
       "2           salt    1133.0    0.64\n",
       "3   black pepper    1133.0    0.32\n",
       "4  hamburger bun    1215.0   21.00\n",
       "5        tomatoe    2905.0   16.88\n",
       "6        iceberg    2063.0    2.50\n",
       "7          onion    1051.0   10.40"
      ]
     },
     "execution_count": 29,
     "metadata": {},
     "output_type": "execute_result"
    }
   ],
   "source": [
    "final_df"
   ]
  },
  {
   "cell_type": "code",
   "execution_count": null,
   "id": "3334edf0",
   "metadata": {},
   "outputs": [],
   "source": []
  },
  {
   "cell_type": "code",
   "execution_count": null,
   "id": "edbe19e8",
   "metadata": {},
   "outputs": [],
   "source": []
  },
  {
   "cell_type": "code",
   "execution_count": null,
   "id": "cecba6f4",
   "metadata": {},
   "outputs": [],
   "source": []
  },
  {
   "cell_type": "code",
   "execution_count": null,
   "id": "852d0da7",
   "metadata": {},
   "outputs": [],
   "source": []
  },
  {
   "cell_type": "code",
   "execution_count": null,
   "id": "eb7bc8b0",
   "metadata": {},
   "outputs": [],
   "source": []
  },
  {
   "cell_type": "code",
   "execution_count": null,
   "id": "05b6e579",
   "metadata": {},
   "outputs": [],
   "source": []
  },
  {
   "cell_type": "code",
   "execution_count": null,
   "id": "bc89c0a4",
   "metadata": {},
   "outputs": [],
   "source": []
  }
 ],
 "metadata": {
  "kernelspec": {
   "display_name": "Python 3 (ipykernel)",
   "language": "python",
   "name": "python3"
  },
  "language_info": {
   "codemirror_mode": {
    "name": "ipython",
    "version": 3
   },
   "file_extension": ".py",
   "mimetype": "text/x-python",
   "name": "python",
   "nbconvert_exporter": "python",
   "pygments_lexer": "ipython3",
   "version": "3.8.12"
  },
  "toc": {
   "base_numbering": 1,
   "nav_menu": {},
   "number_sections": true,
   "sideBar": true,
   "skip_h1_title": false,
   "title_cell": "Table of Contents",
   "title_sidebar": "Contents",
   "toc_cell": false,
   "toc_position": {},
   "toc_section_display": true,
   "toc_window_display": false
  }
 },
 "nbformat": 4,
 "nbformat_minor": 5
}
