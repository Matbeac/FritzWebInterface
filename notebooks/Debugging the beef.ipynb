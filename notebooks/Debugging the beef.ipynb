{
 "cells": [
  {
   "cell_type": "code",
   "execution_count": 144,
   "id": "938434ea",
   "metadata": {},
   "outputs": [
    {
     "name": "stdout",
     "output_type": "stream",
     "text": [
      "defaultdict(<class 'list'>, {'ingredient': ['chili', 'fresh ginger', 'garlic', 'cilantro', 'limes', 'salt', 'chile paste', 'red onion', 'sea bass', 'chili', 'cilantro', 'chili', 'sweet potato', 'fine sea salt'], 'value': [0.0, 0.06, 0.25, 1.0, 2.0, 0.12, 0.5, 0.25, 0.33, 0.0, 0.25, 0.25, 0.25, 0.0], 'metric': [None, 'piece', 'clove', 'sprig', '<unit>', 'teaspoon', 'teaspoon', '<unit>', 'pound', None, 'sprig', '<unit>', '<unit>', None], 'foodCategory': ['vegetables', 'vegetables', 'vegetables', 'vegetables', 'fruit', 'Condiments and sauces', 'canned soup', 'vegetables', 'seafood', 'vegetables', 'vegetables', 'vegetables', 'vegetables', 'Condiments and sauces']})\n"
     ]
    }
   ],
   "source": [
    "import requests\n",
    "import collections\n",
    "\n",
    "api_key = \"6f58acb8fe27ff8884f00b8451c098f5\"\n",
    "\n",
    "def get_recipe(dish):\n",
    "\n",
    "    #call API\n",
    "    url = f\"https://api.edamam.com/api/recipes/v2?type=public&q={dish}&app_id=4bc274b4&app_key={api_key}\"\n",
    "\n",
    "    response = requests.request(\"GET\",url)\n",
    "    recipe = response.json()[\"hits\"][0]['recipe']\n",
    "\n",
    "    return recipe\n",
    "\n",
    "def getingredients(dish):\n",
    "\n",
    "    #get ingredients from the call\n",
    "    recipe = get_recipe(dish)\n",
    "    servings = recipe['yield']\n",
    "    ingredients = recipe['ingredients']\n",
    "\n",
    "    new_dict = collections.defaultdict(list)\n",
    "\n",
    "    for i in ingredients:\n",
    "        new_dict[\"ingredient\"].append(i['food'].lower())\n",
    "        new_dict[\"value\"].append(round((i['quantity'] / servings), 2))\n",
    "        new_dict[\"metric\"].append(i['measure'])\n",
    "        new_dict[\"foodCategory\"].append(i['foodCategory'])\n",
    "    return new_dict\n",
    "if __name__==\"__main__\":\n",
    "    print(getingredients(\"ceviche\"))"
   ]
  },
  {
   "cell_type": "code",
   "execution_count": 138,
   "id": "ee4c6773",
   "metadata": {},
   "outputs": [],
   "source": [
    "def get_recipe(dish):\n",
    "\n",
    "    #call API\n",
    "    url = f\"https://api.edamam.com/api/recipes/v2?type=public&q={dish}&app_id=4bc274b4&app_key={api_key}\"\n",
    "\n",
    "    response = requests.request(\"GET\",url)\n",
    "    recipe = response.json()[\"hits\"][0]['recipe']\n",
    "    return recipe"
   ]
  },
  {
   "cell_type": "code",
   "execution_count": 142,
   "id": "a9dade65",
   "metadata": {},
   "outputs": [],
   "source": [
    "ingredients=get_recipe(\"ceviche\")[\"ingredients\"]"
   ]
  },
  {
   "cell_type": "code",
   "execution_count": 143,
   "id": "6a2e9e3e",
   "metadata": {},
   "outputs": [
    {
     "name": "stdout",
     "output_type": "stream",
     "text": [
      "vegetables\n",
      "vegetables\n",
      "vegetables\n",
      "vegetables\n",
      "fruit\n",
      "Condiments and sauces\n",
      "canned soup\n",
      "vegetables\n",
      "seafood\n",
      "vegetables\n",
      "vegetables\n",
      "vegetables\n",
      "vegetables\n",
      "Condiments and sauces\n"
     ]
    }
   ],
   "source": [
    "for ingredient in ingredients:\n",
    "    ingredient['foodCategory'])"
   ]
  },
  {
   "cell_type": "code",
   "execution_count": 145,
   "id": "7918b550",
   "metadata": {},
   "outputs": [],
   "source": [
    "ingredient_list=[ingredient['foodCategory'] for ingredient in ingredients]"
   ]
  },
  {
   "cell_type": "code",
   "execution_count": 147,
   "id": "b6710f91",
   "metadata": {},
   "outputs": [],
   "source": [
    "import pandas as pd"
   ]
  },
  {
   "cell_type": "code",
   "execution_count": 151,
   "id": "39d3dbb8",
   "metadata": {},
   "outputs": [],
   "source": [
    "df=pd.DataFrame(ingredient_list)"
   ]
  },
  {
   "cell_type": "code",
   "execution_count": 153,
   "id": "b2e3bd9e",
   "metadata": {},
   "outputs": [],
   "source": [
    "df.columns=[\"ingredient\"]"
   ]
  },
  {
   "cell_type": "code",
   "execution_count": 158,
   "id": "c13991e7",
   "metadata": {},
   "outputs": [
    {
     "data": {
      "text/plain": [
       "0"
      ]
     },
     "execution_count": 158,
     "metadata": {},
     "output_type": "execute_result"
    }
   ],
   "source": [
    "df[df['ingredient']==\"meats\"].size>0"
   ]
  },
  {
   "cell_type": "code",
   "execution_count": null,
   "id": "7c4d20ae",
   "metadata": {},
   "outputs": [],
   "source": []
  }
 ],
 "metadata": {
  "kernelspec": {
   "display_name": "Python 3 (ipykernel)",
   "language": "python",
   "name": "python3"
  },
  "language_info": {
   "codemirror_mode": {
    "name": "ipython",
    "version": 3
   },
   "file_extension": ".py",
   "mimetype": "text/x-python",
   "name": "python",
   "nbconvert_exporter": "python",
   "pygments_lexer": "ipython3",
   "version": "3.8.12"
  },
  "toc": {
   "base_numbering": 1,
   "nav_menu": {},
   "number_sections": true,
   "sideBar": true,
   "skip_h1_title": false,
   "title_cell": "Table of Contents",
   "title_sidebar": "Contents",
   "toc_cell": false,
   "toc_position": {},
   "toc_section_display": true,
   "toc_window_display": false
  }
 },
 "nbformat": 4,
 "nbformat_minor": 5
}
