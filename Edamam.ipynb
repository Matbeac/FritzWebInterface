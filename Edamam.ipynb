{
 "cells": [
  {
   "cell_type": "markdown",
   "id": "4d4236b6",
   "metadata": {},
   "source": [
    "# Edamam"
   ]
  },
  {
   "cell_type": "code",
   "execution_count": 2,
   "id": "f2125088",
   "metadata": {},
   "outputs": [],
   "source": [
    "url = f\"https://api.edamam.com/api/recipes/v2?type=public&q={dish}&app_id={api_id}&app_key={api_key}\""
   ]
  },
  {
   "cell_type": "code",
   "execution_count": 1,
   "id": "2dfb1f5c",
   "metadata": {},
   "outputs": [],
   "source": [
    "dish = \"donuts\"\n",
    "api_id = \"4bc274b4\"\n",
    "api_key = \"6f58acb8fe27ff8884f00b8451c098f5\""
   ]
  },
  {
   "cell_type": "code",
   "execution_count": 6,
   "id": "de39e43d",
   "metadata": {},
   "outputs": [],
   "source": [
    "import requests\n",
    "\n",
    "response = requests.request(\"GET\",url)"
   ]
  },
  {
   "cell_type": "code",
   "execution_count": 42,
   "id": "a8b3b2bb",
   "metadata": {},
   "outputs": [],
   "source": [
    "ingredients = response.json()[\"hits\"][0]['recipe']['ingredients']"
   ]
  },
  {
   "cell_type": "code",
   "execution_count": 43,
   "id": "7cf6968c",
   "metadata": {
    "scrolled": true
   },
   "outputs": [
    {
     "data": {
      "text/plain": [
       "[{'text': '6 glazed donuts',\n",
       "  'quantity': 6.0,\n",
       "  'measure': '<unit>',\n",
       "  'food': 'donuts',\n",
       "  'weight': 488.0,\n",
       "  'foodCategory': 'quick breads and pastries',\n",
       "  'foodId': 'food_bkn02igawfwf5yab3xh38awgclmi',\n",
       "  'image': 'https://www.edamam.com/food-img/1f3/1f363e8dd146aa5c278aeabe956c558d.jpg'},\n",
       " {'text': '5 Ounces milk chocolate',\n",
       "  'quantity': 5.0,\n",
       "  'measure': 'ounce',\n",
       "  'food': 'milk chocolate',\n",
       "  'weight': 141.747615625,\n",
       "  'foodCategory': 'chocolate',\n",
       "  'foodId': 'food_bln15nrase9ec3by5dp50affuwzj',\n",
       "  'image': 'https://www.edamam.com/food-img/818/8181456202f62ca321fdaf8513ce3282.jpg'},\n",
       " {'text': '7 Tablespoons milk',\n",
       "  'quantity': 7.0,\n",
       "  'measure': 'tablespoon',\n",
       "  'food': 'milk',\n",
       "  'weight': 105.0,\n",
       "  'foodCategory': 'Milk',\n",
       "  'foodId': 'food_b49rs1kaw0jktabzkg2vvanvvsis',\n",
       "  'image': 'https://www.edamam.com/food-img/7c9/7c9962acf83654a8d98ea6a2ade93735.jpg'},\n",
       " {'text': '2 Teaspoons espresso powder',\n",
       "  'quantity': 2.0,\n",
       "  'measure': 'teaspoon',\n",
       "  'food': 'espresso',\n",
       "  'weight': 10.00000000050721,\n",
       "  'foodCategory': 'coffee and tea',\n",
       "  'foodId': 'food_bwvztweawd5emqbcu3dqua2ts9ol',\n",
       "  'image': 'https://www.edamam.com/food-img/433/43301ebd4f7c5903aa6bac567a890ac3.jpg'},\n",
       " {'text': '1 Teaspoon vanilla',\n",
       "  'quantity': 1.0,\n",
       "  'measure': 'teaspoon',\n",
       "  'food': 'vanilla',\n",
       "  'weight': 4.2,\n",
       "  'foodCategory': 'Condiments and sauces',\n",
       "  'foodId': 'food_bh1wvnqaw3q7ciascfoygaabax2a',\n",
       "  'image': 'https://www.edamam.com/food-img/90f/90f910b0bf82750d4f6528263e014cca.jpg'}]"
      ]
     },
     "execution_count": 43,
     "metadata": {},
     "output_type": "execute_result"
    }
   ],
   "source": [
    "ingredients"
   ]
  },
  {
   "cell_type": "code",
   "execution_count": 62,
   "id": "5ad5e3e8",
   "metadata": {},
   "outputs": [],
   "source": [
    "import requests\n",
    "import collections\n",
    "\n",
    "\n",
    "dish = \"ceviche\"\n",
    "api_id = \"4bc274b4\"\n",
    "api_key = \"6f58acb8fe27ff8884f00b8451c098f5\"\n",
    "\n",
    "def get_recipe(dish, api_id, api_key):\n",
    "    \n",
    "    #call API\n",
    "    url = f\"https://api.edamam.com/api/recipes/v2?type=public&q={dish}&app_id={api_id}&app_key={api_key}\"\n",
    "\n",
    "    response = requests.request(\"GET\",url)\n",
    "    recipe = response.json()[\"hits\"][0]['recipe']['ingredients']\n",
    "    \n",
    "    return recipe\n",
    "\n",
    "def get_ingredients(dish, api_id, api_key):\n",
    "    \n",
    "    #get ingredients from the call\n",
    "    ingredients = get_recipe(dish, api_id, api_key)\n",
    "        \n",
    "    new_dict = collections.defaultdict(list)\n",
    "    \n",
    "    for i in ingredients:\n",
    "        new_dict[\"ingredient\"].append(i['food'])\n",
    "        new_dict[\"value\"].append(i['quantity'])\n",
    "        new_dict[\"metric\"].append(i['measure'])\n",
    "        \n",
    "    return new_dict"
   ]
  },
  {
   "cell_type": "code",
   "execution_count": 63,
   "id": "00deb393",
   "metadata": {},
   "outputs": [
    {
     "data": {
      "text/plain": [
       "defaultdict(list,\n",
       "            {'ingredient': ['Chili',\n",
       "              'fresh ginger',\n",
       "              'garlic',\n",
       "              'cilantro',\n",
       "              'limes',\n",
       "              'salt',\n",
       "              'Chile Paste',\n",
       "              'red onion',\n",
       "              'sea bass',\n",
       "              'Chili',\n",
       "              'cilantro',\n",
       "              'chili',\n",
       "              'sweet potato',\n",
       "              'Fine sea salt'],\n",
       "             'value': [0.0,\n",
       "              0.25,\n",
       "              1.0,\n",
       "              4.0,\n",
       "              8.0,\n",
       "              0.5,\n",
       "              2.0,\n",
       "              1.0,\n",
       "              1.3333333333333333,\n",
       "              0.0,\n",
       "              1.0,\n",
       "              1.0,\n",
       "              1.0,\n",
       "              0.0],\n",
       "             'metric': [None,\n",
       "              'piece',\n",
       "              'clove',\n",
       "              'sprig',\n",
       "              '<unit>',\n",
       "              'teaspoon',\n",
       "              'teaspoon',\n",
       "              '<unit>',\n",
       "              'pound',\n",
       "              None,\n",
       "              'sprig',\n",
       "              '<unit>',\n",
       "              '<unit>',\n",
       "              None]})"
      ]
     },
     "execution_count": 63,
     "metadata": {},
     "output_type": "execute_result"
    }
   ],
   "source": [
    "get_ingredients(dish, api_id, api_key)"
   ]
  },
  {
   "cell_type": "code",
   "execution_count": null,
   "id": "e6653bca",
   "metadata": {},
   "outputs": [],
   "source": []
  }
 ],
 "metadata": {
  "kernelspec": {
   "display_name": "Python 3 (ipykernel)",
   "language": "python",
   "name": "python3"
  },
  "language_info": {
   "codemirror_mode": {
    "name": "ipython",
    "version": 3
   },
   "file_extension": ".py",
   "mimetype": "text/x-python",
   "name": "python",
   "nbconvert_exporter": "python",
   "pygments_lexer": "ipython3",
   "version": "3.8.12"
  },
  "toc": {
   "base_numbering": 1,
   "nav_menu": {},
   "number_sections": true,
   "sideBar": true,
   "skip_h1_title": false,
   "title_cell": "Table of Contents",
   "title_sidebar": "Contents",
   "toc_cell": false,
   "toc_position": {},
   "toc_section_display": true,
   "toc_window_display": false
  }
 },
 "nbformat": 4,
 "nbformat_minor": 5
}
